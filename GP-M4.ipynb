{
 "cells": [
  {
   "cell_type": "markdown",
   "metadata": {},
   "source": [
    "# Instructions\n",
    "\n",
    "1. Add your name below.\n",
    "2. Complete each question. Make sure you fill in any place that says `YOUR CODE HERE` or \"YOUR ANSWER HERE\", and delete and `throw NotImplementedError()` lines.\n",
    "3. Where applicable, run the test cases *below* each question to check your work.\n",
    "4. Before you turn this problem in, make sure everything runs as expected. First, **restart the kernel** (in the menubar, select Kernel$\\rightarrow$Restart) and then **run all cells** (in the menubar, select Cell$\\rightarrow$Run All). You can also use the **Validate** button to run all test cases.\n",
    "5. Turn in your homework by going to the main screen in JupyterHub, clicking the Assignments menu, and submitting.\n",
    "\n"
   ]
  },
  {
   "cell_type": "code",
   "execution_count": 2,
   "metadata": {},
   "outputs": [
    {
     "data": {
      "text/plain": [
       "'\\nName: xiaochun Liang\\n'"
      ]
     },
     "execution_count": 2,
     "metadata": {},
     "output_type": "execute_result"
    }
   ],
   "source": [
    "\"\"\"\n",
    "Name: xiaochun Liang\n",
    "\"\"\""
   ]
  },
  {
   "cell_type": "markdown",
   "metadata": {
    "deletable": false,
    "editable": false,
    "nbgrader": {
     "cell_type": "markdown",
     "checksum": "8810344407b693123661d4e2a7d191d7",
     "grade": false,
     "grade_id": "cell-ec0ed974e5ae45f5",
     "locked": true,
     "schema_version": 3,
     "solution": false,
     "task": false
    }
   },
   "source": [
    "## Data Loading"
   ]
  },
  {
   "cell_type": "code",
   "execution_count": 3,
   "metadata": {
    "deletable": false,
    "editable": false,
    "nbgrader": {
     "cell_type": "code",
     "checksum": "4105631366c39676cbbf0f9f4c379d2b",
     "grade": false,
     "grade_id": "cell-f1e9fb534bc38059",
     "locked": true,
     "schema_version": 3,
     "solution": false,
     "task": false
    }
   },
   "outputs": [],
   "source": [
    "import pandas as pd"
   ]
  },
  {
   "cell_type": "code",
   "execution_count": 4,
   "metadata": {
    "deletable": false,
    "editable": false,
    "nbgrader": {
     "cell_type": "code",
     "checksum": "fd9918759e3aaed516e7c1d95f876bbd",
     "grade": false,
     "grade_id": "cell-2daee3f99543afea",
     "locked": true,
     "schema_version": 3,
     "solution": false,
     "task": false
    }
   },
   "outputs": [
    {
     "data": {
      "text/html": [
       "<div>\n",
       "<style scoped>\n",
       "    .dataframe tbody tr th:only-of-type {\n",
       "        vertical-align: middle;\n",
       "    }\n",
       "\n",
       "    .dataframe tbody tr th {\n",
       "        vertical-align: top;\n",
       "    }\n",
       "\n",
       "    .dataframe thead th {\n",
       "        text-align: right;\n",
       "    }\n",
       "</style>\n",
       "<table border=\"1\" class=\"dataframe\">\n",
       "  <thead>\n",
       "    <tr style=\"text-align: right;\">\n",
       "      <th></th>\n",
       "      <th>Age</th>\n",
       "      <th>Attrition</th>\n",
       "      <th>BusinessTravel</th>\n",
       "      <th>DailyRate</th>\n",
       "      <th>Department</th>\n",
       "      <th>DistanceFromHome</th>\n",
       "      <th>Education</th>\n",
       "      <th>EducationField</th>\n",
       "      <th>EmployeeCount</th>\n",
       "      <th>EmployeeNumber</th>\n",
       "      <th>...</th>\n",
       "      <th>RelationshipSatisfaction</th>\n",
       "      <th>StandardHours</th>\n",
       "      <th>StockOptionLevel</th>\n",
       "      <th>TotalWorkingYears</th>\n",
       "      <th>TrainingTimesLastYear</th>\n",
       "      <th>WorkLifeBalance</th>\n",
       "      <th>YearsAtCompany</th>\n",
       "      <th>YearsInCurrentRole</th>\n",
       "      <th>YearsSinceLastPromotion</th>\n",
       "      <th>YearsWithCurrManager</th>\n",
       "    </tr>\n",
       "  </thead>\n",
       "  <tbody>\n",
       "    <tr>\n",
       "      <th>0</th>\n",
       "      <td>41</td>\n",
       "      <td>Yes</td>\n",
       "      <td>Travel_Rarely</td>\n",
       "      <td>1102</td>\n",
       "      <td>Sales</td>\n",
       "      <td>1</td>\n",
       "      <td>2</td>\n",
       "      <td>Life Sciences</td>\n",
       "      <td>1</td>\n",
       "      <td>1</td>\n",
       "      <td>...</td>\n",
       "      <td>1</td>\n",
       "      <td>80</td>\n",
       "      <td>0</td>\n",
       "      <td>8</td>\n",
       "      <td>0</td>\n",
       "      <td>1</td>\n",
       "      <td>6</td>\n",
       "      <td>4</td>\n",
       "      <td>0</td>\n",
       "      <td>5</td>\n",
       "    </tr>\n",
       "    <tr>\n",
       "      <th>1</th>\n",
       "      <td>49</td>\n",
       "      <td>No</td>\n",
       "      <td>Travel_Frequently</td>\n",
       "      <td>279</td>\n",
       "      <td>Research &amp; Development</td>\n",
       "      <td>8</td>\n",
       "      <td>1</td>\n",
       "      <td>Life Sciences</td>\n",
       "      <td>1</td>\n",
       "      <td>2</td>\n",
       "      <td>...</td>\n",
       "      <td>4</td>\n",
       "      <td>80</td>\n",
       "      <td>1</td>\n",
       "      <td>10</td>\n",
       "      <td>3</td>\n",
       "      <td>3</td>\n",
       "      <td>10</td>\n",
       "      <td>7</td>\n",
       "      <td>1</td>\n",
       "      <td>7</td>\n",
       "    </tr>\n",
       "    <tr>\n",
       "      <th>2</th>\n",
       "      <td>37</td>\n",
       "      <td>Yes</td>\n",
       "      <td>Travel_Rarely</td>\n",
       "      <td>1373</td>\n",
       "      <td>Research &amp; Development</td>\n",
       "      <td>2</td>\n",
       "      <td>2</td>\n",
       "      <td>Other</td>\n",
       "      <td>1</td>\n",
       "      <td>4</td>\n",
       "      <td>...</td>\n",
       "      <td>2</td>\n",
       "      <td>80</td>\n",
       "      <td>0</td>\n",
       "      <td>7</td>\n",
       "      <td>3</td>\n",
       "      <td>3</td>\n",
       "      <td>0</td>\n",
       "      <td>0</td>\n",
       "      <td>0</td>\n",
       "      <td>0</td>\n",
       "    </tr>\n",
       "    <tr>\n",
       "      <th>3</th>\n",
       "      <td>33</td>\n",
       "      <td>No</td>\n",
       "      <td>Travel_Frequently</td>\n",
       "      <td>1392</td>\n",
       "      <td>Research &amp; Development</td>\n",
       "      <td>3</td>\n",
       "      <td>4</td>\n",
       "      <td>Life Sciences</td>\n",
       "      <td>1</td>\n",
       "      <td>5</td>\n",
       "      <td>...</td>\n",
       "      <td>3</td>\n",
       "      <td>80</td>\n",
       "      <td>0</td>\n",
       "      <td>8</td>\n",
       "      <td>3</td>\n",
       "      <td>3</td>\n",
       "      <td>8</td>\n",
       "      <td>7</td>\n",
       "      <td>3</td>\n",
       "      <td>0</td>\n",
       "    </tr>\n",
       "    <tr>\n",
       "      <th>4</th>\n",
       "      <td>27</td>\n",
       "      <td>No</td>\n",
       "      <td>Travel_Rarely</td>\n",
       "      <td>591</td>\n",
       "      <td>Research &amp; Development</td>\n",
       "      <td>2</td>\n",
       "      <td>1</td>\n",
       "      <td>Medical</td>\n",
       "      <td>1</td>\n",
       "      <td>7</td>\n",
       "      <td>...</td>\n",
       "      <td>4</td>\n",
       "      <td>80</td>\n",
       "      <td>1</td>\n",
       "      <td>6</td>\n",
       "      <td>3</td>\n",
       "      <td>3</td>\n",
       "      <td>2</td>\n",
       "      <td>2</td>\n",
       "      <td>2</td>\n",
       "      <td>2</td>\n",
       "    </tr>\n",
       "    <tr>\n",
       "      <th>...</th>\n",
       "      <td>...</td>\n",
       "      <td>...</td>\n",
       "      <td>...</td>\n",
       "      <td>...</td>\n",
       "      <td>...</td>\n",
       "      <td>...</td>\n",
       "      <td>...</td>\n",
       "      <td>...</td>\n",
       "      <td>...</td>\n",
       "      <td>...</td>\n",
       "      <td>...</td>\n",
       "      <td>...</td>\n",
       "      <td>...</td>\n",
       "      <td>...</td>\n",
       "      <td>...</td>\n",
       "      <td>...</td>\n",
       "      <td>...</td>\n",
       "      <td>...</td>\n",
       "      <td>...</td>\n",
       "      <td>...</td>\n",
       "      <td>...</td>\n",
       "    </tr>\n",
       "    <tr>\n",
       "      <th>1465</th>\n",
       "      <td>36</td>\n",
       "      <td>No</td>\n",
       "      <td>Travel_Frequently</td>\n",
       "      <td>884</td>\n",
       "      <td>Research &amp; Development</td>\n",
       "      <td>23</td>\n",
       "      <td>2</td>\n",
       "      <td>Medical</td>\n",
       "      <td>1</td>\n",
       "      <td>2061</td>\n",
       "      <td>...</td>\n",
       "      <td>3</td>\n",
       "      <td>80</td>\n",
       "      <td>1</td>\n",
       "      <td>17</td>\n",
       "      <td>3</td>\n",
       "      <td>3</td>\n",
       "      <td>5</td>\n",
       "      <td>2</td>\n",
       "      <td>0</td>\n",
       "      <td>3</td>\n",
       "    </tr>\n",
       "    <tr>\n",
       "      <th>1466</th>\n",
       "      <td>39</td>\n",
       "      <td>No</td>\n",
       "      <td>Travel_Rarely</td>\n",
       "      <td>613</td>\n",
       "      <td>Research &amp; Development</td>\n",
       "      <td>6</td>\n",
       "      <td>1</td>\n",
       "      <td>Medical</td>\n",
       "      <td>1</td>\n",
       "      <td>2062</td>\n",
       "      <td>...</td>\n",
       "      <td>1</td>\n",
       "      <td>80</td>\n",
       "      <td>1</td>\n",
       "      <td>9</td>\n",
       "      <td>5</td>\n",
       "      <td>3</td>\n",
       "      <td>7</td>\n",
       "      <td>7</td>\n",
       "      <td>1</td>\n",
       "      <td>7</td>\n",
       "    </tr>\n",
       "    <tr>\n",
       "      <th>1467</th>\n",
       "      <td>27</td>\n",
       "      <td>No</td>\n",
       "      <td>Travel_Rarely</td>\n",
       "      <td>155</td>\n",
       "      <td>Research &amp; Development</td>\n",
       "      <td>4</td>\n",
       "      <td>3</td>\n",
       "      <td>Life Sciences</td>\n",
       "      <td>1</td>\n",
       "      <td>2064</td>\n",
       "      <td>...</td>\n",
       "      <td>2</td>\n",
       "      <td>80</td>\n",
       "      <td>1</td>\n",
       "      <td>6</td>\n",
       "      <td>0</td>\n",
       "      <td>3</td>\n",
       "      <td>6</td>\n",
       "      <td>2</td>\n",
       "      <td>0</td>\n",
       "      <td>3</td>\n",
       "    </tr>\n",
       "    <tr>\n",
       "      <th>1468</th>\n",
       "      <td>49</td>\n",
       "      <td>No</td>\n",
       "      <td>Travel_Frequently</td>\n",
       "      <td>1023</td>\n",
       "      <td>Sales</td>\n",
       "      <td>2</td>\n",
       "      <td>3</td>\n",
       "      <td>Medical</td>\n",
       "      <td>1</td>\n",
       "      <td>2065</td>\n",
       "      <td>...</td>\n",
       "      <td>4</td>\n",
       "      <td>80</td>\n",
       "      <td>0</td>\n",
       "      <td>17</td>\n",
       "      <td>3</td>\n",
       "      <td>2</td>\n",
       "      <td>9</td>\n",
       "      <td>6</td>\n",
       "      <td>0</td>\n",
       "      <td>8</td>\n",
       "    </tr>\n",
       "    <tr>\n",
       "      <th>1469</th>\n",
       "      <td>34</td>\n",
       "      <td>No</td>\n",
       "      <td>Travel_Rarely</td>\n",
       "      <td>628</td>\n",
       "      <td>Research &amp; Development</td>\n",
       "      <td>8</td>\n",
       "      <td>3</td>\n",
       "      <td>Medical</td>\n",
       "      <td>1</td>\n",
       "      <td>2068</td>\n",
       "      <td>...</td>\n",
       "      <td>1</td>\n",
       "      <td>80</td>\n",
       "      <td>0</td>\n",
       "      <td>6</td>\n",
       "      <td>3</td>\n",
       "      <td>4</td>\n",
       "      <td>4</td>\n",
       "      <td>3</td>\n",
       "      <td>1</td>\n",
       "      <td>2</td>\n",
       "    </tr>\n",
       "  </tbody>\n",
       "</table>\n",
       "<p>1470 rows × 35 columns</p>\n",
       "</div>"
      ],
      "text/plain": [
       "      Age Attrition     BusinessTravel  DailyRate              Department  \\\n",
       "0      41       Yes      Travel_Rarely       1102                   Sales   \n",
       "1      49        No  Travel_Frequently        279  Research & Development   \n",
       "2      37       Yes      Travel_Rarely       1373  Research & Development   \n",
       "3      33        No  Travel_Frequently       1392  Research & Development   \n",
       "4      27        No      Travel_Rarely        591  Research & Development   \n",
       "...   ...       ...                ...        ...                     ...   \n",
       "1465   36        No  Travel_Frequently        884  Research & Development   \n",
       "1466   39        No      Travel_Rarely        613  Research & Development   \n",
       "1467   27        No      Travel_Rarely        155  Research & Development   \n",
       "1468   49        No  Travel_Frequently       1023                   Sales   \n",
       "1469   34        No      Travel_Rarely        628  Research & Development   \n",
       "\n",
       "      DistanceFromHome  Education EducationField  EmployeeCount  \\\n",
       "0                    1          2  Life Sciences              1   \n",
       "1                    8          1  Life Sciences              1   \n",
       "2                    2          2          Other              1   \n",
       "3                    3          4  Life Sciences              1   \n",
       "4                    2          1        Medical              1   \n",
       "...                ...        ...            ...            ...   \n",
       "1465                23          2        Medical              1   \n",
       "1466                 6          1        Medical              1   \n",
       "1467                 4          3  Life Sciences              1   \n",
       "1468                 2          3        Medical              1   \n",
       "1469                 8          3        Medical              1   \n",
       "\n",
       "      EmployeeNumber  ...  RelationshipSatisfaction StandardHours  \\\n",
       "0                  1  ...                         1            80   \n",
       "1                  2  ...                         4            80   \n",
       "2                  4  ...                         2            80   \n",
       "3                  5  ...                         3            80   \n",
       "4                  7  ...                         4            80   \n",
       "...              ...  ...                       ...           ...   \n",
       "1465            2061  ...                         3            80   \n",
       "1466            2062  ...                         1            80   \n",
       "1467            2064  ...                         2            80   \n",
       "1468            2065  ...                         4            80   \n",
       "1469            2068  ...                         1            80   \n",
       "\n",
       "      StockOptionLevel  TotalWorkingYears  TrainingTimesLastYear  \\\n",
       "0                    0                  8                      0   \n",
       "1                    1                 10                      3   \n",
       "2                    0                  7                      3   \n",
       "3                    0                  8                      3   \n",
       "4                    1                  6                      3   \n",
       "...                ...                ...                    ...   \n",
       "1465                 1                 17                      3   \n",
       "1466                 1                  9                      5   \n",
       "1467                 1                  6                      0   \n",
       "1468                 0                 17                      3   \n",
       "1469                 0                  6                      3   \n",
       "\n",
       "     WorkLifeBalance  YearsAtCompany YearsInCurrentRole  \\\n",
       "0                  1               6                  4   \n",
       "1                  3              10                  7   \n",
       "2                  3               0                  0   \n",
       "3                  3               8                  7   \n",
       "4                  3               2                  2   \n",
       "...              ...             ...                ...   \n",
       "1465               3               5                  2   \n",
       "1466               3               7                  7   \n",
       "1467               3               6                  2   \n",
       "1468               2               9                  6   \n",
       "1469               4               4                  3   \n",
       "\n",
       "      YearsSinceLastPromotion  YearsWithCurrManager  \n",
       "0                           0                     5  \n",
       "1                           1                     7  \n",
       "2                           0                     0  \n",
       "3                           3                     0  \n",
       "4                           2                     2  \n",
       "...                       ...                   ...  \n",
       "1465                        0                     3  \n",
       "1466                        1                     7  \n",
       "1467                        0                     3  \n",
       "1468                        0                     8  \n",
       "1469                        1                     2  \n",
       "\n",
       "[1470 rows x 35 columns]"
      ]
     },
     "execution_count": 4,
     "metadata": {},
     "output_type": "execute_result"
    }
   ],
   "source": [
    "data = pd.read_csv('/etc/data/employees.csv')\n",
    "data"
   ]
  },
  {
   "cell_type": "markdown",
   "metadata": {
    "deletable": false,
    "editable": false,
    "nbgrader": {
     "cell_type": "markdown",
     "checksum": "47a7689afd894b4f4b276b0e848a42af",
     "grade": false,
     "grade_id": "cell-b136bbbef9175b2d",
     "locked": true,
     "schema_version": 3,
     "solution": false,
     "task": false
    }
   },
   "source": [
    "## Adding Protected Attributes and Train/Test Splitting"
   ]
  },
  {
   "cell_type": "code",
   "execution_count": 5,
   "metadata": {
    "deletable": false,
    "editable": false,
    "nbgrader": {
     "cell_type": "code",
     "checksum": "163d0972fd01c49e3fe6e33ed1005501",
     "grade": false,
     "grade_id": "cell-d9d89f31efdf769a",
     "locked": true,
     "schema_version": 3,
     "solution": false,
     "task": false
    }
   },
   "outputs": [],
   "source": [
    "from sklearn.preprocessing import LabelEncoder\n",
    "\n",
    "# Create X and y\n",
    "X = data.drop(['Attrition'], axis=1)\n",
    "y = data['Attrition']\n",
    "\n",
    "# Encode y\n",
    "label_encoder = LabelEncoder()\n",
    "y_encoded = label_encoder.fit_transform(y)"
   ]
  },
  {
   "cell_type": "markdown",
   "metadata": {
    "deletable": false,
    "editable": false,
    "nbgrader": {
     "cell_type": "markdown",
     "checksum": "a9aab24e4309e7e26b7bf6c05e69fb10",
     "grade": false,
     "grade_id": "cell-c79e7bae74e58631",
     "locked": true,
     "schema_version": 3,
     "solution": false,
     "task": false
    }
   },
   "source": [
    "In this milestone, we will also be working to address imbalances performance in our classifier, where the model performs better on the majority class (Attrition=No) than the minority class (Attrition=Yes).\n",
    "\n",
    "**Instructions**:\n",
    "* Calculate the percent of the y-values where `Attrition` is 1 (True).\n",
    "* Record this value in your Planning worksheet."
   ]
  },
  {
   "cell_type": "code",
   "execution_count": 6,
   "metadata": {
    "deletable": false,
    "nbgrader": {
     "cell_type": "code",
     "checksum": "94244100ab703f5e8d8663530a6549ac",
     "grade": false,
     "grade_id": "cell-6ffbdc2739ecb003",
     "locked": false,
     "schema_version": 3,
     "solution": true,
     "task": false
    }
   },
   "outputs": [
    {
     "data": {
      "text/plain": [
       "237"
      ]
     },
     "execution_count": 6,
     "metadata": {},
     "output_type": "execute_result"
    }
   ],
   "source": [
    "y_encoded.sum()"
   ]
  },
  {
   "cell_type": "code",
   "execution_count": 7,
   "metadata": {},
   "outputs": [],
   "source": [
    "percent_attrition = (y_encoded.sum() / len(y_encoded)) * 100"
   ]
  },
  {
   "cell_type": "code",
   "execution_count": 8,
   "metadata": {},
   "outputs": [
    {
     "data": {
      "text/plain": [
       "16.122448979591837"
      ]
     },
     "execution_count": 8,
     "metadata": {},
     "output_type": "execute_result"
    }
   ],
   "source": [
    "percent_attrition"
   ]
  },
  {
   "cell_type": "markdown",
   "metadata": {
    "deletable": false,
    "editable": false,
    "nbgrader": {
     "cell_type": "markdown",
     "checksum": "696d48b38557eb534f162207105dc995",
     "grade": false,
     "grade_id": "cell-7ea6b78e3be12214",
     "locked": true,
     "schema_version": 3,
     "solution": false,
     "task": false
    }
   },
   "source": [
    "In this milestone, we will be working witht he [AIF360 library](https://aif360.readthedocs.io/en/stable/Getting%20Started.html).\n",
    "\n",
    "In AIF360, we must explicitly identify our protected classes. To do so, we create a [Pandas index in our DataFrame](https://pandas.pydata.org/docs/reference/api/pandas.DataFrame.index.html), where the index of each row (instance) is the values of its protected attributes. By default, the index of a DataFrame will just be numbers, such as a `RangeIndex`."
   ]
  },
  {
   "cell_type": "code",
   "execution_count": 9,
   "metadata": {},
   "outputs": [
    {
     "data": {
      "text/plain": [
       "RangeIndex(start=0, stop=5, step=1)"
      ]
     },
     "execution_count": 9,
     "metadata": {},
     "output_type": "execute_result"
    }
   ],
   "source": [
    "X.head().index\n"
   ]
  },
  {
   "cell_type": "code",
   "execution_count": null,
   "metadata": {},
   "outputs": [],
   "source": []
  },
  {
   "cell_type": "code",
   "execution_count": 10,
   "metadata": {},
   "outputs": [
    {
     "data": {
      "text/plain": [
       "1470"
      ]
     },
     "execution_count": 10,
     "metadata": {},
     "output_type": "execute_result"
    }
   ],
   "source": [
    "X.Gender.count()"
   ]
  },
  {
   "cell_type": "code",
   "execution_count": null,
   "metadata": {},
   "outputs": [],
   "source": []
  },
  {
   "cell_type": "code",
   "execution_count": null,
   "metadata": {},
   "outputs": [],
   "source": []
  },
  {
   "cell_type": "code",
   "execution_count": 11,
   "metadata": {},
   "outputs": [
    {
     "data": {
      "text/plain": [
       "Male      882\n",
       "Female    588\n",
       "Name: Gender, dtype: int64"
      ]
     },
     "execution_count": 11,
     "metadata": {},
     "output_type": "execute_result"
    }
   ],
   "source": [
    "X.Gender.value_counts()"
   ]
  },
  {
   "cell_type": "code",
   "execution_count": null,
   "metadata": {},
   "outputs": [],
   "source": []
  },
  {
   "cell_type": "code",
   "execution_count": null,
   "metadata": {},
   "outputs": [],
   "source": []
  },
  {
   "cell_type": "markdown",
   "metadata": {
    "deletable": false,
    "editable": false,
    "nbgrader": {
     "cell_type": "markdown",
     "checksum": "99bc1979ea237457998ce02b960604f1",
     "grade": false,
     "grade_id": "cell-1f5ea51b17051405",
     "locked": true,
     "schema_version": 3,
     "solution": false,
     "task": false
    }
   },
   "source": [
    "**Instructions**\n",
    "* Assign `X.index` to have the value of `X.Gender`\n",
    "\n",
    "Relevant documentation:\n",
    "* [DataFrame.index](https://pandas.pydata.org/docs/reference/api/pandas.DataFrame.index.html)"
   ]
  },
  {
   "cell_type": "code",
   "execution_count": 12,
   "metadata": {
    "deletable": false,
    "nbgrader": {
     "cell_type": "code",
     "checksum": "37a2b17580bd7c635e6ea80160a0e449",
     "grade": false,
     "grade_id": "cell-b103c39f1ce1043b",
     "locked": false,
     "schema_version": 3,
     "solution": true,
     "task": false
    }
   },
   "outputs": [],
   "source": [
    "X.index = X.Gender"
   ]
  },
  {
   "cell_type": "code",
   "execution_count": 13,
   "metadata": {},
   "outputs": [
    {
     "data": {
      "text/plain": [
       "Index(['Female', 'Male', 'Male', 'Female', 'Male'], dtype='object', name='Gender')"
      ]
     },
     "execution_count": 13,
     "metadata": {},
     "output_type": "execute_result"
    }
   ],
   "source": [
    "X.head().index"
   ]
  },
  {
   "cell_type": "code",
   "execution_count": 14,
   "metadata": {
    "deletable": false,
    "editable": false,
    "nbgrader": {
     "cell_type": "code",
     "checksum": "ba3052c90d8a8575f91c3ea2e9e97fe2",
     "grade": true,
     "grade_id": "cell-e88becb9a072d0dc",
     "locked": true,
     "points": 1,
     "schema_version": 3,
     "solution": false,
     "task": false
    }
   },
   "outputs": [],
   "source": [
    "assert (X.index == X.Gender).all(), \"Make sure you have assigned X.index to X.Gender\""
   ]
  },
  {
   "cell_type": "markdown",
   "metadata": {
    "deletable": false,
    "editable": false,
    "nbgrader": {
     "cell_type": "markdown",
     "checksum": "61b4464b4c777f273e98335d654e43cd",
     "grade": false,
     "grade_id": "cell-0b63192ceecf21bd",
     "locked": true,
     "schema_version": 3,
     "solution": false,
     "task": false
    }
   },
   "source": [
    "Similarly, we need to store the index in our y labels."
   ]
  },
  {
   "cell_type": "code",
   "execution_count": 15,
   "metadata": {
    "deletable": false,
    "editable": false,
    "nbgrader": {
     "cell_type": "code",
     "checksum": "a8538ded4d3d9d382166cd7777976545",
     "grade": false,
     "grade_id": "cell-e543962f96879513",
     "locked": true,
     "schema_version": 3,
     "solution": false,
     "task": false
    }
   },
   "outputs": [
    {
     "data": {
      "text/plain": [
       "Gender\n",
       "Female    1\n",
       "Male      0\n",
       "Male      1\n",
       "Female    0\n",
       "Male      0\n",
       "dtype: int64"
      ]
     },
     "execution_count": 15,
     "metadata": {},
     "output_type": "execute_result"
    }
   ],
   "source": [
    "y_encoded = pd.Series(y_encoded, index=X.Gender)\n",
    "y_encoded.head()"
   ]
  },
  {
   "cell_type": "markdown",
   "metadata": {
    "deletable": false,
    "editable": false,
    "nbgrader": {
     "cell_type": "markdown",
     "checksum": "4d9c3a5a56c81232cd6479fc2c7c055b",
     "grade": false,
     "grade_id": "cell-cfc9b6173aed9e7b",
     "locked": true,
     "schema_version": 3,
     "solution": false,
     "task": false
    }
   },
   "source": [
    "Now we split the data into a 70/30 train/test split. We will use cross-validation, so there is no need for a validation dataset."
   ]
  },
  {
   "cell_type": "code",
   "execution_count": 16,
   "metadata": {
    "deletable": false,
    "editable": false,
    "nbgrader": {
     "cell_type": "code",
     "checksum": "d2c28d18330744e62d82bd4dcf38d3f7",
     "grade": false,
     "grade_id": "cell-a99c6850a555def3",
     "locked": true,
     "schema_version": 3,
     "solution": false,
     "task": false
    }
   },
   "outputs": [],
   "source": [
    "from sklearn.model_selection import train_test_split\n",
    "\n",
    "X_train, X_test, y_train, y_test = train_test_split(X, y_encoded, test_size=0.3, random_state=1234)"
   ]
  },
  {
   "cell_type": "code",
   "execution_count": 17,
   "metadata": {},
   "outputs": [
    {
     "name": "stdout",
     "output_type": "stream",
     "text": [
      "(1029, 34)\n",
      "(441, 34)\n",
      "(1029,)\n",
      "(441,)\n"
     ]
    }
   ],
   "source": [
    "print(X_train.shape)\n",
    "print(X_test.shape)\n",
    "print(y_train.shape)\n",
    "print(y_test.shape)"
   ]
  },
  {
   "cell_type": "code",
   "execution_count": 18,
   "metadata": {},
   "outputs": [
    {
     "data": {
      "text/plain": [
       "Male      619\n",
       "Female    410\n",
       "Name: Gender, dtype: int64"
      ]
     },
     "execution_count": 18,
     "metadata": {},
     "output_type": "execute_result"
    }
   ],
   "source": [
    "X_train.Gender.value_counts()"
   ]
  },
  {
   "cell_type": "code",
   "execution_count": 19,
   "metadata": {},
   "outputs": [
    {
     "data": {
      "text/plain": [
       "60.155490767735664"
      ]
     },
     "execution_count": 19,
     "metadata": {},
     "output_type": "execute_result"
    }
   ],
   "source": [
    "(619/( 410+619)) * 100"
   ]
  },
  {
   "cell_type": "code",
   "execution_count": 20,
   "metadata": {},
   "outputs": [],
   "source": [
    "# # Step 1: Filter y_train for female workers\n",
    "# female_attrition = y_train.loc['Female']\n",
    "\n",
    "# # Step 2: Count the number of female workers with Attrition = 1\n",
    "# female_attrition_true_count = (female_attrition == 1).sum()\n",
    "\n",
    "# # Step 3: Calculate the total number of female workers\n",
    "# total_female_count = len(female_attrition)\n",
    "\n",
    "# # Step 4: Calculate the percentage\n",
    "# percentage_female_attrition = (female_attrition_true_count / total_female_count) * 100\n",
    "\n",
    "# # Step 5: Print the result\n",
    "# print(f\"The percentage of female workers with Attrition = True is {percentage_female_attrition:.2f}%\")\n"
   ]
  },
  {
   "cell_type": "markdown",
   "metadata": {
    "deletable": false,
    "editable": false,
    "nbgrader": {
     "cell_type": "markdown",
     "checksum": "e94281b55216eed79c50eae7683f7e61",
     "grade": false,
     "grade_id": "cell-9cf8a41bd613b028",
     "locked": true,
     "schema_version": 3,
     "solution": false,
     "task": false
    }
   },
   "source": [
    "## The Preprocessing Pipeline"
   ]
  },
  {
   "cell_type": "markdown",
   "metadata": {
    "deletable": false,
    "editable": false,
    "nbgrader": {
     "cell_type": "markdown",
     "checksum": "060e09d292c3f656f455960d4b2cfc89",
     "grade": false,
     "grade_id": "cell-eddffb922f4186e8",
     "locked": true,
     "schema_version": 3,
     "solution": false,
     "task": false
    }
   },
   "source": [
    "We will use a similar preprocessing pipeline as in the prior milesone, with one major exception:\n",
    "* Rather than using a pipeline to combine our encoders and our `MinMaxScaler`, we will create a custom Transformer that does these operations.\n",
    "* The advantage of this is that we keep our dataset as a Pandas DataFrame, with the correct Index (Gender) value for each instance."
   ]
  },
  {
   "cell_type": "code",
   "execution_count": 21,
   "metadata": {
    "deletable": false,
    "editable": false,
    "nbgrader": {
     "cell_type": "code",
     "checksum": "cec68a703bd878d52fc35e54558445b3",
     "grade": false,
     "grade_id": "cell-44a3dfb37671519a",
     "locked": true,
     "schema_version": 3,
     "solution": false,
     "task": false
    }
   },
   "outputs": [],
   "source": [
    "# First, we copy our code from the last Milestone\n",
    "\n",
    "from sklearn.compose import make_column_transformer\n",
    "from sklearn.preprocessing import MinMaxScaler, OrdinalEncoder, OneHotEncoder\n",
    "\n",
    "nominal_columns = ['Department', 'EducationField', 'JobRole', 'MaritalStatus']\n",
    "ordinal_or_binary_columns = ['BusinessTravel', 'OverTime', 'Gender']\n",
    "irrelevant_columns = ['EmployeeNumber', 'EmployeeCount', 'StandardHours', 'Over18']\n",
    "\n",
    "ordinal_encoder = OrdinalEncoder(categories=[\n",
    "    ['Non-Travel', 'Travel_Rarely', 'Travel_Frequently'],\n",
    "    ['No', 'Yes'],\n",
    "    ['Male', 'Female'],\n",
    "])\n",
    "\n",
    "feature_encoder = make_column_transformer(\n",
    "    (OneHotEncoder(), nominal_columns),\n",
    "    (ordinal_encoder, ordinal_or_binary_columns),\n",
    "    ('drop', irrelevant_columns),\n",
    "    remainder='passthrough'\n",
    ")\n",
    "\n",
    "scaler = MinMaxScaler()"
   ]
  },
  {
   "cell_type": "markdown",
   "metadata": {
    "deletable": false,
    "editable": false,
    "nbgrader": {
     "cell_type": "markdown",
     "checksum": "c29b679680b117ecd8bab6dc41861aaf",
     "grade": false,
     "grade_id": "cell-20f0429cdf50a954",
     "locked": true,
     "schema_version": 3,
     "solution": false,
     "task": false
    }
   },
   "source": [
    "This `PreprocessingTransformer` acts very similar to a regular Pipeline:\n",
    "* When fitting to training data, it will fit the encoder, then transform the data, then fit the scaler (to the encoded training data).\n",
    "* When transforming the data, it will first encode it, then scale it.\n",
    "* The only difference is that rather than return the raw output of the MinMaxScaler (a numpy ndarray), it returns a Pandas DataFrame, with the original index values the input data."
   ]
  },
  {
   "cell_type": "code",
   "execution_count": 22,
   "metadata": {
    "deletable": false,
    "editable": false,
    "nbgrader": {
     "cell_type": "code",
     "checksum": "ba4d916634f6c5fc1b6e94c163104cf8",
     "grade": false,
     "grade_id": "cell-f5c7cc01bc18986a",
     "locked": true,
     "schema_version": 3,
     "solution": false,
     "task": false
    }
   },
   "outputs": [
    {
     "data": {
      "text/html": [
       "<div>\n",
       "<style scoped>\n",
       "    .dataframe tbody tr th:only-of-type {\n",
       "        vertical-align: middle;\n",
       "    }\n",
       "\n",
       "    .dataframe tbody tr th {\n",
       "        vertical-align: top;\n",
       "    }\n",
       "\n",
       "    .dataframe thead th {\n",
       "        text-align: right;\n",
       "    }\n",
       "</style>\n",
       "<table border=\"1\" class=\"dataframe\">\n",
       "  <thead>\n",
       "    <tr style=\"text-align: right;\">\n",
       "      <th></th>\n",
       "      <th>0</th>\n",
       "      <th>1</th>\n",
       "      <th>2</th>\n",
       "      <th>3</th>\n",
       "      <th>4</th>\n",
       "      <th>5</th>\n",
       "      <th>6</th>\n",
       "      <th>7</th>\n",
       "      <th>8</th>\n",
       "      <th>9</th>\n",
       "      <th>...</th>\n",
       "      <th>37</th>\n",
       "      <th>38</th>\n",
       "      <th>39</th>\n",
       "      <th>40</th>\n",
       "      <th>41</th>\n",
       "      <th>42</th>\n",
       "      <th>43</th>\n",
       "      <th>44</th>\n",
       "      <th>45</th>\n",
       "      <th>46</th>\n",
       "    </tr>\n",
       "    <tr>\n",
       "      <th>Gender</th>\n",
       "      <th></th>\n",
       "      <th></th>\n",
       "      <th></th>\n",
       "      <th></th>\n",
       "      <th></th>\n",
       "      <th></th>\n",
       "      <th></th>\n",
       "      <th></th>\n",
       "      <th></th>\n",
       "      <th></th>\n",
       "      <th></th>\n",
       "      <th></th>\n",
       "      <th></th>\n",
       "      <th></th>\n",
       "      <th></th>\n",
       "      <th></th>\n",
       "      <th></th>\n",
       "      <th></th>\n",
       "      <th></th>\n",
       "      <th></th>\n",
       "      <th></th>\n",
       "    </tr>\n",
       "  </thead>\n",
       "  <tbody>\n",
       "    <tr>\n",
       "      <th>Female</th>\n",
       "      <td>1.0</td>\n",
       "      <td>0.0</td>\n",
       "      <td>0.0</td>\n",
       "      <td>1.0</td>\n",
       "      <td>0.0</td>\n",
       "      <td>0.0</td>\n",
       "      <td>0.0</td>\n",
       "      <td>0.0</td>\n",
       "      <td>0.0</td>\n",
       "      <td>0.0</td>\n",
       "      <td>...</td>\n",
       "      <td>0.0</td>\n",
       "      <td>0.666667</td>\n",
       "      <td>0.000000</td>\n",
       "      <td>0.575</td>\n",
       "      <td>0.500000</td>\n",
       "      <td>0.666667</td>\n",
       "      <td>0.125</td>\n",
       "      <td>0.176471</td>\n",
       "      <td>0.266667</td>\n",
       "      <td>0.235294</td>\n",
       "    </tr>\n",
       "    <tr>\n",
       "      <th>Female</th>\n",
       "      <td>0.0</td>\n",
       "      <td>1.0</td>\n",
       "      <td>0.0</td>\n",
       "      <td>0.0</td>\n",
       "      <td>1.0</td>\n",
       "      <td>0.0</td>\n",
       "      <td>0.0</td>\n",
       "      <td>0.0</td>\n",
       "      <td>0.0</td>\n",
       "      <td>0.0</td>\n",
       "      <td>...</td>\n",
       "      <td>0.0</td>\n",
       "      <td>0.333333</td>\n",
       "      <td>0.000000</td>\n",
       "      <td>0.400</td>\n",
       "      <td>0.333333</td>\n",
       "      <td>0.666667</td>\n",
       "      <td>0.025</td>\n",
       "      <td>0.000000</td>\n",
       "      <td>0.000000</td>\n",
       "      <td>0.000000</td>\n",
       "    </tr>\n",
       "    <tr>\n",
       "      <th>Female</th>\n",
       "      <td>0.0</td>\n",
       "      <td>0.0</td>\n",
       "      <td>1.0</td>\n",
       "      <td>0.0</td>\n",
       "      <td>0.0</td>\n",
       "      <td>1.0</td>\n",
       "      <td>0.0</td>\n",
       "      <td>0.0</td>\n",
       "      <td>0.0</td>\n",
       "      <td>0.0</td>\n",
       "      <td>...</td>\n",
       "      <td>1.0</td>\n",
       "      <td>1.000000</td>\n",
       "      <td>1.000000</td>\n",
       "      <td>0.250</td>\n",
       "      <td>0.500000</td>\n",
       "      <td>0.333333</td>\n",
       "      <td>0.250</td>\n",
       "      <td>0.235294</td>\n",
       "      <td>0.066667</td>\n",
       "      <td>0.529412</td>\n",
       "    </tr>\n",
       "    <tr>\n",
       "      <th>Male</th>\n",
       "      <td>0.0</td>\n",
       "      <td>1.0</td>\n",
       "      <td>0.0</td>\n",
       "      <td>0.0</td>\n",
       "      <td>1.0</td>\n",
       "      <td>0.0</td>\n",
       "      <td>0.0</td>\n",
       "      <td>0.0</td>\n",
       "      <td>0.0</td>\n",
       "      <td>0.0</td>\n",
       "      <td>...</td>\n",
       "      <td>1.0</td>\n",
       "      <td>0.666667</td>\n",
       "      <td>0.333333</td>\n",
       "      <td>0.250</td>\n",
       "      <td>0.333333</td>\n",
       "      <td>0.333333</td>\n",
       "      <td>0.075</td>\n",
       "      <td>0.117647</td>\n",
       "      <td>0.000000</td>\n",
       "      <td>0.117647</td>\n",
       "    </tr>\n",
       "    <tr>\n",
       "      <th>Male</th>\n",
       "      <td>0.0</td>\n",
       "      <td>1.0</td>\n",
       "      <td>0.0</td>\n",
       "      <td>0.0</td>\n",
       "      <td>0.0</td>\n",
       "      <td>0.0</td>\n",
       "      <td>1.0</td>\n",
       "      <td>0.0</td>\n",
       "      <td>0.0</td>\n",
       "      <td>0.0</td>\n",
       "      <td>...</td>\n",
       "      <td>0.0</td>\n",
       "      <td>1.000000</td>\n",
       "      <td>0.000000</td>\n",
       "      <td>0.025</td>\n",
       "      <td>0.833333</td>\n",
       "      <td>0.666667</td>\n",
       "      <td>0.025</td>\n",
       "      <td>0.000000</td>\n",
       "      <td>0.066667</td>\n",
       "      <td>0.058824</td>\n",
       "    </tr>\n",
       "    <tr>\n",
       "      <th>...</th>\n",
       "      <td>...</td>\n",
       "      <td>...</td>\n",
       "      <td>...</td>\n",
       "      <td>...</td>\n",
       "      <td>...</td>\n",
       "      <td>...</td>\n",
       "      <td>...</td>\n",
       "      <td>...</td>\n",
       "      <td>...</td>\n",
       "      <td>...</td>\n",
       "      <td>...</td>\n",
       "      <td>...</td>\n",
       "      <td>...</td>\n",
       "      <td>...</td>\n",
       "      <td>...</td>\n",
       "      <td>...</td>\n",
       "      <td>...</td>\n",
       "      <td>...</td>\n",
       "      <td>...</td>\n",
       "      <td>...</td>\n",
       "      <td>...</td>\n",
       "    </tr>\n",
       "    <tr>\n",
       "      <th>Male</th>\n",
       "      <td>1.0</td>\n",
       "      <td>0.0</td>\n",
       "      <td>0.0</td>\n",
       "      <td>1.0</td>\n",
       "      <td>0.0</td>\n",
       "      <td>0.0</td>\n",
       "      <td>0.0</td>\n",
       "      <td>0.0</td>\n",
       "      <td>0.0</td>\n",
       "      <td>0.0</td>\n",
       "      <td>...</td>\n",
       "      <td>0.0</td>\n",
       "      <td>0.333333</td>\n",
       "      <td>0.333333</td>\n",
       "      <td>0.250</td>\n",
       "      <td>0.666667</td>\n",
       "      <td>0.666667</td>\n",
       "      <td>0.075</td>\n",
       "      <td>0.117647</td>\n",
       "      <td>0.066667</td>\n",
       "      <td>0.117647</td>\n",
       "    </tr>\n",
       "    <tr>\n",
       "      <th>Male</th>\n",
       "      <td>0.0</td>\n",
       "      <td>1.0</td>\n",
       "      <td>0.0</td>\n",
       "      <td>0.0</td>\n",
       "      <td>0.0</td>\n",
       "      <td>0.0</td>\n",
       "      <td>0.0</td>\n",
       "      <td>0.0</td>\n",
       "      <td>1.0</td>\n",
       "      <td>0.0</td>\n",
       "      <td>...</td>\n",
       "      <td>0.0</td>\n",
       "      <td>0.666667</td>\n",
       "      <td>0.000000</td>\n",
       "      <td>0.275</td>\n",
       "      <td>0.333333</td>\n",
       "      <td>0.000000</td>\n",
       "      <td>0.225</td>\n",
       "      <td>0.411765</td>\n",
       "      <td>0.000000</td>\n",
       "      <td>0.411765</td>\n",
       "    </tr>\n",
       "    <tr>\n",
       "      <th>Male</th>\n",
       "      <td>0.0</td>\n",
       "      <td>1.0</td>\n",
       "      <td>0.0</td>\n",
       "      <td>0.0</td>\n",
       "      <td>0.0</td>\n",
       "      <td>0.0</td>\n",
       "      <td>1.0</td>\n",
       "      <td>0.0</td>\n",
       "      <td>0.0</td>\n",
       "      <td>0.0</td>\n",
       "      <td>...</td>\n",
       "      <td>0.0</td>\n",
       "      <td>0.333333</td>\n",
       "      <td>0.000000</td>\n",
       "      <td>0.275</td>\n",
       "      <td>0.500000</td>\n",
       "      <td>1.000000</td>\n",
       "      <td>0.275</td>\n",
       "      <td>0.470588</td>\n",
       "      <td>0.200000</td>\n",
       "      <td>0.588235</td>\n",
       "    </tr>\n",
       "    <tr>\n",
       "      <th>Male</th>\n",
       "      <td>0.0</td>\n",
       "      <td>1.0</td>\n",
       "      <td>0.0</td>\n",
       "      <td>0.0</td>\n",
       "      <td>0.0</td>\n",
       "      <td>0.0</td>\n",
       "      <td>1.0</td>\n",
       "      <td>0.0</td>\n",
       "      <td>0.0</td>\n",
       "      <td>0.0</td>\n",
       "      <td>...</td>\n",
       "      <td>0.0</td>\n",
       "      <td>0.333333</td>\n",
       "      <td>0.333333</td>\n",
       "      <td>0.325</td>\n",
       "      <td>0.500000</td>\n",
       "      <td>0.666667</td>\n",
       "      <td>0.200</td>\n",
       "      <td>0.411765</td>\n",
       "      <td>0.000000</td>\n",
       "      <td>0.411765</td>\n",
       "    </tr>\n",
       "    <tr>\n",
       "      <th>Female</th>\n",
       "      <td>0.0</td>\n",
       "      <td>1.0</td>\n",
       "      <td>0.0</td>\n",
       "      <td>0.0</td>\n",
       "      <td>0.0</td>\n",
       "      <td>0.0</td>\n",
       "      <td>0.0</td>\n",
       "      <td>0.0</td>\n",
       "      <td>1.0</td>\n",
       "      <td>0.0</td>\n",
       "      <td>...</td>\n",
       "      <td>0.0</td>\n",
       "      <td>0.666667</td>\n",
       "      <td>0.000000</td>\n",
       "      <td>0.050</td>\n",
       "      <td>1.000000</td>\n",
       "      <td>1.000000</td>\n",
       "      <td>0.050</td>\n",
       "      <td>0.117647</td>\n",
       "      <td>0.133333</td>\n",
       "      <td>0.117647</td>\n",
       "    </tr>\n",
       "  </tbody>\n",
       "</table>\n",
       "<p>1029 rows × 47 columns</p>\n",
       "</div>"
      ],
      "text/plain": [
       "         0    1    2    3    4    5    6    7    8    9   ...   37        38  \\\n",
       "Gender                                                    ...                  \n",
       "Female  1.0  0.0  0.0  1.0  0.0  0.0  0.0  0.0  0.0  0.0  ...  0.0  0.666667   \n",
       "Female  0.0  1.0  0.0  0.0  1.0  0.0  0.0  0.0  0.0  0.0  ...  0.0  0.333333   \n",
       "Female  0.0  0.0  1.0  0.0  0.0  1.0  0.0  0.0  0.0  0.0  ...  1.0  1.000000   \n",
       "Male    0.0  1.0  0.0  0.0  1.0  0.0  0.0  0.0  0.0  0.0  ...  1.0  0.666667   \n",
       "Male    0.0  1.0  0.0  0.0  0.0  0.0  1.0  0.0  0.0  0.0  ...  0.0  1.000000   \n",
       "...     ...  ...  ...  ...  ...  ...  ...  ...  ...  ...  ...  ...       ...   \n",
       "Male    1.0  0.0  0.0  1.0  0.0  0.0  0.0  0.0  0.0  0.0  ...  0.0  0.333333   \n",
       "Male    0.0  1.0  0.0  0.0  0.0  0.0  0.0  0.0  1.0  0.0  ...  0.0  0.666667   \n",
       "Male    0.0  1.0  0.0  0.0  0.0  0.0  1.0  0.0  0.0  0.0  ...  0.0  0.333333   \n",
       "Male    0.0  1.0  0.0  0.0  0.0  0.0  1.0  0.0  0.0  0.0  ...  0.0  0.333333   \n",
       "Female  0.0  1.0  0.0  0.0  0.0  0.0  0.0  0.0  1.0  0.0  ...  0.0  0.666667   \n",
       "\n",
       "              39     40        41        42     43        44        45  \\\n",
       "Gender                                                                   \n",
       "Female  0.000000  0.575  0.500000  0.666667  0.125  0.176471  0.266667   \n",
       "Female  0.000000  0.400  0.333333  0.666667  0.025  0.000000  0.000000   \n",
       "Female  1.000000  0.250  0.500000  0.333333  0.250  0.235294  0.066667   \n",
       "Male    0.333333  0.250  0.333333  0.333333  0.075  0.117647  0.000000   \n",
       "Male    0.000000  0.025  0.833333  0.666667  0.025  0.000000  0.066667   \n",
       "...          ...    ...       ...       ...    ...       ...       ...   \n",
       "Male    0.333333  0.250  0.666667  0.666667  0.075  0.117647  0.066667   \n",
       "Male    0.000000  0.275  0.333333  0.000000  0.225  0.411765  0.000000   \n",
       "Male    0.000000  0.275  0.500000  1.000000  0.275  0.470588  0.200000   \n",
       "Male    0.333333  0.325  0.500000  0.666667  0.200  0.411765  0.000000   \n",
       "Female  0.000000  0.050  1.000000  1.000000  0.050  0.117647  0.133333   \n",
       "\n",
       "              46  \n",
       "Gender            \n",
       "Female  0.235294  \n",
       "Female  0.000000  \n",
       "Female  0.529412  \n",
       "Male    0.117647  \n",
       "Male    0.058824  \n",
       "...          ...  \n",
       "Male    0.117647  \n",
       "Male    0.411765  \n",
       "Male    0.588235  \n",
       "Male    0.411765  \n",
       "Female  0.117647  \n",
       "\n",
       "[1029 rows x 47 columns]"
      ]
     },
     "execution_count": 22,
     "metadata": {},
     "output_type": "execute_result"
    }
   ],
   "source": [
    "from sklearn.base import BaseEstimator, TransformerMixin\n",
    "\n",
    "class PreprocessingTransformer(BaseEstimator, TransformerMixin):\n",
    "    def fit(self, X, y=None):\n",
    "        X_encoded = feature_encoder.fit_transform(X)\n",
    "        scaler.fit(X_encoded)\n",
    "        return self\n",
    "\n",
    "    def transform(self, X, y=None):\n",
    "        X_scaled = scaler.transform(feature_encoder.transform(X))\n",
    "        # Return the \n",
    "        return pd.DataFrame(X_scaled, index=X.index)\n",
    "\n",
    "preprocessing_pipeline = PreprocessingTransformer()\n",
    "preprocessing_pipeline.fit_transform(X_train)"
   ]
  },
  {
   "cell_type": "markdown",
   "metadata": {
    "deletable": false,
    "editable": false,
    "nbgrader": {
     "cell_type": "markdown",
     "checksum": "94da1a28f13c80422d393123fbd74593",
     "grade": false,
     "grade_id": "cell-75086cbe3e84e787",
     "locked": true,
     "schema_version": 3,
     "solution": false,
     "task": false
    }
   },
   "source": [
    "Notice that output is a DataFrame and it has an index called `Gender`."
   ]
  },
  {
   "cell_type": "markdown",
   "metadata": {
    "deletable": false,
    "editable": false,
    "nbgrader": {
     "cell_type": "markdown",
     "checksum": "3d9efbe00928f66d02b4c62c0662ac00",
     "grade": false,
     "grade_id": "cell-265fa5a66de3f58c",
     "locked": true,
     "schema_version": 3,
     "solution": false,
     "task": false
    }
   },
   "source": [
    "## Models for Comparison"
   ]
  },
  {
   "cell_type": "markdown",
   "metadata": {
    "deletable": false,
    "editable": false,
    "nbgrader": {
     "cell_type": "markdown",
     "checksum": "f14eb6b39fae04f8a20196af24896330",
     "grade": false,
     "grade_id": "cell-b7c145ba8c4232d7",
     "locked": true,
     "schema_version": 3,
     "solution": false,
     "task": false
    }
   },
   "source": [
    "Normally we would want to use GridSearchCV again to ensure hyperparameter tuning with our decision tree, but because its just a baseline, we can take a shortcut and hard-code some decent hyperparameter values we found in the last milestone."
   ]
  },
  {
   "cell_type": "markdown",
   "metadata": {
    "deletable": false,
    "editable": false,
    "nbgrader": {
     "cell_type": "markdown",
     "checksum": "d84aa01eaaeea4d2294f2e5b51c57da7",
     "grade": false,
     "grade_id": "cell-d71c5dbdafa2fc75",
     "locked": true,
     "schema_version": 3,
     "solution": false,
     "task": false
    }
   },
   "source": [
    "**Instructions**\n",
    "* Create a pipeline called `decision_tree_pipeline` that includes our `preprocessing_pipeline`, as well as a `DecisionTreeClassifier`.\n",
    "* Use the following parameters for the `DecisionTreeClassifier`:\n",
    "  * The criterion should be `'entropy'`\n",
    "  * The CCP Alpha should be `0.008`\n",
    "  * The maximum depth should be `8`\n",
    "  * The `random_state` should be `1234`\n",
    "  \n",
    "Relevant documentation\n",
    "* [DecisionTreeClassifier](https://scikit-learn.org/stable/modules/generated/sklearn.tree.DecisionTreeClassifier.html)\n",
    "* [make_pipeline](https://scikit-learn.org/stable/modules/generated/sklearn.pipeline.make_pipeline.html)"
   ]
  },
  {
   "cell_type": "code",
   "execution_count": 23,
   "metadata": {
    "deletable": false,
    "nbgrader": {
     "cell_type": "code",
     "checksum": "b7bed4ad96aa9e9fcb76ac2dfec1b520",
     "grade": false,
     "grade_id": "cell-8000a3aa3b1f5670",
     "locked": false,
     "schema_version": 3,
     "solution": true,
     "task": false
    }
   },
   "outputs": [],
   "source": [
    "from sklearn.tree import DecisionTreeClassifier\n",
    "from sklearn.pipeline import make_pipeline\n",
    "\n",
    "# TODO: Create the pipeline\n",
    "decision_tree_pipeline = make_pipeline(preprocessing_pipeline, DecisionTreeClassifier(criterion = 'entropy',max_depth=8,random_state=1234, ccp_alpha=0.008))\n"
   ]
  },
  {
   "cell_type": "code",
   "execution_count": 24,
   "metadata": {
    "deletable": false,
    "editable": false,
    "nbgrader": {
     "cell_type": "code",
     "checksum": "afb5d3e53527502f6907adfa92dfb477",
     "grade": true,
     "grade_id": "cell-ec46c5beaa098700",
     "locked": true,
     "points": 1,
     "schema_version": 3,
     "solution": false,
     "task": false
    }
   },
   "outputs": [],
   "source": [
    "assert decision_tree_pipeline.steps[0][1] == preprocessing_pipeline, \"Don't forget to start with the preprocessing_pipeline\"\n",
    "dt = decision_tree_pipeline.steps[1][1]\n",
    "assert isinstance(dt, DecisionTreeClassifier), \"Your second step should be a DecisionTreeClassifier\"\n",
    "assert dt.criterion == \"entropy\", \"Set the criterion hyperparameter correctly\"\n",
    "assert dt.ccp_alpha == 0.008, \"Set the alpha hyperparameter correctly\"\n",
    "assert dt.max_depth == 8, \"Set the max depth hyperparameter correctly\"\n",
    "assert dt.random_state == 1234, \"Set the random_state to 1234\""
   ]
  },
  {
   "cell_type": "markdown",
   "metadata": {
    "deletable": false,
    "editable": false,
    "nbgrader": {
     "cell_type": "markdown",
     "checksum": "d13cad8c921aeccf89b331584011ad2f",
     "grade": false,
     "grade_id": "cell-294c2a636e1eaba6",
     "locked": true,
     "schema_version": 3,
     "solution": false,
     "task": false
    }
   },
   "source": [
    "Now we will use the AdaBoost classifier we learned about in class.\n",
    "\n",
    "**Instructions**\n",
    "* Create an `adaboost_pipeline` with the same preprocessing steps and an `AdaBoostClassifier`.\n",
    "* Set the AdaBoostClassifier's `random_state` to 1234.\n",
    "* Do not set any of the hyperparameters; we will tune them later.\n",
    "\n",
    "Relevant Documentation:\n",
    "* [AdaBoostClassifier](https://scikit-learn.org/stable/modules/generated/sklearn.ensemble.AdaBoostClassifier.html)"
   ]
  },
  {
   "cell_type": "code",
   "execution_count": 25,
   "metadata": {
    "deletable": false,
    "nbgrader": {
     "cell_type": "code",
     "checksum": "6cade482a95f596194f32cf15123c22d",
     "grade": false,
     "grade_id": "cell-9927af4781af1d03",
     "locked": false,
     "schema_version": 3,
     "solution": true,
     "task": false
    }
   },
   "outputs": [],
   "source": [
    "from sklearn.ensemble import AdaBoostClassifier\n",
    "# TODO: Create adaboost_pipeline (don't forget imports!)\n",
    "adaboost_pipeline = make_pipeline(preprocessing_pipeline,AdaBoostClassifier(random_state=1234))"
   ]
  },
  {
   "cell_type": "code",
   "execution_count": 26,
   "metadata": {
    "deletable": false,
    "editable": false,
    "nbgrader": {
     "cell_type": "code",
     "checksum": "5f0f29a91a62720da049352b4ac8e57b",
     "grade": true,
     "grade_id": "cell-edf36a7f037e355b",
     "locked": true,
     "points": 1,
     "schema_version": 3,
     "solution": false,
     "task": false
    }
   },
   "outputs": [],
   "source": [
    "assert adaboost_pipeline.steps[0][1] == preprocessing_pipeline, \"Don't forget to start with the preprocessing_pipeline\"\n",
    "assert isinstance(adaboost_pipeline.steps[1][1], AdaBoostClassifier), \"Your second step should be a AdaBoostClassifier\"\n",
    "assert adaboost_pipeline.steps[1][1].random_state == 1234, \"Don't forget to set the random state of AdaBoost\""
   ]
  },
  {
   "cell_type": "markdown",
   "metadata": {
    "deletable": false,
    "editable": false,
    "nbgrader": {
     "cell_type": "markdown",
     "checksum": "140fd546edd4e7a4eefd6399a63ab91d",
     "grade": false,
     "grade_id": "cell-2558df0e87a02894",
     "locked": true,
     "schema_version": 3,
     "solution": false,
     "task": false
    }
   },
   "source": [
    "Now we will tune the hyperparameter of the AdaBoost classifier.\n",
    "\n",
    "First, let's define the names of the `n_estimators` and `learning_rate` hyperparamters:"
   ]
  },
  {
   "cell_type": "code",
   "execution_count": 27,
   "metadata": {
    "deletable": false,
    "editable": false,
    "nbgrader": {
     "cell_type": "code",
     "checksum": "92075e2d45dce21176472e30745af40b",
     "grade": false,
     "grade_id": "cell-739982463bba492e",
     "locked": true,
     "schema_version": 3,
     "solution": false,
     "task": false
    }
   },
   "outputs": [],
   "source": [
    "ada_step_name = adaboost_pipeline.steps[1][0]\n",
    "ada_step_prefix = f\"{ada_step_name}__\"\n",
    "\n",
    "n_estimators_key = ada_step_prefix + 'n_estimators'\n",
    "learning_rate_key = ada_step_prefix + 'learning_rate'"
   ]
  },
  {
   "cell_type": "markdown",
   "metadata": {
    "deletable": false,
    "editable": false,
    "nbgrader": {
     "cell_type": "markdown",
     "checksum": "494bfd416c8f41e9887ab8371b53f7fd",
     "grade": false,
     "grade_id": "cell-608aaeaa3bbc8fab",
     "locked": true,
     "schema_version": 3,
     "solution": false,
     "task": false
    }
   },
   "source": [
    "We will copy the code for exploring a single hyperparameter value from the prior lab:"
   ]
  },
  {
   "cell_type": "code",
   "execution_count": 28,
   "metadata": {
    "deletable": false,
    "editable": false,
    "nbgrader": {
     "cell_type": "code",
     "checksum": "60db73060d23b14fd07c16d58be5acf0",
     "grade": false,
     "grade_id": "cell-45eb96169a3bc44d",
     "locked": true,
     "schema_version": 3,
     "solution": false,
     "task": false
    }
   },
   "outputs": [],
   "source": [
    "from sklearn.model_selection import GridSearchCV\n",
    "\n",
    "def explore_single_hp_values(pipeline, param_name, param_values, X_train, y_train, k_fold, scoring):\n",
    "    param_grid = {param_name: param_values}\n",
    "    grid_search = GridSearchCV(pipeline, param_grid, cv=k_fold, scoring=scoring)\n",
    "    grid_search.fit(X_train, y_train)\n",
    "    result_columns = [f\"param_{param_name}\", \"mean_test_score\", \"std_test_score\", \"rank_test_score\"]\n",
    "    return pd.DataFrame(grid_search.cv_results_)[result_columns]\n"
   ]
  },
  {
   "cell_type": "markdown",
   "metadata": {
    "deletable": false,
    "editable": false,
    "nbgrader": {
     "cell_type": "markdown",
     "checksum": "2979b096e3398ec6f379438dadb1ef29",
     "grade": false,
     "grade_id": "cell-023084bdddbd4937",
     "locked": true,
     "schema_version": 3,
     "solution": false,
     "task": false
    }
   },
   "source": [
    "We will use 3-fold cross-validation for hyperparameter tuning, since AdaBoost takes longer to train than other classifiers we have used because it is an ensemble of many classifiers."
   ]
  },
  {
   "cell_type": "code",
   "execution_count": 29,
   "metadata": {
    "deletable": false,
    "editable": false,
    "nbgrader": {
     "cell_type": "code",
     "checksum": "517dd3907d8d5f08fc934ee59f460d97",
     "grade": false,
     "grade_id": "cell-fb6e1f28bb038cc4",
     "locked": true,
     "schema_version": 3,
     "solution": false,
     "task": false
    }
   },
   "outputs": [],
   "source": [
    "from sklearn.model_selection import KFold\n",
    "\n",
    "k_fold = KFold(n_splits=3, shuffle=True, random_state=1234)"
   ]
  },
  {
   "cell_type": "markdown",
   "metadata": {
    "deletable": false,
    "editable": false,
    "nbgrader": {
     "cell_type": "markdown",
     "checksum": "2f3bb60d6f86b77aa2a525d862980297",
     "grade": false,
     "grade_id": "cell-293566c496000f58",
     "locked": true,
     "schema_version": 3,
     "solution": false,
     "task": false
    }
   },
   "source": [
    "**Instructions**:\n",
    "* Use the `explore_single_hp_values` function like you did in the prior milestone to identify a reasonable range of hyperparameters for the `n_estimators` and `learning_rate` hyperparameters.\n",
    "* Use the scoring function your decided on in planning as the scoring function (e.g., `average_precision`, `f1`, etc.)."
   ]
  },
  {
   "cell_type": "code",
   "execution_count": 30,
   "metadata": {},
   "outputs": [
    {
     "data": {
      "text/html": [
       "<div>\n",
       "<style scoped>\n",
       "    .dataframe tbody tr th:only-of-type {\n",
       "        vertical-align: middle;\n",
       "    }\n",
       "\n",
       "    .dataframe tbody tr th {\n",
       "        vertical-align: top;\n",
       "    }\n",
       "\n",
       "    .dataframe thead th {\n",
       "        text-align: right;\n",
       "    }\n",
       "</style>\n",
       "<table border=\"1\" class=\"dataframe\">\n",
       "  <thead>\n",
       "    <tr style=\"text-align: right;\">\n",
       "      <th></th>\n",
       "      <th>param_adaboostclassifier__n_estimators</th>\n",
       "      <th>mean_test_score</th>\n",
       "      <th>std_test_score</th>\n",
       "      <th>rank_test_score</th>\n",
       "    </tr>\n",
       "  </thead>\n",
       "  <tbody>\n",
       "    <tr>\n",
       "      <th>0</th>\n",
       "      <td>10</td>\n",
       "      <td>0.502826</td>\n",
       "      <td>0.083824</td>\n",
       "      <td>3</td>\n",
       "    </tr>\n",
       "    <tr>\n",
       "      <th>1</th>\n",
       "      <td>30</td>\n",
       "      <td>0.498376</td>\n",
       "      <td>0.054824</td>\n",
       "      <td>4</td>\n",
       "    </tr>\n",
       "    <tr>\n",
       "      <th>2</th>\n",
       "      <td>70</td>\n",
       "      <td>0.521529</td>\n",
       "      <td>0.064450</td>\n",
       "      <td>2</td>\n",
       "    </tr>\n",
       "    <tr>\n",
       "      <th>3</th>\n",
       "      <td>90</td>\n",
       "      <td>0.522829</td>\n",
       "      <td>0.046297</td>\n",
       "      <td>1</td>\n",
       "    </tr>\n",
       "  </tbody>\n",
       "</table>\n",
       "</div>"
      ],
      "text/plain": [
       "  param_adaboostclassifier__n_estimators  mean_test_score  std_test_score  \\\n",
       "0                                     10         0.502826        0.083824   \n",
       "1                                     30         0.498376        0.054824   \n",
       "2                                     70         0.521529        0.064450   \n",
       "3                                     90         0.522829        0.046297   \n",
       "\n",
       "   rank_test_score  \n",
       "0                3  \n",
       "1                4  \n",
       "2                2  \n",
       "3                1  "
      ]
     },
     "execution_count": 30,
     "metadata": {},
     "output_type": "execute_result"
    }
   ],
   "source": [
    "explore_single_hp_values(\n",
    "    adaboost_pipeline,\n",
    "    n_estimators_key,\n",
    "    [10, 30, 70, 90],\n",
    "    X_train, y_train, k_fold,\n",
    "    'average_precision'\n",
    ")"
   ]
  },
  {
   "cell_type": "code",
   "execution_count": 31,
   "metadata": {},
   "outputs": [
    {
     "data": {
      "text/html": [
       "<div>\n",
       "<style scoped>\n",
       "    .dataframe tbody tr th:only-of-type {\n",
       "        vertical-align: middle;\n",
       "    }\n",
       "\n",
       "    .dataframe tbody tr th {\n",
       "        vertical-align: top;\n",
       "    }\n",
       "\n",
       "    .dataframe thead th {\n",
       "        text-align: right;\n",
       "    }\n",
       "</style>\n",
       "<table border=\"1\" class=\"dataframe\">\n",
       "  <thead>\n",
       "    <tr style=\"text-align: right;\">\n",
       "      <th></th>\n",
       "      <th>param_adaboostclassifier__n_estimators</th>\n",
       "      <th>mean_test_score</th>\n",
       "      <th>std_test_score</th>\n",
       "      <th>rank_test_score</th>\n",
       "    </tr>\n",
       "  </thead>\n",
       "  <tbody>\n",
       "    <tr>\n",
       "      <th>0</th>\n",
       "      <td>50</td>\n",
       "      <td>0.504901</td>\n",
       "      <td>0.068462</td>\n",
       "      <td>3</td>\n",
       "    </tr>\n",
       "    <tr>\n",
       "      <th>1</th>\n",
       "      <td>70</td>\n",
       "      <td>0.521529</td>\n",
       "      <td>0.064450</td>\n",
       "      <td>2</td>\n",
       "    </tr>\n",
       "    <tr>\n",
       "      <th>2</th>\n",
       "      <td>90</td>\n",
       "      <td>0.522829</td>\n",
       "      <td>0.046297</td>\n",
       "      <td>1</td>\n",
       "    </tr>\n",
       "  </tbody>\n",
       "</table>\n",
       "</div>"
      ],
      "text/plain": [
       "  param_adaboostclassifier__n_estimators  mean_test_score  std_test_score  \\\n",
       "0                                     50         0.504901        0.068462   \n",
       "1                                     70         0.521529        0.064450   \n",
       "2                                     90         0.522829        0.046297   \n",
       "\n",
       "   rank_test_score  \n",
       "0                3  \n",
       "1                2  \n",
       "2                1  "
      ]
     },
     "execution_count": 31,
     "metadata": {},
     "output_type": "execute_result"
    }
   ],
   "source": [
    "explore_single_hp_values(\n",
    "    adaboost_pipeline,\n",
    "    n_estimators_key,\n",
    "    [50, 70, 90],\n",
    "    X_train, y_train, k_fold,\n",
    "    'average_precision'\n",
    ")"
   ]
  },
  {
   "cell_type": "code",
   "execution_count": 32,
   "metadata": {},
   "outputs": [
    {
     "data": {
      "text/html": [
       "<div>\n",
       "<style scoped>\n",
       "    .dataframe tbody tr th:only-of-type {\n",
       "        vertical-align: middle;\n",
       "    }\n",
       "\n",
       "    .dataframe tbody tr th {\n",
       "        vertical-align: top;\n",
       "    }\n",
       "\n",
       "    .dataframe thead th {\n",
       "        text-align: right;\n",
       "    }\n",
       "</style>\n",
       "<table border=\"1\" class=\"dataframe\">\n",
       "  <thead>\n",
       "    <tr style=\"text-align: right;\">\n",
       "      <th></th>\n",
       "      <th>param_adaboostclassifier__n_estimators</th>\n",
       "      <th>mean_test_score</th>\n",
       "      <th>std_test_score</th>\n",
       "      <th>rank_test_score</th>\n",
       "    </tr>\n",
       "  </thead>\n",
       "  <tbody>\n",
       "    <tr>\n",
       "      <th>0</th>\n",
       "      <td>80</td>\n",
       "      <td>0.520456</td>\n",
       "      <td>0.052107</td>\n",
       "      <td>1</td>\n",
       "    </tr>\n",
       "    <tr>\n",
       "      <th>1</th>\n",
       "      <td>100</td>\n",
       "      <td>0.519915</td>\n",
       "      <td>0.047823</td>\n",
       "      <td>2</td>\n",
       "    </tr>\n",
       "    <tr>\n",
       "      <th>2</th>\n",
       "      <td>120</td>\n",
       "      <td>0.513739</td>\n",
       "      <td>0.038896</td>\n",
       "      <td>3</td>\n",
       "    </tr>\n",
       "  </tbody>\n",
       "</table>\n",
       "</div>"
      ],
      "text/plain": [
       "  param_adaboostclassifier__n_estimators  mean_test_score  std_test_score  \\\n",
       "0                                     80         0.520456        0.052107   \n",
       "1                                    100         0.519915        0.047823   \n",
       "2                                    120         0.513739        0.038896   \n",
       "\n",
       "   rank_test_score  \n",
       "0                1  \n",
       "1                2  \n",
       "2                3  "
      ]
     },
     "execution_count": 32,
     "metadata": {},
     "output_type": "execute_result"
    }
   ],
   "source": [
    "explore_single_hp_values(\n",
    "    adaboost_pipeline,\n",
    "    n_estimators_key,\n",
    "    [80,100,120],\n",
    "    X_train, y_train, k_fold,\n",
    "    'average_precision'\n",
    ")"
   ]
  },
  {
   "cell_type": "code",
   "execution_count": 33,
   "metadata": {},
   "outputs": [
    {
     "data": {
      "text/html": [
       "<div>\n",
       "<style scoped>\n",
       "    .dataframe tbody tr th:only-of-type {\n",
       "        vertical-align: middle;\n",
       "    }\n",
       "\n",
       "    .dataframe tbody tr th {\n",
       "        vertical-align: top;\n",
       "    }\n",
       "\n",
       "    .dataframe thead th {\n",
       "        text-align: right;\n",
       "    }\n",
       "</style>\n",
       "<table border=\"1\" class=\"dataframe\">\n",
       "  <thead>\n",
       "    <tr style=\"text-align: right;\">\n",
       "      <th></th>\n",
       "      <th>param_adaboostclassifier__n_estimators</th>\n",
       "      <th>mean_test_score</th>\n",
       "      <th>std_test_score</th>\n",
       "      <th>rank_test_score</th>\n",
       "    </tr>\n",
       "  </thead>\n",
       "  <tbody>\n",
       "    <tr>\n",
       "      <th>0</th>\n",
       "      <td>80</td>\n",
       "      <td>0.520456</td>\n",
       "      <td>0.052107</td>\n",
       "      <td>2</td>\n",
       "    </tr>\n",
       "    <tr>\n",
       "      <th>1</th>\n",
       "      <td>90</td>\n",
       "      <td>0.522829</td>\n",
       "      <td>0.046297</td>\n",
       "      <td>1</td>\n",
       "    </tr>\n",
       "    <tr>\n",
       "      <th>2</th>\n",
       "      <td>100</td>\n",
       "      <td>0.519915</td>\n",
       "      <td>0.047823</td>\n",
       "      <td>3</td>\n",
       "    </tr>\n",
       "  </tbody>\n",
       "</table>\n",
       "</div>"
      ],
      "text/plain": [
       "  param_adaboostclassifier__n_estimators  mean_test_score  std_test_score  \\\n",
       "0                                     80         0.520456        0.052107   \n",
       "1                                     90         0.522829        0.046297   \n",
       "2                                    100         0.519915        0.047823   \n",
       "\n",
       "   rank_test_score  \n",
       "0                2  \n",
       "1                1  \n",
       "2                3  "
      ]
     },
     "execution_count": 33,
     "metadata": {},
     "output_type": "execute_result"
    }
   ],
   "source": [
    "explore_single_hp_values(\n",
    "    adaboost_pipeline,\n",
    "    n_estimators_key,\n",
    "    [80,90,100],\n",
    "    X_train, y_train, k_fold,\n",
    "    'average_precision'\n",
    ")"
   ]
  },
  {
   "cell_type": "code",
   "execution_count": 34,
   "metadata": {},
   "outputs": [
    {
     "data": {
      "text/html": [
       "<div>\n",
       "<style scoped>\n",
       "    .dataframe tbody tr th:only-of-type {\n",
       "        vertical-align: middle;\n",
       "    }\n",
       "\n",
       "    .dataframe tbody tr th {\n",
       "        vertical-align: top;\n",
       "    }\n",
       "\n",
       "    .dataframe thead th {\n",
       "        text-align: right;\n",
       "    }\n",
       "</style>\n",
       "<table border=\"1\" class=\"dataframe\">\n",
       "  <thead>\n",
       "    <tr style=\"text-align: right;\">\n",
       "      <th></th>\n",
       "      <th>param_adaboostclassifier__n_estimators</th>\n",
       "      <th>mean_test_score</th>\n",
       "      <th>std_test_score</th>\n",
       "      <th>rank_test_score</th>\n",
       "    </tr>\n",
       "  </thead>\n",
       "  <tbody>\n",
       "    <tr>\n",
       "      <th>0</th>\n",
       "      <td>75</td>\n",
       "      <td>0.530316</td>\n",
       "      <td>0.062506</td>\n",
       "      <td>1</td>\n",
       "    </tr>\n",
       "    <tr>\n",
       "      <th>1</th>\n",
       "      <td>85</td>\n",
       "      <td>0.513845</td>\n",
       "      <td>0.049463</td>\n",
       "      <td>2</td>\n",
       "    </tr>\n",
       "  </tbody>\n",
       "</table>\n",
       "</div>"
      ],
      "text/plain": [
       "  param_adaboostclassifier__n_estimators  mean_test_score  std_test_score  \\\n",
       "0                                     75         0.530316        0.062506   \n",
       "1                                     85         0.513845        0.049463   \n",
       "\n",
       "   rank_test_score  \n",
       "0                1  \n",
       "1                2  "
      ]
     },
     "execution_count": 34,
     "metadata": {},
     "output_type": "execute_result"
    }
   ],
   "source": [
    "explore_single_hp_values(\n",
    "    adaboost_pipeline,\n",
    "    n_estimators_key,\n",
    "    [75,85],\n",
    "    X_train, y_train, k_fold,\n",
    "    'average_precision'\n",
    ")"
   ]
  },
  {
   "cell_type": "code",
   "execution_count": 35,
   "metadata": {},
   "outputs": [
    {
     "data": {
      "text/html": [
       "<div>\n",
       "<style scoped>\n",
       "    .dataframe tbody tr th:only-of-type {\n",
       "        vertical-align: middle;\n",
       "    }\n",
       "\n",
       "    .dataframe tbody tr th {\n",
       "        vertical-align: top;\n",
       "    }\n",
       "\n",
       "    .dataframe thead th {\n",
       "        text-align: right;\n",
       "    }\n",
       "</style>\n",
       "<table border=\"1\" class=\"dataframe\">\n",
       "  <thead>\n",
       "    <tr style=\"text-align: right;\">\n",
       "      <th></th>\n",
       "      <th>param_adaboostclassifier__n_estimators</th>\n",
       "      <th>mean_test_score</th>\n",
       "      <th>std_test_score</th>\n",
       "      <th>rank_test_score</th>\n",
       "    </tr>\n",
       "  </thead>\n",
       "  <tbody>\n",
       "    <tr>\n",
       "      <th>0</th>\n",
       "      <td>65</td>\n",
       "      <td>0.522615</td>\n",
       "      <td>0.063503</td>\n",
       "      <td>2</td>\n",
       "    </tr>\n",
       "    <tr>\n",
       "      <th>1</th>\n",
       "      <td>66</td>\n",
       "      <td>0.517158</td>\n",
       "      <td>0.065415</td>\n",
       "      <td>3</td>\n",
       "    </tr>\n",
       "    <tr>\n",
       "      <th>2</th>\n",
       "      <td>67</td>\n",
       "      <td>0.522667</td>\n",
       "      <td>0.060055</td>\n",
       "      <td>1</td>\n",
       "    </tr>\n",
       "  </tbody>\n",
       "</table>\n",
       "</div>"
      ],
      "text/plain": [
       "  param_adaboostclassifier__n_estimators  mean_test_score  std_test_score  \\\n",
       "0                                     65         0.522615        0.063503   \n",
       "1                                     66         0.517158        0.065415   \n",
       "2                                     67         0.522667        0.060055   \n",
       "\n",
       "   rank_test_score  \n",
       "0                2  \n",
       "1                3  \n",
       "2                1  "
      ]
     },
     "execution_count": 35,
     "metadata": {},
     "output_type": "execute_result"
    }
   ],
   "source": [
    "explore_single_hp_values(\n",
    "    adaboost_pipeline,\n",
    "    n_estimators_key,\n",
    "    [65,66,67],\n",
    "    X_train, y_train, k_fold,\n",
    "    'average_precision'\n",
    ")"
   ]
  },
  {
   "cell_type": "code",
   "execution_count": 36,
   "metadata": {},
   "outputs": [
    {
     "data": {
      "text/html": [
       "<div>\n",
       "<style scoped>\n",
       "    .dataframe tbody tr th:only-of-type {\n",
       "        vertical-align: middle;\n",
       "    }\n",
       "\n",
       "    .dataframe tbody tr th {\n",
       "        vertical-align: top;\n",
       "    }\n",
       "\n",
       "    .dataframe thead th {\n",
       "        text-align: right;\n",
       "    }\n",
       "</style>\n",
       "<table border=\"1\" class=\"dataframe\">\n",
       "  <thead>\n",
       "    <tr style=\"text-align: right;\">\n",
       "      <th></th>\n",
       "      <th>param_adaboostclassifier__learning_rate</th>\n",
       "      <th>mean_test_score</th>\n",
       "      <th>std_test_score</th>\n",
       "      <th>rank_test_score</th>\n",
       "    </tr>\n",
       "  </thead>\n",
       "  <tbody>\n",
       "    <tr>\n",
       "      <th>0</th>\n",
       "      <td>5</td>\n",
       "      <td>0.186558</td>\n",
       "      <td>0.064816</td>\n",
       "      <td>3</td>\n",
       "    </tr>\n",
       "    <tr>\n",
       "      <th>1</th>\n",
       "      <td>10</td>\n",
       "      <td>0.216124</td>\n",
       "      <td>0.030503</td>\n",
       "      <td>1</td>\n",
       "    </tr>\n",
       "    <tr>\n",
       "      <th>2</th>\n",
       "      <td>15</td>\n",
       "      <td>0.216124</td>\n",
       "      <td>0.030503</td>\n",
       "      <td>1</td>\n",
       "    </tr>\n",
       "  </tbody>\n",
       "</table>\n",
       "</div>"
      ],
      "text/plain": [
       "  param_adaboostclassifier__learning_rate  mean_test_score  std_test_score  \\\n",
       "0                                       5         0.186558        0.064816   \n",
       "1                                      10         0.216124        0.030503   \n",
       "2                                      15         0.216124        0.030503   \n",
       "\n",
       "   rank_test_score  \n",
       "0                3  \n",
       "1                1  \n",
       "2                1  "
      ]
     },
     "execution_count": 36,
     "metadata": {},
     "output_type": "execute_result"
    }
   ],
   "source": [
    "explore_single_hp_values(\n",
    "    adaboost_pipeline,\n",
    "    learning_rate_key,\n",
    "    [5,10,15],\n",
    "    X_train, y_train, k_fold,\n",
    "    'average_precision'\n",
    ")"
   ]
  },
  {
   "cell_type": "code",
   "execution_count": 37,
   "metadata": {},
   "outputs": [
    {
     "data": {
      "text/html": [
       "<div>\n",
       "<style scoped>\n",
       "    .dataframe tbody tr th:only-of-type {\n",
       "        vertical-align: middle;\n",
       "    }\n",
       "\n",
       "    .dataframe tbody tr th {\n",
       "        vertical-align: top;\n",
       "    }\n",
       "\n",
       "    .dataframe thead th {\n",
       "        text-align: right;\n",
       "    }\n",
       "</style>\n",
       "<table border=\"1\" class=\"dataframe\">\n",
       "  <thead>\n",
       "    <tr style=\"text-align: right;\">\n",
       "      <th></th>\n",
       "      <th>param_adaboostclassifier__learning_rate</th>\n",
       "      <th>mean_test_score</th>\n",
       "      <th>std_test_score</th>\n",
       "      <th>rank_test_score</th>\n",
       "    </tr>\n",
       "  </thead>\n",
       "  <tbody>\n",
       "    <tr>\n",
       "      <th>0</th>\n",
       "      <td>20</td>\n",
       "      <td>0.217336</td>\n",
       "      <td>0.029695</td>\n",
       "      <td>1</td>\n",
       "    </tr>\n",
       "    <tr>\n",
       "      <th>1</th>\n",
       "      <td>25</td>\n",
       "      <td>0.215470</td>\n",
       "      <td>0.028099</td>\n",
       "      <td>2</td>\n",
       "    </tr>\n",
       "  </tbody>\n",
       "</table>\n",
       "</div>"
      ],
      "text/plain": [
       "  param_adaboostclassifier__learning_rate  mean_test_score  std_test_score  \\\n",
       "0                                      20         0.217336        0.029695   \n",
       "1                                      25         0.215470        0.028099   \n",
       "\n",
       "   rank_test_score  \n",
       "0                1  \n",
       "1                2  "
      ]
     },
     "execution_count": 37,
     "metadata": {},
     "output_type": "execute_result"
    }
   ],
   "source": [
    "explore_single_hp_values(\n",
    "    adaboost_pipeline,\n",
    "    learning_rate_key,\n",
    "    [20,25],\n",
    "    X_train, y_train, k_fold,\n",
    "    'average_precision'\n",
    ")"
   ]
  },
  {
   "cell_type": "markdown",
   "metadata": {
    "deletable": false,
    "editable": false,
    "nbgrader": {
     "cell_type": "markdown",
     "checksum": "4738bdbac9f5c88869c7f24d75587819",
     "grade": false,
     "grade_id": "cell-651284569900da64",
     "locked": true,
     "schema_version": 3,
     "solution": false,
     "task": false
    }
   },
   "source": [
    "**Instructions**:\n",
    "* Define `adaboost_param_grid` with the hyperparameter ranges you selected above.\n",
    "* It should be a dictionary, mapping hyperparameter keys to a list of values to explore.\n",
    "* **Note**: You should probably use **3-4 values** for each hyperparamter to avoid overly long grid searches."
   ]
  },
  {
   "cell_type": "code",
   "execution_count": 38,
   "metadata": {
    "deletable": false,
    "nbgrader": {
     "cell_type": "code",
     "checksum": "07c159a924fd92c9c375f9b20cb37538",
     "grade": false,
     "grade_id": "cell-88f346c7165a3c01",
     "locked": false,
     "schema_version": 3,
     "solution": true,
     "task": false
    }
   },
   "outputs": [],
   "source": [
    "# TODO: Define your grid as a dictionary\n",
    "adaboost_param_grid = {\n",
    "  learning_rate_key: [10, 15,20],\n",
    "    n_estimators_key:[70,75,80]\n",
    "}\n",
    "\n"
   ]
  },
  {
   "cell_type": "code",
   "execution_count": 39,
   "metadata": {
    "deletable": false,
    "editable": false,
    "nbgrader": {
     "cell_type": "code",
     "checksum": "98f7e35fe8f8a449e5ef589779dc13c3",
     "grade": true,
     "grade_id": "cell-27baef63888178b8",
     "locked": true,
     "points": 1,
     "schema_version": 3,
     "solution": false,
     "task": false
    }
   },
   "outputs": [],
   "source": [
    "assert isinstance(adaboost_param_grid, dict), \"adaboost_param_grid should be a {dict}\"\n",
    "assert learning_rate_key in adaboost_param_grid, \"Your dictionary should have a key for learning_rate_key\"\n",
    "assert isinstance(adaboost_param_grid[learning_rate_key], list), \"The value of learning_rate should be a list of value to explore\"\n",
    "assert n_estimators_key in adaboost_param_grid, \"Your dictionary should have a key for n_estimators_key\"\n",
    "assert isinstance(adaboost_param_grid[n_estimators_key], list), \"The value of n_estimators should be a list of value to explore\""
   ]
  },
  {
   "cell_type": "markdown",
   "metadata": {
    "deletable": false,
    "editable": false,
    "nbgrader": {
     "cell_type": "markdown",
     "checksum": "8ed1efe382bdccaee7d76388917d456e",
     "grade": false,
     "grade_id": "cell-96a518ab2ad1d40d",
     "locked": true,
     "schema_version": 3,
     "solution": false,
     "task": false
    }
   },
   "source": [
    "**Instructions**:\n",
    "* Create a `GridSearchCV` to search over your hyperparameter ranges for your `adaboost_pipeline`.\n",
    "* Use the existing 3-fold `k_fold` and use the scoring function your decided on in planning as the scoring function (e.g., `average_precision`, `f1`, etc.).\n",
    "* Fit the GridSearchCV to your training data.\n",
    "* Report the best hyperparametrs and record these in your Reflection document.\n",
    "* **Note**: This may take a moment\n",
    "\n",
    "Relevant documentation:\n",
    "* [GridSearchCV](https://scikit-learn.org/stable/modules/generated/sklearn.model_selection.GridSearchCV.html)"
   ]
  },
  {
   "cell_type": "code",
   "execution_count": 40,
   "metadata": {
    "deletable": false,
    "nbgrader": {
     "cell_type": "code",
     "checksum": "43d06306c41d2e1eb5e3939edeac58a9",
     "grade": false,
     "grade_id": "cell-1bce7d551074105a",
     "locked": false,
     "schema_version": 3,
     "solution": true,
     "task": false
    }
   },
   "outputs": [
    {
     "data": {
      "text/plain": [
       "{'adaboostclassifier__learning_rate': 20,\n",
       " 'adaboostclassifier__n_estimators': 70}"
      ]
     },
     "execution_count": 40,
     "metadata": {},
     "output_type": "execute_result"
    }
   ],
   "source": [
    "from sklearn.model_selection import GridSearchCV\n",
    "# TODO: Create the GridSearchCV\n",
    "adaboost_tuned = GridSearchCV(adaboost_pipeline, adaboost_param_grid, scoring=\"f1\", cv = k_fold)\n",
    "adaboost_tuned.fit(X_train, y_train)\n",
    "\n",
    "\n",
    "adaboost_tuned.best_params_"
   ]
  },
  {
   "cell_type": "code",
   "execution_count": 41,
   "metadata": {
    "deletable": false,
    "editable": false,
    "nbgrader": {
     "cell_type": "code",
     "checksum": "cd0e4fa403b3b9995fec7681dbee3a22",
     "grade": true,
     "grade_id": "cell-f19a3a04ceca3678",
     "locked": true,
     "points": 1,
     "schema_version": 3,
     "solution": false,
     "task": false
    }
   },
   "outputs": [],
   "source": [
    "assert isinstance(adaboost_tuned, GridSearchCV), \"Make sure to create a GridSearchCV\"\n",
    "assert learning_rate_key in adaboost_tuned.best_params_, \"Make sure to fit your GridSearchCV\"\n",
    "assert n_estimators_key in adaboost_tuned.best_params_, \"Make sure to fit your GridSearchCV\""
   ]
  },
  {
   "cell_type": "markdown",
   "metadata": {
    "deletable": false,
    "editable": false,
    "nbgrader": {
     "cell_type": "markdown",
     "checksum": "c8a24997304a7be15c80698d206d2880",
     "grade": false,
     "grade_id": "cell-bcdff8be0320073c",
     "locked": true,
     "schema_version": 3,
     "solution": false,
     "task": false
    }
   },
   "source": [
    "**Instructions**:\n",
    "* Visualize your grid search by running the next two cells.\n",
    "* Adjust your grid as needed until you feel confident you have the best hyperparameters."
   ]
  },
  {
   "cell_type": "code",
   "execution_count": 42,
   "metadata": {
    "deletable": false,
    "editable": false,
    "nbgrader": {
     "cell_type": "code",
     "checksum": "7b672d3c80f0b51b50ba3b89fcfb45ea",
     "grade": false,
     "grade_id": "cell-1f31cb38866688c5",
     "locked": true,
     "schema_version": 3,
     "solution": false,
     "task": false
    }
   },
   "outputs": [],
   "source": [
    "import seaborn as sns\n",
    "import matplotlib.pyplot as plt\n",
    "\n",
    "def plot_gridsearch_heatmap(results_df, x_param, y_param, score='mean_test_score'):\n",
    "    # Pivot the table to format it for a heatmap\n",
    "    heatmap_data = results_df.pivot(index=f'param_{y_param}', columns=f'param_{x_param}', values=score)\n",
    "\n",
    "    # Plot heatmap\n",
    "    plt.figure(figsize=(8, 6))\n",
    "    sns.heatmap(heatmap_data, annot=True, cmap='viridis', fmt='.3f', linewidths=0.5)\n",
    "    plt.title(f'Grid Search Results: {score}')\n",
    "    plt.xlabel(x_param)\n",
    "    plt.ylabel(y_param)\n",
    "    plt.show()"
   ]
  },
  {
   "cell_type": "code",
   "execution_count": 43,
   "metadata": {
    "deletable": false,
    "editable": false,
    "nbgrader": {
     "cell_type": "code",
     "checksum": "940b19193e95900ff9df4554160a8a42",
     "grade": false,
     "grade_id": "cell-fde937fb4d47d087",
     "locked": true,
     "schema_version": 3,
     "solution": false,
     "task": false
    }
   },
   "outputs": [
    {
     "data": {
      "image/png": "[encoded data removed]",
      "text/plain": [
       "<Figure size 576x432 with 2 Axes>"
      ]
     },
     "metadata": {
      "needs_background": "light"
     },
     "output_type": "display_data"
    }
   ],
   "source": [
    "plot_gridsearch_heatmap(pd.DataFrame(adaboost_tuned.cv_results_), learning_rate_key, n_estimators_key)"
   ]
  },
  {
   "cell_type": "markdown",
   "metadata": {},
   "source": [
    "Normally, we would use our `adaboost_tuned` (a `GridSearchCV`) as the primary pipeline to evaluate for GridSearch. This ensures that the hyperparameters are retuned to the training dataset each time the classifier is fit. This is the proper way to use GridSearch.\n",
    "\n",
    "*However*, for the purposes of this milestone, we are going to fix our best hyperparameter values for the remainder of the notebook. We do this for two reasons:\n",
    "* It will save a fair bit of processing time (especially important, since everyone is using the same JupyterHub server).\n",
    "* It will ensure deterministic results, so you should get the same results as when this notebook was designed.\n",
    "\n",
    "**Instructions**\n",
    "* Create a new `adaboost_pipeline` with specific hyperparameters.\n",
    "* Use the following hyperparameters:\n",
    "  * `n_estimators` should be 60\n",
    "  * `learning_rate` should be 0.75\n",
    "  * `random_state` should be 1234"
   ]
  },
  {
   "cell_type": "code",
   "execution_count": 44,
   "metadata": {
    "deletable": false,
    "nbgrader": {
     "cell_type": "code",
     "checksum": "d9da4ca9bf0dff99839096aa3edb33d1",
     "grade": false,
     "grade_id": "cell-bcb3becd0910f45d",
     "locked": false,
     "schema_version": 3,
     "solution": true,
     "task": false
    }
   },
   "outputs": [],
   "source": [
    "# YOUR CODE HERE\n",
    "adaboost_pipeline = make_pipeline(preprocessing_pipeline ,AdaBoostClassifier(n_estimators=60, learning_rate=0.75,random_state=1234))"
   ]
  },
  {
   "cell_type": "code",
   "execution_count": 45,
   "metadata": {
    "deletable": false,
    "editable": false,
    "nbgrader": {
     "cell_type": "code",
     "checksum": "d9f390cac08739c7eed32ca791c68aa0",
     "grade": true,
     "grade_id": "cell-dca2f7be987e44bf",
     "locked": true,
     "points": 1,
     "schema_version": 3,
     "solution": false,
     "task": false
    }
   },
   "outputs": [],
   "source": [
    "assert adaboost_pipeline.steps[0][1] == preprocessing_pipeline, \"Don't forget to start with the preprocessing_pipeline\"\n",
    "dt = adaboost_pipeline.steps[1][1]\n",
    "assert isinstance(dt, AdaBoostClassifier), \"Your second step should be a AdaBoostClassifier\"\n",
    "assert dt.n_estimators == 60, \"Set the n_estimators hyperparameter correctly\"\n",
    "assert dt.learning_rate == 0.75, \"Set the learning_rate hyperparameter correctly\"\n",
    "assert dt.random_state == 1234, \"Set the random_state to 1234\""
   ]
  },
  {
   "cell_type": "markdown",
   "metadata": {
    "deletable": false,
    "editable": false,
    "nbgrader": {
     "cell_type": "markdown",
     "checksum": "f37d3794323e9f45e8012c96688fc7f3",
     "grade": false,
     "grade_id": "cell-91fc7e89018a63d6",
     "locked": true,
     "schema_version": 3,
     "solution": false,
     "task": false
    }
   },
   "source": [
    "## Initial Evaluation"
   ]
  },
  {
   "cell_type": "markdown",
   "metadata": {
    "deletable": false,
    "editable": false,
    "nbgrader": {
     "cell_type": "markdown",
     "checksum": "b7a4e076ce95117e55d8a77617a8425c",
     "grade": false,
     "grade_id": "cell-0843e0f7b585f789",
     "locked": true,
     "schema_version": 3,
     "solution": false,
     "task": false
    }
   },
   "source": [
    "Now, we will compare the two classifiers, DecisionTree and AdaBoost!\n",
    "\n",
    "We will use the following metrics to evaluation our pipeline:"
   ]
  },
  {
   "cell_type": "code",
   "execution_count": 46,
   "metadata": {
    "deletable": false,
    "editable": false,
    "nbgrader": {
     "cell_type": "code",
     "checksum": "456649e1600dece354f4379810716982",
     "grade": false,
     "grade_id": "cell-ca4e878eb05bf8a9",
     "locked": true,
     "schema_version": 3,
     "solution": false,
     "task": false
    }
   },
   "outputs": [],
   "source": [
    "scoring_metrics = ['accuracy', 'precision', 'recall', 'f1', 'roc_auc', 'average_precision']"
   ]
  },
  {
   "cell_type": "markdown",
   "metadata": {
    "deletable": false,
    "editable": false,
    "nbgrader": {
     "cell_type": "markdown",
     "checksum": "af77b2e861691b4869e5d8cf40c7fc9a",
     "grade": false,
     "grade_id": "cell-f092bc550dae887f",
     "locked": true,
     "schema_version": 3,
     "solution": false,
     "task": false
    }
   },
   "source": [
    "We are not yet ready for a final evaluation of our pipelines on the test dataset - there may be things we need to improve about our pipelines. Therefore, to evaluate our pipelines, it is important to use **cross-validation** within the training dataset. sklearn provides a handy `cross_validate` function that handles the hard parts of this for us.\n",
    "\n",
    "**Instructions**:\n",
    "* Use the `cross_validate` function to evaluate the `decision_tree_pipeline` on the training dataset.\n",
    "* For `scoring` use the whole list of `scoring_metrics`. \n",
    "* Use `cv` (folds) of 5.\n",
    "\n",
    "Relevant documentation\n",
    "* [cross_validate](https://scikit-learn.org/stable/modules/generated/sklearn.model_selection.cross_validate.html)"
   ]
  },
  {
   "cell_type": "code",
   "execution_count": 47,
   "metadata": {
    "deletable": false,
    "nbgrader": {
     "cell_type": "code",
     "checksum": "68c7d6e8078d90a30ca35593c7f537e9",
     "grade": false,
     "grade_id": "cell-3d9383fe1aee1cd9",
     "locked": false,
     "schema_version": 3,
     "solution": true,
     "task": false
    }
   },
   "outputs": [
    {
     "data": {
      "text/html": [
       "<div>\n",
       "<style scoped>\n",
       "    .dataframe tbody tr th:only-of-type {\n",
       "        vertical-align: middle;\n",
       "    }\n",
       "\n",
       "    .dataframe tbody tr th {\n",
       "        vertical-align: top;\n",
       "    }\n",
       "\n",
       "    .dataframe thead th {\n",
       "        text-align: right;\n",
       "    }\n",
       "</style>\n",
       "<table border=\"1\" class=\"dataframe\">\n",
       "  <thead>\n",
       "    <tr style=\"text-align: right;\">\n",
       "      <th></th>\n",
       "      <th>fit_time</th>\n",
       "      <th>score_time</th>\n",
       "      <th>test_accuracy</th>\n",
       "      <th>test_precision</th>\n",
       "      <th>test_recall</th>\n",
       "      <th>test_f1</th>\n",
       "      <th>test_roc_auc</th>\n",
       "      <th>test_average_precision</th>\n",
       "    </tr>\n",
       "  </thead>\n",
       "  <tbody>\n",
       "    <tr>\n",
       "      <th>0</th>\n",
       "      <td>0.097282</td>\n",
       "      <td>0.013316</td>\n",
       "      <td>0.810680</td>\n",
       "      <td>0.384615</td>\n",
       "      <td>0.303030</td>\n",
       "      <td>0.338983</td>\n",
       "      <td>0.705991</td>\n",
       "      <td>0.332805</td>\n",
       "    </tr>\n",
       "    <tr>\n",
       "      <th>1</th>\n",
       "      <td>0.078496</td>\n",
       "      <td>0.013625</td>\n",
       "      <td>0.796117</td>\n",
       "      <td>0.285714</td>\n",
       "      <td>0.181818</td>\n",
       "      <td>0.222222</td>\n",
       "      <td>0.651603</td>\n",
       "      <td>0.252446</td>\n",
       "    </tr>\n",
       "    <tr>\n",
       "      <th>2</th>\n",
       "      <td>0.017441</td>\n",
       "      <td>0.070319</td>\n",
       "      <td>0.825243</td>\n",
       "      <td>0.428571</td>\n",
       "      <td>0.176471</td>\n",
       "      <td>0.250000</td>\n",
       "      <td>0.737517</td>\n",
       "      <td>0.356520</td>\n",
       "    </tr>\n",
       "    <tr>\n",
       "      <th>3</th>\n",
       "      <td>0.017631</td>\n",
       "      <td>0.067478</td>\n",
       "      <td>0.810680</td>\n",
       "      <td>0.413793</td>\n",
       "      <td>0.352941</td>\n",
       "      <td>0.380952</td>\n",
       "      <td>0.722042</td>\n",
       "      <td>0.318178</td>\n",
       "    </tr>\n",
       "    <tr>\n",
       "      <th>4</th>\n",
       "      <td>0.022943</td>\n",
       "      <td>0.012949</td>\n",
       "      <td>0.795122</td>\n",
       "      <td>0.263158</td>\n",
       "      <td>0.151515</td>\n",
       "      <td>0.192308</td>\n",
       "      <td>0.575229</td>\n",
       "      <td>0.227175</td>\n",
       "    </tr>\n",
       "  </tbody>\n",
       "</table>\n",
       "</div>"
      ],
      "text/plain": [
       "   fit_time  score_time  test_accuracy  test_precision  test_recall   test_f1  \\\n",
       "0  0.097282    0.013316       0.810680        0.384615     0.303030  0.338983   \n",
       "1  0.078496    0.013625       0.796117        0.285714     0.181818  0.222222   \n",
       "2  0.017441    0.070319       0.825243        0.428571     0.176471  0.250000   \n",
       "3  0.017631    0.067478       0.810680        0.413793     0.352941  0.380952   \n",
       "4  0.022943    0.012949       0.795122        0.263158     0.151515  0.192308   \n",
       "\n",
       "   test_roc_auc  test_average_precision  \n",
       "0      0.705991                0.332805  \n",
       "1      0.651603                0.252446  \n",
       "2      0.737517                0.356520  \n",
       "3      0.722042                0.318178  \n",
       "4      0.575229                0.227175  "
      ]
     },
     "execution_count": 47,
     "metadata": {},
     "output_type": "execute_result"
    }
   ],
   "source": [
    "from sklearn.model_selection import cross_validate\n",
    "\n",
    "dt_cv_results = cross_validate(decision_tree_pipeline, X_train, y_train,cv =5 , scoring=scoring_metrics)\n",
    "\n",
    "# Visualize them easily with a Pandas DataFrame\n",
    "dt_performance = pd.DataFrame(dt_cv_results)\n",
    "dt_performance"
   ]
  },
  {
   "cell_type": "code",
   "execution_count": 48,
   "metadata": {
    "deletable": false,
    "editable": false,
    "nbgrader": {
     "cell_type": "code",
     "checksum": "cb23f7b5f0a4643fd199e2c1ae86cf52",
     "grade": true,
     "grade_id": "cell-97613067b437339e",
     "locked": true,
     "points": 1,
     "schema_version": 3,
     "solution": false,
     "task": false
    }
   },
   "outputs": [],
   "source": [
    "assert dt_performance.shape[0] == 5, \"Make sure to use cv=5\"\n",
    "assert dt_performance.shape[1] == 8, \"Make sure to use all metrics in scoring_metrics\"\n",
    "assert dt_performance.test_precision.mean() < 0.5, \"Make sure you are evaluating the decision tree, not adaboost\""
   ]
  },
  {
   "cell_type": "markdown",
   "metadata": {
    "deletable": false,
    "editable": false,
    "nbgrader": {
     "cell_type": "markdown",
     "checksum": "ff48072e20e3b6aec56292431af5f967",
     "grade": false,
     "grade_id": "cell-f17698a0b4af53d4",
     "locked": true,
     "schema_version": 3,
     "solution": false,
     "task": false
    }
   },
   "source": [
    "The advantage of cross-validation is that it gives us *k* different performance values, so we understand how they vary across different train/test folds. The *disadvantage* is that we cannot calculate a single confusion matrix from the results. By default, our metrics also only report values for the positive class (Attrition = 1).\n",
    "\n",
    "To address this, we can use another function, `cross_val_predict`, which takes very similar parameters to `cross_validate`, but instead of returning the evaluation results for each round, it returns a single list of predictions for each instance in `X_train`, where that prediction was made when that instance was in the test dataset during cross-validation. Remember, in CV each instance (and each fold) is used once for testing and k-1 times for training. Therefore, even though these are predictions for the training dataset, each prediction comes from a model that was not trained on that instance! It therefore can be used to calculate validation performance (not training performance).\n",
    "\n",
    "**Instructions**:\n",
    "* Use `cross_val_predict` to create a set of cross-validated predictions for the `decision_tree_pipeline`.\n",
    "  * Use X_train and y_train, and cv=5\n",
    "  * Do no supply scoring metrics; this function only returns predictions.\n",
    "\n",
    "Relevant documentation:\n",
    "* [cross_val_predict](https://scikit-learn.org/stable/modules/generated/sklearn.model_selection.cross_val_predict.html)"
   ]
  },
  {
   "cell_type": "code",
   "execution_count": 49,
   "metadata": {
    "deletable": false,
    "nbgrader": {
     "cell_type": "code",
     "checksum": "28a4579db496d3d8253c57bab9397bf0",
     "grade": false,
     "grade_id": "cell-b6476e7a50c36395",
     "locked": false,
     "schema_version": 3,
     "solution": true,
     "task": false
    }
   },
   "outputs": [],
   "source": [
    "from sklearn.model_selection import cross_val_predict\n",
    "\n",
    "# TODO Create results using cross_val_predict\n",
    "dt_pred = cross_val_predict(decision_tree_pipeline, X_train, y_train,cv =5 )"
   ]
  },
  {
   "cell_type": "code",
   "execution_count": 50,
   "metadata": {
    "deletable": false,
    "editable": false,
    "nbgrader": {
     "cell_type": "code",
     "checksum": "4528b776c4ea60128ae23341e3b84ad2",
     "grade": true,
     "grade_id": "cell-db69d3e7e03643d0",
     "locked": true,
     "points": 1,
     "schema_version": 3,
     "solution": false,
     "task": false
    }
   },
   "outputs": [],
   "source": [
    "assert len(dt_pred) == len(y_train), \"Make sure you are using the training dataset for prediction\"\n",
    "assert (dt_pred == y_train).mean() > 0.6, \"Make sure your predictions are an array of 0/1 values, representing predictions\""
   ]
  },
  {
   "cell_type": "code",
   "execution_count": 51,
   "metadata": {},
   "outputs": [
    {
     "data": {
      "text/plain": [
       "array([0, 0, 0, ..., 0, 0, 1])"
      ]
     },
     "execution_count": 51,
     "metadata": {},
     "output_type": "execute_result"
    }
   ],
   "source": [
    "dt_pred"
   ]
  },
  {
   "cell_type": "markdown",
   "metadata": {
    "deletable": false,
    "editable": false,
    "nbgrader": {
     "cell_type": "markdown",
     "checksum": "7d5354f200cb1a838553045615437b60",
     "grade": false,
     "grade_id": "cell-5c1a441b3a86f3d4",
     "locked": true,
     "schema_version": 3,
     "solution": false,
     "task": false
    }
   },
   "source": [
    "Now we can use these predictions to create a classification report and confusion matrix for a more detailed inspection.\n",
    "\n",
    "**Instructions**:\n",
    "* Print a classification_report for the DecisionTree's predictions\n",
    "* Print a confusion_matrix for the DecisionTree's predictions\n",
    "  * **Note**: Read sklearn's documentation to make sure you understand how to interpret the rows and columns of the confusion matric correctly!\n",
    "* Report and reflect on the results in your Reflection section.\n",
    "  \n",
    "Relevant documentation:\n",
    "* [classification_report](https://scikit-learn.org/stable/modules/generated/sklearn.metrics.classification_report.html)\n",
    "* [confusion_matrix](https://scikit-learn.org/stable/modules/generated/sklearn.metrics.confusion_matrix.html)"
   ]
  },
  {
   "cell_type": "code",
   "execution_count": 52,
   "metadata": {
    "deletable": false,
    "nbgrader": {
     "cell_type": "code",
     "checksum": "748c803e8d39f6ebb3dbf104eadc269b",
     "grade": false,
     "grade_id": "cell-0d7eed331aa9e446",
     "locked": false,
     "schema_version": 3,
     "solution": true,
     "task": false
    }
   },
   "outputs": [
    {
     "name": "stdout",
     "output_type": "stream",
     "text": [
      "Classification Report:\n",
      "              precision    recall  f1-score   support\n",
      "\n",
      "           0       0.86      0.92      0.89       862\n",
      "           1       0.36      0.23      0.28       167\n",
      "\n",
      "    accuracy                           0.81      1029\n",
      "   macro avg       0.61      0.58      0.59      1029\n",
      "weighted avg       0.78      0.81      0.79      1029\n",
      "\n",
      "Confusion Matrix:\n",
      "[[792  70]\n",
      " [128  39]]\n"
     ]
    }
   ],
   "source": [
    "from sklearn.metrics import classification_report, confusion_matrix\n",
    "\n",
    "\n",
    "\n",
    "print(\"Classification Report:\")\n",
    "print(classification_report(y_train, dt_pred))\n",
    "\n",
    "print(\"Confusion Matrix:\")\n",
    "print(confusion_matrix(y_train, dt_pred))"
   ]
  },
  {
   "cell_type": "markdown",
   "metadata": {
    "deletable": false,
    "editable": false,
    "nbgrader": {
     "cell_type": "markdown",
     "checksum": "06e8eec1000e4827a7dcb9f765825f82",
     "grade": false,
     "grade_id": "cell-2736f7e341ddacdf",
     "locked": true,
     "schema_version": 3,
     "solution": false,
     "task": false
    }
   },
   "source": [
    "One downside to sklearn's built-in CV functions is that they must be run separately, so if you want both results, you have to run CV twice. This can take a long time if your model takes a while to train. The following function computes both predictions and scoring metrics at the same time."
   ]
  },
  {
   "cell_type": "code",
   "execution_count": 53,
   "metadata": {
    "deletable": false,
    "editable": false,
    "nbgrader": {
     "cell_type": "code",
     "checksum": "a4b9d1b963c29ad5e188073abc80c54c",
     "grade": false,
     "grade_id": "cell-f6ffb58247da0754",
     "locked": true,
     "schema_version": 3,
     "solution": false,
     "task": false
    }
   },
   "outputs": [],
   "source": [
    "from sklearn.metrics import get_scorer\n",
    "import numpy as np\n",
    "\n",
    "def cross_validate_and_predict(model, X_train, y_train, metrics, cv_folds=5, random_state=1234):\n",
    "    # Convert metrics to functions if they are strings\n",
    "    metric_fns = [metric if callable(metric) else get_scorer(metric)._score_func for metric in metrics]\n",
    "    kfold = KFold(n_splits=cv_folds, shuffle=True, random_state=random_state)\n",
    "    y_preds = np.zeros(y_train.shape)\n",
    "    results = []\n",
    "    fold = 1\n",
    "    for train_idx, test_idx in kfold.split(X_train):\n",
    "        model.fit(X_train.iloc[train_idx], y_train[train_idx])\n",
    "        y_pred = model.predict(X_train.iloc[test_idx])\n",
    "        y_preds[test_idx] = y_pred\n",
    "        fold_results = {'fold': fold}\n",
    "        for metric_name, metric_fn in zip(metrics, metric_fns):\n",
    "            value = metric_fn(y_train[test_idx], y_pred)\n",
    "            fold_results[metric_name] = value\n",
    "        results.append(fold_results)\n",
    "        fold += 1\n",
    "    return pd.DataFrame(results), y_preds"
   ]
  },
  {
   "cell_type": "markdown",
   "metadata": {
    "deletable": false,
    "editable": false,
    "nbgrader": {
     "cell_type": "markdown",
     "checksum": "da524094930ec44ae0637e64902e5d6e",
     "grade": false,
     "grade_id": "cell-afeae37eb1b6c8a9",
     "locked": true,
     "schema_version": 3,
     "solution": false,
     "task": false
    }
   },
   "source": [
    "It takes the same arguments as cross_validate, but returns first a tuple, consisting of:\n",
    "* A performance DataFrame, with results for each metric across CV folds\n",
    "* A list of predictions\n",
    "\n",
    "**Instructions**:\n",
    "* Run the following cell. It should have the same or similar results to your prior results."
   ]
  },
  {
   "cell_type": "code",
   "execution_count": 54,
   "metadata": {
    "deletable": false,
    "editable": false,
    "nbgrader": {
     "cell_type": "code",
     "checksum": "ceeaa9ad58f1436c73f199132b5ab71c",
     "grade": false,
     "grade_id": "cell-d6a0d5d5d831ba79",
     "locked": true,
     "schema_version": 3,
     "solution": false,
     "task": false
    }
   },
   "outputs": [
    {
     "name": "stdout",
     "output_type": "stream",
     "text": [
      "              precision    recall  f1-score   support\n",
      "\n",
      "           0       0.87      0.91      0.89       862\n",
      "           1       0.38      0.30      0.34       167\n",
      "\n",
      "    accuracy                           0.81      1029\n",
      "   macro avg       0.63      0.60      0.61      1029\n",
      "weighted avg       0.79      0.81      0.80      1029\n",
      "\n",
      "[[781  81]\n",
      " [117  50]]\n"
     ]
    },
    {
     "data": {
      "text/html": [
       "<div>\n",
       "<style scoped>\n",
       "    .dataframe tbody tr th:only-of-type {\n",
       "        vertical-align: middle;\n",
       "    }\n",
       "\n",
       "    .dataframe tbody tr th {\n",
       "        vertical-align: top;\n",
       "    }\n",
       "\n",
       "    .dataframe thead th {\n",
       "        text-align: right;\n",
       "    }\n",
       "</style>\n",
       "<table border=\"1\" class=\"dataframe\">\n",
       "  <thead>\n",
       "    <tr style=\"text-align: right;\">\n",
       "      <th></th>\n",
       "      <th>fold</th>\n",
       "      <th>accuracy</th>\n",
       "      <th>precision</th>\n",
       "      <th>recall</th>\n",
       "      <th>f1</th>\n",
       "      <th>roc_auc</th>\n",
       "      <th>average_precision</th>\n",
       "    </tr>\n",
       "  </thead>\n",
       "  <tbody>\n",
       "    <tr>\n",
       "      <th>0</th>\n",
       "      <td>1</td>\n",
       "      <td>0.791262</td>\n",
       "      <td>0.250000</td>\n",
       "      <td>0.151515</td>\n",
       "      <td>0.188679</td>\n",
       "      <td>0.532405</td>\n",
       "      <td>0.173801</td>\n",
       "    </tr>\n",
       "    <tr>\n",
       "      <th>1</th>\n",
       "      <td>2</td>\n",
       "      <td>0.815534</td>\n",
       "      <td>0.363636</td>\n",
       "      <td>0.250000</td>\n",
       "      <td>0.296296</td>\n",
       "      <td>0.584770</td>\n",
       "      <td>0.207414</td>\n",
       "    </tr>\n",
       "    <tr>\n",
       "      <th>2</th>\n",
       "      <td>3</td>\n",
       "      <td>0.800971</td>\n",
       "      <td>0.405405</td>\n",
       "      <td>0.441176</td>\n",
       "      <td>0.422535</td>\n",
       "      <td>0.656635</td>\n",
       "      <td>0.271088</td>\n",
       "    </tr>\n",
       "    <tr>\n",
       "      <th>3</th>\n",
       "      <td>4</td>\n",
       "      <td>0.820388</td>\n",
       "      <td>0.333333</td>\n",
       "      <td>0.233333</td>\n",
       "      <td>0.274510</td>\n",
       "      <td>0.576894</td>\n",
       "      <td>0.189428</td>\n",
       "    </tr>\n",
       "    <tr>\n",
       "      <th>4</th>\n",
       "      <td>5</td>\n",
       "      <td>0.809756</td>\n",
       "      <td>0.483871</td>\n",
       "      <td>0.394737</td>\n",
       "      <td>0.434783</td>\n",
       "      <td>0.649464</td>\n",
       "      <td>0.303197</td>\n",
       "    </tr>\n",
       "  </tbody>\n",
       "</table>\n",
       "</div>"
      ],
      "text/plain": [
       "   fold  accuracy  precision    recall        f1   roc_auc  average_precision\n",
       "0     1  0.791262   0.250000  0.151515  0.188679  0.532405           0.173801\n",
       "1     2  0.815534   0.363636  0.250000  0.296296  0.584770           0.207414\n",
       "2     3  0.800971   0.405405  0.441176  0.422535  0.656635           0.271088\n",
       "3     4  0.820388   0.333333  0.233333  0.274510  0.576894           0.189428\n",
       "4     5  0.809756   0.483871  0.394737  0.434783  0.649464           0.303197"
      ]
     },
     "execution_count": 54,
     "metadata": {},
     "output_type": "execute_result"
    }
   ],
   "source": [
    "from sklearn.metrics import classification_report, confusion_matrix\n",
    "import numpy as np\n",
    "\n",
    "dt_performance, dt_pred = cross_validate_and_predict(\n",
    "    decision_tree_pipeline, X_train, y_train, scoring_metrics\n",
    ")\n",
    "\n",
    "print(classification_report(y_train, dt_pred))\n",
    "print(confusion_matrix(y_train, dt_pred))\n",
    "\n",
    "dt_performance"
   ]
  },
  {
   "cell_type": "markdown",
   "metadata": {
    "deletable": false,
    "editable": false,
    "nbgrader": {
     "cell_type": "markdown",
     "checksum": "6d60fee2c911337bd536488a18d8534d",
     "grade": false,
     "grade_id": "cell-3d26d7624c782360",
     "locked": true,
     "schema_version": 3,
     "solution": false,
     "task": false
    }
   },
   "source": [
    "Now do the same thing for your `adaboost_pipeline`.\n",
    "\n",
    "**Instructions**:\n",
    "* Create `adaboost_performance` and `adaboost_pred` using the `cross_validate_and_predict` function.\n",
    "* Use the training dataset and scoring metrics, as above.\n",
    "* Print the `classification_report` and `confusion_matrix` and reflect on the results in your Reflection section."
   ]
  },
  {
   "cell_type": "code",
   "execution_count": 55,
   "metadata": {
    "deletable": false,
    "nbgrader": {
     "cell_type": "code",
     "checksum": "234e3400ece38954d500548e1cd5e34c",
     "grade": false,
     "grade_id": "cell-366f5d72d639b736",
     "locked": false,
     "schema_version": 3,
     "solution": true,
     "task": false
    },
    "scrolled": true
   },
   "outputs": [
    {
     "name": "stdout",
     "output_type": "stream",
     "text": [
      "              precision    recall  f1-score   support\n",
      "\n",
      "           0       0.88      0.97      0.92       862\n",
      "           1       0.67      0.33      0.44       167\n",
      "\n",
      "    accuracy                           0.86      1029\n",
      "   macro avg       0.78      0.65      0.68      1029\n",
      "weighted avg       0.85      0.86      0.85      1029\n",
      "\n",
      "[[835  27]\n",
      " [112  55]]\n"
     ]
    }
   ],
   "source": [
    "adaboost_performance , adaboost_pred = cross_validate_and_predict(\n",
    "    adaboost_pipeline, X_train, y_train, scoring_metrics\n",
    ")\n",
    "\n",
    "print(classification_report(y_train, adaboost_pred))\n",
    "print(confusion_matrix(y_train, adaboost_pred))"
   ]
  },
  {
   "cell_type": "code",
   "execution_count": 56,
   "metadata": {
    "deletable": false,
    "editable": false,
    "nbgrader": {
     "cell_type": "code",
     "checksum": "75220901ddd072ac06e871ece6ef19fd",
     "grade": true,
     "grade_id": "cell-aebabda5f5936ec6",
     "locked": true,
     "points": 1,
     "schema_version": 3,
     "solution": false,
     "task": false
    }
   },
   "outputs": [],
   "source": [
    "assert adaboost_performance.shape == (5, 7), \"Make sure you assign the first result from the tuple to adaboost_performance\"\n",
    "assert len(adaboost_pred) == len(y_train), \"Make sure you assign the second result from the tuple to adaboost_pred\""
   ]
  },
  {
   "cell_type": "markdown",
   "metadata": {
    "deletable": false,
    "editable": false,
    "nbgrader": {
     "cell_type": "markdown",
     "checksum": "81c8ded99abafd6d40930324d39d3ad6",
     "grade": false,
     "grade_id": "cell-108b65515836b17d",
     "locked": true,
     "schema_version": 3,
     "solution": false,
     "task": false
    }
   },
   "source": [
    "The following function plots comparative boxplots for the performance of each classifier across folds, across each evaluation metric. The boxplots each show a range of performances across folds, and comparing adjacent boxplots allows us to see if one classifier consistnently performs better than another.\n",
    "\n",
    "**Instructions**:\n",
    "* Run the following cell.\n",
    "* Analyze the results in your Reflection section."
   ]
  },
  {
   "cell_type": "code",
   "execution_count": 57,
   "metadata": {
    "deletable": false,
    "editable": false,
    "nbgrader": {
     "cell_type": "code",
     "checksum": "5c69e307b6b43231ebba5e70c7c5ddba",
     "grade": false,
     "grade_id": "cell-2d8fd76762fab09f",
     "locked": true,
     "schema_version": 3,
     "solution": false,
     "task": false
    }
   },
   "outputs": [
    {
     "data": {
      "image/png": "[encoded data removed]",
      "text/plain": [
       "<Figure size 864x432 with 1 Axes>"
      ]
     },
     "metadata": {
      "needs_background": "light"
     },
     "output_type": "display_data"
    }
   ],
   "source": [
    "import seaborn as sns\n",
    "import matplotlib.pyplot as plt\n",
    "\n",
    "def plot_performances(named_performances):\n",
    "    # Concatenate all the results DataFrames into a single dataframe\n",
    "    all_performances = None\n",
    "    for model_name, performance in named_performances:\n",
    "        performance = performance.copy()\n",
    "        # Add a column for the \"model\" so we know which results belong to which\n",
    "        performance['model'] = model_name\n",
    "        if all_performances is None:\n",
    "            all_performances = performance\n",
    "        else:\n",
    "            all_performances = pd.concat([all_performances, performance])\n",
    "    # Remove the \"fold\" attribute, so we don't graph it\n",
    "    all_performances.drop('fold', axis=1, inplace=True)\n",
    "    # Melt the data, so its in a \"long\" format instead of a \"wide\" format,\n",
    "    # which seaborn prefers.\n",
    "    performances_melted = all_performances.melt(id_vars=['model'], var_name='metric', value_name='score')\n",
    "    \n",
    "    # Use Seaborn/matplot to plot the comparative boxplots\n",
    "    plt.figure(figsize=(12, 6))\n",
    "    # The x-axis is the metric, the y-axis is the score, and the hue is the model\n",
    "    sns.boxplot(data=performances_melted, x='metric', y='score', hue='model')\n",
    "    # Always use 0-1 for the y-axis.\n",
    "    plt.ylim(0, 1)\n",
    "    plt.title('Model Performances')\n",
    "    plt.ylabel('Score')\n",
    "    plt.xticks(rotation=45)\n",
    "    plt.show()\n",
    "\n",
    "# Call the function, passing our 2 models\n",
    "plot_performances([\n",
    "    ('Decision Tree', dt_performance),\n",
    "    ('AdaBoost', adaboost_performance)\n",
    "])"
   ]
  },
  {
   "cell_type": "markdown",
   "metadata": {
    "deletable": false,
    "editable": false,
    "nbgrader": {
     "cell_type": "markdown",
     "checksum": "c951b647bef923bda59c0aabdad675c0",
     "grade": false,
     "grade_id": "cell-f2b96330765ce2f5",
     "locked": true,
     "schema_version": 3,
     "solution": false,
     "task": false
    }
   },
   "source": [
    "## Oversampling"
   ]
  },
  {
   "cell_type": "markdown",
   "metadata": {
    "deletable": false,
    "editable": false,
    "nbgrader": {
     "cell_type": "markdown",
     "checksum": "9fd2ff9e379b8bee065e90ed4d75e1ff",
     "grade": false,
     "grade_id": "cell-bf47d659dc9cd872",
     "locked": true,
     "schema_version": 3,
     "solution": false,
     "task": false
    }
   },
   "source": [
    "One of the clear challenges for both of our classifiers is poor performance on the positive, minority class (Attrition = True) compared with the negative, majority class (Attrition = False).\n",
    "\n",
    "To address that, we will use a technique called oversampling. For this we will use the [imbalanced-learn library](https://imbalanced-learn.org/stable/)."
   ]
  },
  {
   "cell_type": "markdown",
   "metadata": {
    "deletable": false,
    "editable": false,
    "nbgrader": {
     "cell_type": "markdown",
     "checksum": "ab1684ed5738a2bfd3f111f969431f6f",
     "grade": false,
     "grade_id": "cell-7f498f9573c4052e",
     "locked": true,
     "schema_version": 3,
     "solution": false,
     "task": false
    }
   },
   "source": [
    "**Instructions**:\n",
    "* Create a RandomOverSampler. This is a pre-processing step which will oversample before training (but not before prediction/testing).\n",
    "* Set the sampling_strategy to 'minority'. This tells the oversampler to oversample the minority class until it has the same representation as the majority class.\n",
    "\n",
    "Relevant documentation:\n",
    "* [RandomOverSampler](https://imbalanced-learn.org/stable/references/generated/imblearn.over_sampling.RandomOverSampler.html)"
   ]
  },
  {
   "cell_type": "code",
   "execution_count": 58,
   "metadata": {
    "deletable": false,
    "nbgrader": {
     "cell_type": "code",
     "checksum": "96d945ce276a5327bffd2bc339da6d58",
     "grade": false,
     "grade_id": "cell-c35a86561004e77b",
     "locked": false,
     "schema_version": 3,
     "solution": true,
     "task": false
    }
   },
   "outputs": [],
   "source": [
    "from imblearn.over_sampling import RandomOverSampler\n",
    "\n",
    "# TODO: Create the oversampler\n",
    "oversampler = RandomOverSampler( sampling_strategy='minority')\n"
   ]
  },
  {
   "cell_type": "code",
   "execution_count": 59,
   "metadata": {},
   "outputs": [
    {
     "name": "stdout",
     "output_type": "stream",
     "text": [
      "Shape of X_train_resampled (1724, 34)\n",
      "Number of duplicated instances in X_train_resampled 695\n",
      "Percent of y_train_resampled that is positive class: 0.5\n"
     ]
    }
   ],
   "source": [
    "# Let's see the results (which include a resampled X and Y)\n",
    "X_train_resampled, y_train_resampled = oversampler.fit_resample(X_train, y_train)\n",
    "\n",
    "print(\"Shape of X_train_resampled\", X_train_resampled.shape)\n",
    "print(\"Number of duplicated instances in X_train_resampled\", X_train_resampled.duplicated().sum())\n",
    "print(\"Percent of y_train_resampled that is positive class:\", y_train_resampled.mean())"
   ]
  },
  {
   "cell_type": "code",
   "execution_count": 60,
   "metadata": {
    "deletable": false,
    "editable": false,
    "nbgrader": {
     "cell_type": "code",
     "checksum": "d9f7799a717cc3fdfc7d85334db7d5d2",
     "grade": true,
     "grade_id": "cell-05bb42c9bd0092ac",
     "locked": true,
     "points": 1,
     "schema_version": 3,
     "solution": false,
     "task": false
    }
   },
   "outputs": [],
   "source": [
    "assert y_train_resampled.mean() == 0.5, \"Make sure you have set the sampling_strategy to 'minority'\""
   ]
  },
  {
   "cell_type": "markdown",
   "metadata": {
    "deletable": false,
    "editable": false,
    "nbgrader": {
     "cell_type": "markdown",
     "checksum": "5cba9f5b75a3b1726e465bcf1f51e5ad",
     "grade": false,
     "grade_id": "cell-784b5254d8f8e935",
     "locked": true,
     "schema_version": 3,
     "solution": false,
     "task": false
    }
   },
   "source": [
    "You may have noticed that, unlike a normal sklearn preprocessing step (e.g. `MinMaxScaler`), the `oversampler` uses `fit_resample` rather than `fit_transform`, and this method returns both a resampled `X` and `y`.\n",
    "\n",
    "Because of this difference, if we want to use oversampling in a pipeline, we need to use a special pipeline that accounts for this, proveded by imbalanced-learn. It is also called `Pipeline`, but to avoid confusion we will import it as `ImbPipeline`.\n",
    "\n",
    "**Instructions**\n",
    "* Create an `ImbPipeline` consisting of first the oversampler, then the adaboost_pipeline.\n",
    "* The ImbPipeline takes as its first argument a list of (\"Step Name\", step) tuples. For example:\n",
    "\n",
    "```\n",
    "pipeline = ImbPipeline([(\"Step name 1\", step_1), (\"Step name 2\", step_2)])\n",
    "```\n",
    "\n",
    "Relevant documentation:\n",
    "* [Pipeline](https://imbalanced-learn.org/stable/references/generated/imblearn.pipeline.Pipeline.html)"
   ]
  },
  {
   "cell_type": "code",
   "execution_count": 61,
   "metadata": {
    "deletable": false,
    "nbgrader": {
     "cell_type": "code",
     "checksum": "1e5977ca8c3142ad09988c8b2aa9febf",
     "grade": false,
     "grade_id": "cell-ae5d1782b71807c6",
     "locked": false,
     "schema_version": 3,
     "solution": true,
     "task": false
    }
   },
   "outputs": [
    {
     "data": {
      "text/plain": [
       "Pipeline(steps=[('oversampler',\n",
       "                 RandomOverSampler(sampling_strategy='minority')),\n",
       "                ('adaboost_pipeline',\n",
       "                 Pipeline(steps=[('preprocessingtransformer',\n",
       "                                  PreprocessingTransformer()),\n",
       "                                 ('adaboostclassifier',\n",
       "                                  AdaBoostClassifier(learning_rate=0.75,\n",
       "                                                     n_estimators=60,\n",
       "                                                     random_state=1234))]))])"
      ]
     },
     "execution_count": 61,
     "metadata": {},
     "output_type": "execute_result"
    }
   ],
   "source": [
    "from imblearn.pipeline import Pipeline as ImbPipeline\n",
    "\n",
    "# TODO: Create an oversampling adaboost pipeline\n",
    "oversampled_adaboost_pipeline = ImbPipeline([(\"oversampler\", oversampler), (\"adaboost_pipeline\", adaboost_pipeline)])\n",
    "\n",
    "\n",
    "oversampled_adaboost_pipeline"
   ]
  },
  {
   "cell_type": "code",
   "execution_count": 62,
   "metadata": {
    "deletable": false,
    "editable": false,
    "nbgrader": {
     "cell_type": "code",
     "checksum": "c38e452b3a705efd78fd514dac838880",
     "grade": true,
     "grade_id": "cell-3a04bbb79cff9a07",
     "locked": true,
     "points": 1,
     "schema_version": 3,
     "solution": false,
     "task": false
    }
   },
   "outputs": [],
   "source": [
    "assert oversampled_adaboost_pipeline.steps[0][1] == oversampler, \"Make sure you oversample before Adaboost\"\n",
    "assert oversampled_adaboost_pipeline.steps[1][1] == adaboost_pipeline, \"Make sure you use your adaboost_pipeline second\""
   ]
  },
  {
   "cell_type": "markdown",
   "metadata": {},
   "source": [
    "Now we can compare the performance of our oversampled pipeline to our original AdaBoost.\n",
    "\n",
    "**Instructions**:\n",
    "* Use our `cross_validate_and_predict` (defined above) to get the performance and predictions for the `oversampled_adaboost_pipeline`.\n",
    "* Print the `classification_report` and `confusion_matrix` using the predictions.\n",
    "* Analyze these results in your Reflection section."
   ]
  },
  {
   "cell_type": "code",
   "execution_count": 63,
   "metadata": {
    "deletable": false,
    "nbgrader": {
     "cell_type": "code",
     "checksum": "0df2cf8d8d84537d6490c201b1168e42",
     "grade": false,
     "grade_id": "cell-98012f6a57c8c90d",
     "locked": false,
     "schema_version": 3,
     "solution": true,
     "task": false
    }
   },
   "outputs": [
    {
     "name": "stdout",
     "output_type": "stream",
     "text": [
      "Classification Report:\n",
      "              precision    recall  f1-score   support\n",
      "\n",
      "           0       0.92      0.80      0.86       862\n",
      "           1       0.39      0.63      0.48       167\n",
      "\n",
      "    accuracy                           0.78      1029\n",
      "   macro avg       0.65      0.72      0.67      1029\n",
      "weighted avg       0.83      0.78      0.80      1029\n",
      "\n",
      "Confusion Matrix:\n",
      "[[693 169]\n",
      " [ 61 106]]\n"
     ]
    }
   ],
   "source": [
    "# TODO: Calculate the performance and predictions\n",
    "oversampled_adaboost_performance,oversampled_adaboost_pred = cross_validate_and_predict(\n",
    "    oversampled_adaboost_pipeline, X_train, y_train, scoring_metrics\n",
    ")\n",
    "\n",
    "# TODO: Print the classification_report and confusion_matrix\n",
    "\n",
    "print(\"Classification Report:\")\n",
    "print(classification_report(y_train, oversampled_adaboost_pred))\n",
    "\n",
    "print(\"Confusion Matrix:\")\n",
    "print(confusion_matrix(y_train, oversampled_adaboost_pred))"
   ]
  },
  {
   "cell_type": "markdown",
   "metadata": {
    "deletable": false,
    "editable": false,
    "nbgrader": {
     "cell_type": "markdown",
     "checksum": "156d2177a628e340eac01e47b7c24dc7",
     "grade": false,
     "grade_id": "cell-6b899a9352acacd5",
     "locked": true,
     "schema_version": 3,
     "solution": false,
     "task": false
    }
   },
   "source": [
    "Now we can plot the CV performance of each model side-by-side."
   ]
  },
  {
   "cell_type": "code",
   "execution_count": 64,
   "metadata": {
    "deletable": false,
    "editable": false,
    "nbgrader": {
     "cell_type": "code",
     "checksum": "de48be9d5cc2908994e6c833dc3d3c9d",
     "grade": false,
     "grade_id": "cell-8450238ff52b4ec9",
     "locked": true,
     "schema_version": 3,
     "solution": false,
     "task": false
    }
   },
   "outputs": [
    {
     "data": {
      "image/png": "[encoded data removed]",
      "text/plain": [
       "<Figure size 864x432 with 1 Axes>"
      ]
     },
     "metadata": {
      "needs_background": "light"
     },
     "output_type": "display_data"
    }
   ],
   "source": [
    "plot_performances([\n",
    "    ('Decision Tree', dt_performance),\n",
    "    ('AdaBoost', adaboost_performance),\n",
    "    ('AdaBoost Oversampled', oversampled_adaboost_performance)\n",
    "])"
   ]
  },
  {
   "cell_type": "markdown",
   "metadata": {
    "deletable": false,
    "editable": false,
    "nbgrader": {
     "cell_type": "markdown",
     "checksum": "54475fc2ea012dc3095be7f93771464f",
     "grade": false,
     "grade_id": "cell-51fce1e1f40a0597",
     "locked": true,
     "schema_version": 3,
     "solution": false,
     "task": false
    }
   },
   "source": [
    "## Synthetic Data"
   ]
  },
  {
   "cell_type": "markdown",
   "metadata": {
    "deletable": false,
    "editable": false,
    "nbgrader": {
     "cell_type": "markdown",
     "checksum": "79ae93eb5e5fe454eb147418a6b1e795",
     "grade": false,
     "grade_id": "cell-fdecf43ccba11f67",
     "locked": true,
     "schema_version": 3,
     "solution": false,
     "task": false
    }
   },
   "source": [
    "Another approach for addressing poor performance on a minorty class is data augmentation with *synthetic* data. This has the same goal as oversampling -- increasing the number of minority class instances -- but it does so by creating new data, rather than repeating the sampling of existing data.\n",
    "\n",
    "We will use a technique called SMOTE, specifically a version called SMOTENC, which handles both nominal and continuous attributes. In order to work, it needs to know which attributes in our dataset are nominal (really, it means categorical - any data object not represented by a number). Therefore, we start by identifying all of the string columns in our dataset.\n",
    "\n",
    "**Note**: we could also apply SMOTE after feature encoding, though this may not make sense, since SMOTE will, by default, create values other than 0/1 for binary or one-hot encoded attributes."
   ]
  },
  {
   "cell_type": "code",
   "execution_count": 65,
   "metadata": {
    "deletable": false,
    "editable": false,
    "nbgrader": {
     "cell_type": "code",
     "checksum": "14424a5c67ee495b4e33e059cedfe9be",
     "grade": false,
     "grade_id": "cell-766efb67adb4737e",
     "locked": true,
     "schema_version": 3,
     "solution": false,
     "task": false
    }
   },
   "outputs": [
    {
     "data": {
      "text/plain": [
       "[1, 3, 6, 10, 14, 16, 20, 21]"
      ]
     },
     "execution_count": 65,
     "metadata": {},
     "output_type": "execute_result"
    }
   ],
   "source": [
    "# indices of string columns in DF\n",
    "string_cols = X_train.select_dtypes(include=['object']).columns\n",
    "string_cols_indices = [X_train.columns.get_loc(col) for col in string_cols]\n",
    "string_cols_indices"
   ]
  },
  {
   "cell_type": "markdown",
   "metadata": {
    "deletable": false,
    "editable": false,
    "nbgrader": {
     "cell_type": "markdown",
     "checksum": "151c7f783ec506372032a915b2cc8a78",
     "grade": false,
     "grade_id": "cell-ae35b276b70a75f5",
     "locked": true,
     "schema_version": 3,
     "solution": false,
     "task": false
    }
   },
   "source": [
    "**Instructions**:\n",
    "* Create a SMOTENC preprocessing step.\n",
    "  * Provide it the set of `string_cols_indices` for its categorical features.\n",
    "  * Use a `random_state` of `1234`.\n",
    "* Create a `smote_adaboost_pipeline`, consisting of a `smote` step followed by the `adaboost_pipeline`.\n",
    "\n",
    "Relevant documentation:\n",
    "* [SMOTENC](https://imbalanced-learn.org/stable/references/generated/imblearn.over_sampling.SMOTENC.html): Pay attention to the `categorical_features` parameter."
   ]
  },
  {
   "cell_type": "code",
   "execution_count": 66,
   "metadata": {
    "deletable": false,
    "nbgrader": {
     "cell_type": "code",
     "checksum": "637a83dc9b7add08e13ec4ec4c7af022",
     "grade": false,
     "grade_id": "cell-05474c1fcf173123",
     "locked": false,
     "schema_version": 3,
     "solution": true,
     "task": false
    }
   },
   "outputs": [],
   "source": [
    "from imblearn.over_sampling import SMOTENC\n",
    "\n",
    "# TODO: Create a SMOTENC preprocessing step\n",
    "smote = SMOTENC(string_cols_indices, random_state=1234)\n",
    "\n",
    "# TODO: Create an ImbPipeline with smote + adaboost\n",
    "smote_adaboost_pipeline = ImbPipeline([(\"smote\", smote), (\"adaboost_pipeline\", adaboost_pipeline)])\n",
    "\n"
   ]
  },
  {
   "cell_type": "code",
   "execution_count": 67,
   "metadata": {
    "deletable": false,
    "editable": false,
    "nbgrader": {
     "cell_type": "code",
     "checksum": "d82e35287a3c78fa1d308cab0ce3360c",
     "grade": true,
     "grade_id": "cell-e198d82cd9681fab",
     "locked": true,
     "points": 2,
     "schema_version": 3,
     "solution": false,
     "task": false
    }
   },
   "outputs": [],
   "source": [
    "assert isinstance(smote, SMOTENC), \"Make sure to use SMOTENC, not SMOTE\"\n",
    "assert smote.categorical_features == string_cols_indices, \"Make sure to set the categorical features\"\n",
    "assert smote.random_state == 1234, \"Make sure to set the random state\"\n",
    "\n",
    "assert smote_adaboost_pipeline.steps[0][1] == smote, \"Make sure you oversample before Adaboost\"\n",
    "assert smote_adaboost_pipeline.steps[1][1] == adaboost_pipeline, \"Make sure you use your adaboost_pipeline second\""
   ]
  },
  {
   "cell_type": "markdown",
   "metadata": {
    "deletable": false,
    "editable": false,
    "nbgrader": {
     "cell_type": "markdown",
     "checksum": "d7d879aa61f5ce03fec727faea737197",
     "grade": false,
     "grade_id": "cell-cb179bbae9ae2574",
     "locked": true,
     "schema_version": 3,
     "solution": false,
     "task": false
    }
   },
   "source": [
    "Note that when SMOTE resamples the dataset, we still get balanced data, but this time without duplicates!"
   ]
  },
  {
   "cell_type": "code",
   "execution_count": 68,
   "metadata": {},
   "outputs": [
    {
     "name": "stdout",
     "output_type": "stream",
     "text": [
      "Shape of X_train_resampled (1724, 34)\n",
      "Number of duplicated instances in X_train_resampled 0\n",
      "Percent of y_train_resampled that is positive class: 0.5\n"
     ]
    }
   ],
   "source": [
    "# Let's see the results (which include a resampled X and Y)\n",
    "X_train_resampled, y_train_resampled = smote.fit_resample(X_train, y_train)\n",
    "\n",
    "print(\"Shape of X_train_resampled\", X_train_resampled.shape)\n",
    "print(\"Number of duplicated instances in X_train_resampled\", X_train_resampled.duplicated().sum())\n",
    "print(\"Percent of y_train_resampled that is positive class:\", y_train_resampled.mean())"
   ]
  },
  {
   "cell_type": "markdown",
   "metadata": {
    "deletable": false,
    "editable": false,
    "nbgrader": {
     "cell_type": "markdown",
     "checksum": "bdac1bae844e8b688eb77046a8c2a22c",
     "grade": false,
     "grade_id": "cell-d6cd8770166d45cc",
     "locked": true,
     "schema_version": 3,
     "solution": false,
     "task": false
    }
   },
   "source": [
    "Now we can compare the performance of our SMOTE pipeline to the other versions.\n",
    "\n",
    "**Instructions**:\n",
    "* Use our `cross_validate_and_predict` (defined above) to get the performance and predictions for the `smote_adaboost_pipeline`.\n",
    "* Print the `classification_report` and `confusion_matrix` using the predictions.\n",
    "* Analyze these results in your Reflection section.\n",
    "* **Note**: This may take a moment to run."
   ]
  },
  {
   "cell_type": "code",
   "execution_count": 69,
   "metadata": {
    "deletable": false,
    "nbgrader": {
     "cell_type": "code",
     "checksum": "4a172cd957ede34322959e454c51ae45",
     "grade": false,
     "grade_id": "cell-5447b2c3a6260fb6",
     "locked": false,
     "schema_version": 3,
     "solution": true,
     "task": false
    }
   },
   "outputs": [
    {
     "name": "stdout",
     "output_type": "stream",
     "text": [
      "              precision    recall  f1-score   support\n",
      "\n",
      "           0       0.91      0.87      0.89       862\n",
      "           1       0.46      0.57      0.51       167\n",
      "\n",
      "    accuracy                           0.82      1029\n",
      "   macro avg       0.69      0.72      0.70      1029\n",
      "weighted avg       0.84      0.82      0.83      1029\n",
      "\n",
      "[[752 110]\n",
      " [ 72  95]]\n"
     ]
    }
   ],
   "source": [
    "# TODO: Calculate the performance and predictions\n",
    "smote_adaboost_performance,smote_adaboost_pred = cross_validate_and_predict(\n",
    "    smote_adaboost_pipeline, X_train, y_train, scoring_metrics\n",
    ")\n",
    "\n",
    "print(classification_report(y_train, smote_adaboost_pred))\n",
    "print(confusion_matrix(y_train, smote_adaboost_pred))"
   ]
  },
  {
   "cell_type": "code",
   "execution_count": 70,
   "metadata": {},
   "outputs": [
    {
     "name": "stdout",
     "output_type": "stream",
     "text": [
      "              precision    recall  f1-score   support\n",
      "\n",
      "           0       0.88      0.97      0.92       862\n",
      "           1       0.67      0.33      0.44       167\n",
      "\n",
      "    accuracy                           0.86      1029\n",
      "   macro avg       0.78      0.65      0.68      1029\n",
      "weighted avg       0.85      0.86      0.85      1029\n",
      "\n",
      "[[835  27]\n",
      " [112  55]]\n"
     ]
    }
   ],
   "source": [
    "\n",
    "print(classification_report(y_train, adaboost_pred))\n",
    "print(confusion_matrix(y_train, adaboost_pred))"
   ]
  },
  {
   "cell_type": "markdown",
   "metadata": {
    "deletable": false,
    "editable": false,
    "nbgrader": {
     "cell_type": "markdown",
     "checksum": "c39199a21011bcd8e515fab782501ff4",
     "grade": false,
     "grade_id": "cell-8f706d49229cc6ff",
     "locked": true,
     "schema_version": 3,
     "solution": false,
     "task": false
    }
   },
   "source": [
    "Now we can plot the perforamnce of our 4 classifiers side-by-side:"
   ]
  },
  {
   "cell_type": "code",
   "execution_count": 71,
   "metadata": {
    "deletable": false,
    "editable": false,
    "nbgrader": {
     "cell_type": "code",
     "checksum": "0bda24777c8fb5abf83195aadd33c7d9",
     "grade": false,
     "grade_id": "cell-db47e5d524e33dac",
     "locked": true,
     "schema_version": 3,
     "solution": false,
     "task": false
    }
   },
   "outputs": [
    {
     "data": {
      "image/png": "[encoded data removed]",
      "text/plain": [
       "<Figure size 864x432 with 1 Axes>"
      ]
     },
     "metadata": {
      "needs_background": "light"
     },
     "output_type": "display_data"
    }
   ],
   "source": [
    "plot_performances([\n",
    "    ('Decision Tree', dt_performance),\n",
    "    ('AdaBoost', adaboost_performance),\n",
    "    ('AdaBoost Oversampled', oversampled_adaboost_performance),\n",
    "    ('AdaBoost SMOTE', smote_adaboost_performance)\n",
    "])"
   ]
  },
  {
   "cell_type": "code",
   "execution_count": 72,
   "metadata": {},
   "outputs": [
    {
     "data": {
      "image/png": "[encoded data removed]",
      "text/plain": [
       "<Figure size 864x432 with 1 Axes>"
      ]
     },
     "metadata": {
      "needs_background": "light"
     },
     "output_type": "display_data"
    }
   ],
   "source": [
    "plot_performances([\n",
    "#     ('Decision Tree', dt_performance),\n",
    "    ('AdaBoost', adaboost_performance),\n",
    "    ('AdaBoost Oversampled', oversampled_adaboost_performance),\n",
    "    ('AdaBoost SMOTE', smote_adaboost_performance)\n",
    "])"
   ]
  },
  {
   "cell_type": "markdown",
   "metadata": {
    "deletable": false,
    "editable": false,
    "nbgrader": {
     "cell_type": "markdown",
     "checksum": "7ea42a9c8f21d1bcdaacdeef524652b1",
     "grade": false,
     "grade_id": "cell-3933a271f70b1d8e",
     "locked": true,
     "schema_version": 3,
     "solution": false,
     "task": false
    }
   },
   "source": [
    "## Learning Curves"
   ]
  },
  {
   "cell_type": "markdown",
   "metadata": {
    "deletable": false,
    "editable": false,
    "nbgrader": {
     "cell_type": "markdown",
     "checksum": "87b0bb6e7decda9bc1b55af8f41a1143",
     "grade": false,
     "grade_id": "cell-a14e4e822a871bb7",
     "locked": true,
     "schema_version": 3,
     "solution": false,
     "task": false
    }
   },
   "source": [
    "Our classifier is now performing much better on the minority class, but the overall performance has not necessarily improved much. This makes sense; often there is a trade-off for minority-class performance vs overall preformance.\n",
    "\n",
    "We can investigate whether we have sufficient data using a learning curve, which plots the performance of the classifier as we increase training data.\n",
    "\n",
    "**Instructions**:\n",
    "* Read the documentation for the [learning_curve](https://scikit-learn.org/stable/modules/generated/sklearn.model_selection.learning_curve.html) function.\n",
    "* Use this function to calculate the training_sizes, train_scores and test_scores for the `oversampled_adaboost_pipeline`.\n",
    "  * Use your training data for this analysis (`X_train`, `y_train`).\n",
    "  * For the train_sizes, use `[0.1, 0.2, ..., 0.9, 1.0]`. As a shorthand, you can use `np.linspace(0.1, 1.0, 10)`.\n",
    "  * For scoring, use `\"average_precision\"`.\n",
    "  * **Note**: This function returns a tuple with 3 items in it. You can save each reulst in a separate variable like this: `result_1, result_2, result_3 = learning_curve(...)`\n",
    "  * **Note**: The function may throw some warnings, but this is ok. Average precision may not be well defined if the classifier performs very poorly with limited training data.\n",
    "* Plot the results (using the code in the following cell).\n",
    "* Analyze the plot below in your Reflection section.\n",
    "\n",
    "Relevant documentation:\n",
    "* [learning_curve](https://scikit-learn.org/stable/modules/generated/sklearn.model_selection.learning_curve.html)"
   ]
  },
  {
   "cell_type": "code",
   "execution_count": 73,
   "metadata": {
    "deletable": false,
    "nbgrader": {
     "cell_type": "code",
     "checksum": "7f47aebc449cbe81260db67eca067144",
     "grade": false,
     "grade_id": "cell-fc6bcf0179338353",
     "locked": false,
     "schema_version": 3,
     "solution": true,
     "task": false
    }
   },
   "outputs": [
    {
     "name": "stdout",
     "output_type": "stream",
     "text": [
      "[ 82 164 246 329 411 493 576 658 740 823]\n",
      "[[0.34836881 0.17813873 0.35426794 0.38503581 0.20124727]\n",
      " [0.35877451 0.19946736 0.40015697 0.41274415 0.26238242]\n",
      " [0.39088896 0.32075985 0.58706699 0.51718629 0.50313398]\n",
      " [0.38603643 0.36799575 0.55329318 0.46597088 0.47419766]\n",
      " [0.51548601 0.38905745 0.57244924 0.37682057 0.51521695]\n",
      " [0.4468455  0.3724806  0.65976458 0.42478881 0.48682092]\n",
      " [0.48652885 0.37324715 0.7125937  0.38913276 0.46554637]\n",
      " [0.45841185 0.38684643 0.6323774  0.49848178 0.45944169]\n",
      " [0.46266627 0.42233199 0.71381883 0.64082491 0.48495226]\n",
      " [0.46511175 0.4646357  0.61201632 0.62193893 0.50527135]]\n"
     ]
    }
   ],
   "source": [
    "from sklearn.model_selection import learning_curve\n",
    "from sklearn.metrics import average_precision_score\n",
    "import numpy as np\n",
    "\n",
    "# TODO: Define these variables using learning_curve\n",
    "train_sizes ,train_scores ,test_scores =  learning_curve(\n",
    "    oversampled_adaboost_pipeline , X_train, y_train, train_sizes=np.linspace(0.1, 1.0, 10),scoring=\"average_precision\"\n",
    ")\n",
    "\n",
    "\n",
    "\n",
    "print(train_sizes)\n",
    "print(test_scores)"
   ]
  },
  {
   "cell_type": "code",
   "execution_count": 74,
   "metadata": {
    "deletable": false,
    "editable": false,
    "nbgrader": {
     "cell_type": "code",
     "checksum": "9a01da4f38015dccae6196b48a09eb93",
     "grade": false,
     "grade_id": "cell-a251ab29132c62ca",
     "locked": true,
     "schema_version": 3,
     "solution": false,
     "task": false
    }
   },
   "outputs": [
    {
     "data": {
      "image/png": "[encoded data removed]",
      "text/plain": [
       "<Figure size 432x288 with 1 Axes>"
      ]
     },
     "metadata": {
      "needs_background": "light"
     },
     "output_type": "display_data"
    }
   ],
   "source": [
    "# Now we plot the results\n",
    "plt.plot(train_sizes, np.mean(test_scores, axis=1), label='Validation Score')\n",
    "plt.legend()\n",
    "plt.show()"
   ]
  },
  {
   "cell_type": "markdown",
   "metadata": {
    "deletable": false,
    "editable": false,
    "nbgrader": {
     "cell_type": "markdown",
     "checksum": "572cdd1f40f85cb81f16620bccbfcfb2",
     "grade": false,
     "grade_id": "cell-c1d97edeb9ac3d19",
     "locked": true,
     "schema_version": 3,
     "solution": false,
     "task": false
    }
   },
   "source": [
    "## Fairness Evaluation"
   ]
  },
  {
   "cell_type": "markdown",
   "metadata": {
    "deletable": false,
    "editable": false,
    "nbgrader": {
     "cell_type": "markdown",
     "checksum": "902be37461fa9be4bcb7fe9482247a89",
     "grade": false,
     "grade_id": "cell-3f27ed0a4949aea6",
     "locked": true,
     "schema_version": 3,
     "solution": false,
     "task": false
    }
   },
   "source": [
    "Now that we have improved our classifier's performance in a number of ways, we should evaluate how *fair* those results are. We will do so using the [AI Fairness 360](https://aif360.readthedocs.io/en/stable/Getting%20Started.html) library.\n",
    "\n",
    "For this evaluation, we will focus on the results of our regular (**not oversampled**) AdaBoost pipeline."
   ]
  },
  {
   "cell_type": "code",
   "execution_count": 75,
   "metadata": {},
   "outputs": [],
   "source": [
    "from aif360.sklearn.metrics import statistical_parity_difference, disparate_impact_ratio, equal_opportunity_difference"
   ]
  },
  {
   "cell_type": "markdown",
   "metadata": {
    "deletable": false,
    "editable": false,
    "nbgrader": {
     "cell_type": "markdown",
     "checksum": "0b9e7abf71bf660eae435866ba0ff4ee",
     "grade": false,
     "grade_id": "cell-c6183f1588e58797",
     "locked": true,
     "schema_version": 3,
     "solution": false,
     "task": false
    }
   },
   "source": [
    "We will investigate fairness with respect to **Gender**. For the sake of this analysis, we will consider \"Male\" to be the privileged group.\n",
    "\n",
    "To perform this analysis, we will need to have a binary vector indicating which instances in our training dataset are male. "
   ]
  },
  {
   "cell_type": "code",
   "execution_count": 76,
   "metadata": {
    "deletable": false,
    "editable": false,
    "nbgrader": {
     "cell_type": "code",
     "checksum": "9fe14cd5419a0ac58ff7dd86b977fe10",
     "grade": false,
     "grade_id": "cell-091f7091a296bda5",
     "locked": true,
     "schema_version": 3,
     "solution": false,
     "task": false
    }
   },
   "outputs": [
    {
     "data": {
      "text/plain": [
       "0.6015549076773566"
      ]
     },
     "execution_count": 76,
     "metadata": {},
     "output_type": "execute_result"
    }
   ],
   "source": [
    "is_male_train = X_train['Gender']=='Male'\n",
    "is_male_train.mean()"
   ]
  },
  {
   "cell_type": "markdown",
   "metadata": {
    "deletable": false,
    "editable": false,
    "nbgrader": {
     "cell_type": "markdown",
     "checksum": "1ff007a667d988a026e0e1e26f8ef762",
     "grade": false,
     "grade_id": "cell-d32ea25211ae4002",
     "locked": true,
     "schema_version": 3,
     "solution": false,
     "task": false
    }
   },
   "source": [
    "**Instructions**\n",
    "* Calculate the `statistical_parity_difference` for the CV predictions of our AdaBoost pipeline, `adaboost_pred`.\n",
    "* Like many metrics, we need to provide the true y-labels and the predicted y-labels.\n",
    "* **Note**: Unlike other metrics, we also need to provide the `prot_attr`, which should be a our `is_male_train` binary vector, indicating which instances are Male.\n",
    "* Report your result and analyze it in the Reflection section.\n",
    "\n",
    "Relevant documentation:\n",
    "* [statistical_parity_difference](https://aif360.readthedocs.io/en/latest/modules/generated/aif360.sklearn.metrics.statistical_parity_difference.html)"
   ]
  },
  {
   "cell_type": "code",
   "execution_count": 77,
   "metadata": {
    "deletable": false,
    "nbgrader": {
     "cell_type": "code",
     "checksum": "20dbeaa239754db5ca610a7546067606",
     "grade": false,
     "grade_id": "cell-74a2c091dd8893a9",
     "locked": false,
     "schema_version": 3,
     "solution": true,
     "task": false
    }
   },
   "outputs": [
    {
     "data": {
      "text/plain": [
       "-0.006781197052681348"
      ]
     },
     "execution_count": 77,
     "metadata": {},
     "output_type": "execute_result"
    }
   ],
   "source": [
    "from aif360.sklearn.metrics import statistical_parity_difference\n",
    "# **here**\n",
    "spd = statistical_parity_difference(y_train, y_pred=adaboost_pred, prot_attr=is_male_train)\n",
    "spd"
   ]
  },
  {
   "cell_type": "markdown",
   "metadata": {
    "deletable": false,
    "editable": false,
    "nbgrader": {
     "cell_type": "markdown",
     "checksum": "bd0d2a7c9556dfc235ed6c3e39f714b9",
     "grade": false,
     "grade_id": "cell-e82856f0ec6672d7",
     "locked": true,
     "schema_version": 3,
     "solution": false,
     "task": false
    }
   },
   "source": [
    "SPD is the difference between the likelihood of predicting attrition for the unprivileged class (Female) minus the likelihood of predicting attrition for the privileged class (Male)."
   ]
  },
  {
   "cell_type": "code",
   "execution_count": 78,
   "metadata": {
    "deletable": false,
    "editable": false,
    "nbgrader": {
     "cell_type": "code",
     "checksum": "9484152b73fdb714c699bd1fee039c5a",
     "grade": false,
     "grade_id": "cell-a5fc38b2db60b0ca",
     "locked": true,
     "schema_version": 3,
     "solution": false,
     "task": false
    }
   },
   "outputs": [
    {
     "data": {
      "text/plain": [
       "-0.006781197052681348"
      ]
     },
     "execution_count": 78,
     "metadata": {},
     "output_type": "execute_result"
    }
   ],
   "source": [
    "adaboost_pred[~is_male_train].mean() - adaboost_pred[is_male_train].mean()"
   ]
  },
  {
   "cell_type": "code",
   "execution_count": 79,
   "metadata": {
    "deletable": false,
    "editable": false,
    "nbgrader": {
     "cell_type": "code",
     "checksum": "936ffc238a4d78de1679d9ad557a0803",
     "grade": true,
     "grade_id": "cell-1522c9f6db02d36b",
     "locked": true,
     "points": 1,
     "schema_version": 3,
     "solution": false,
     "task": false
    }
   },
   "outputs": [],
   "source": [
    "assert spd == (adaboost_pred[X_train['Gender'] == 'Female'].mean() - adaboost_pred[is_male_train].mean())"
   ]
  },
  {
   "cell_type": "markdown",
   "metadata": {
    "deletable": false,
    "editable": false,
    "nbgrader": {
     "cell_type": "markdown",
     "checksum": "a421b56b017a1eb14c988b56951aaa55",
     "grade": false,
     "grade_id": "cell-bc33552946224c98",
     "locked": true,
     "schema_version": 3,
     "solution": false,
     "task": false
    }
   },
   "source": [
    "For comparison, it is important to consider the relative frequencies of attrition among men and women.\n",
    "\n",
    "**Instructions**:\n",
    "* Calculate the likelihood of a Male and Female working having Attrition = True.\n",
    "* Report and analyze this in your Reflection section."
   ]
  },
  {
   "cell_type": "code",
   "execution_count": 80,
   "metadata": {
    "deletable": false,
    "nbgrader": {
     "cell_type": "code",
     "checksum": "3ef6f18dc29944b989785a979813c9bb",
     "grade": false,
     "grade_id": "cell-63da43cf096eadcc",
     "locked": false,
     "schema_version": 3,
     "solution": true,
     "task": false
    }
   },
   "outputs": [
    {
     "data": {
      "text/plain": [
       "0.07560975609756097"
      ]
     },
     "execution_count": 80,
     "metadata": {},
     "output_type": "execute_result"
    }
   ],
   "source": [
    "# YOUR CODE HERE\n",
    "adaboost_pred[~is_male_train].mean()"
   ]
  },
  {
   "cell_type": "code",
   "execution_count": 81,
   "metadata": {},
   "outputs": [
    {
     "data": {
      "text/plain": [
       "0.08239095315024232"
      ]
     },
     "execution_count": 81,
     "metadata": {},
     "output_type": "execute_result"
    }
   ],
   "source": [
    " adaboost_pred[is_male_train].mean()"
   ]
  },
  {
   "cell_type": "code",
   "execution_count": null,
   "metadata": {},
   "outputs": [],
   "source": []
  },
  {
   "cell_type": "markdown",
   "metadata": {
    "deletable": false,
    "editable": false,
    "nbgrader": {
     "cell_type": "markdown",
     "checksum": "877c75460c892f5c06b0fde7218acde0",
     "grade": false,
     "grade_id": "cell-7169978353954638",
     "locked": true,
     "schema_version": 3,
     "solution": false,
     "task": false
    }
   },
   "source": [
    "The disparate impact ration (DIR) is the ratio between the likelihood of predicting attrition for the unprivileged class (Female) minus and likelihood of predicting attrition for the privileged class (Male).\n",
    "\n",
    "The DIR is very similar to SPD, but it reports this as a ratio, rather than a difference.\n",
    "\n",
    "**Instructions**\n",
    "* Calculate the `disparate_impact_ratio` for the CV predictions of our AdaBoost pipeline, `adaboost_pred`. It has the same parameters as SPD.\n",
    "* Report your result and analyze it in the Reflection section.\n",
    "\n",
    "Relevant documentation:\n",
    "* [disparate_impact_ratio](https://aif360.readthedocs.io/en/latest/modules/generated/aif360.sklearn.metrics.disparate_impact_ratio.html)"
   ]
  },
  {
   "cell_type": "code",
   "execution_count": 82,
   "metadata": {
    "deletable": false,
    "nbgrader": {
     "cell_type": "code",
     "checksum": "7fca661ef03f7683e971d255b443987e",
     "grade": false,
     "grade_id": "cell-a98832e768abd43b",
     "locked": false,
     "schema_version": 3,
     "solution": true,
     "task": false
    }
   },
   "outputs": [
    {
     "data": {
      "text/plain": [
       "0.9176948828311813"
      ]
     },
     "execution_count": 82,
     "metadata": {},
     "output_type": "execute_result"
    }
   ],
   "source": [
    "from aif360.sklearn.metrics import disparate_impact_ratio\n",
    "\n",
    "# TODO: Compute the DIR\n",
    "di_ratio = disparate_impact_ratio(y_train, y_pred=adaboost_pred, prot_attr=is_male_train)\n",
    "# YOUR CODE HERE\n",
    "\n",
    "\n",
    "di_ratio"
   ]
  },
  {
   "cell_type": "code",
   "execution_count": 83,
   "metadata": {
    "deletable": false,
    "editable": false,
    "nbgrader": {
     "cell_type": "code",
     "checksum": "adab9c9f0d383b3eaeb798a1ae66d3fd",
     "grade": true,
     "grade_id": "cell-b46f6b12c0f8a2c4",
     "locked": true,
     "points": 1,
     "schema_version": 3,
     "solution": false,
     "task": false
    }
   },
   "outputs": [],
   "source": [
    "assert di_ratio == (adaboost_pred[~is_male_train].mean() / adaboost_pred[is_male_train].mean())"
   ]
  },
  {
   "cell_type": "markdown",
   "metadata": {
    "deletable": false,
    "editable": false,
    "nbgrader": {
     "cell_type": "markdown",
     "checksum": "367cddd495d834ec8b8f6ec63e3118dc",
     "grade": false,
     "grade_id": "cell-f4acbbf2c17f5729",
     "locked": true,
     "schema_version": 3,
     "solution": false,
     "task": false
    }
   },
   "source": [
    "The equal opportunity different (EOD) is the difference between the **recall** for the unprivileged class (Female) minus and the recall for the privileged class (Male).\n",
    "\n",
    "The EOD calculates recall with respect to the positive class, in this case, how well the classifier identifies people who will actually have Attrition.\n",
    "\n",
    "**Instructions**\n",
    "* Calculate the `equal_opportunity_difference` for the CV predictions of our AdaBoost pipeline, `adaboost_pred`. It has the same parameters as SPD and DIR.\n",
    "* Report your result and analyze it in the Reflection section.\n",
    "\n",
    "Relevant documentation:\n",
    "* [equal_opportunity_difference](https://aif360.readthedocs.io/en/stable/modules/generated/aif360.sklearn.metrics.equal_opportunity_difference.html)"
   ]
  },
  {
   "cell_type": "code",
   "execution_count": 84,
   "metadata": {
    "deletable": false,
    "nbgrader": {
     "cell_type": "code",
     "checksum": "a2f54b43ee620953050b8586989e7a49",
     "grade": false,
     "grade_id": "cell-37c086e95a0a979b",
     "locked": false,
     "schema_version": 3,
     "solution": true,
     "task": false
    }
   },
   "outputs": [
    {
     "data": {
      "text/plain": [
       "0.10836385836385837"
      ]
     },
     "execution_count": 84,
     "metadata": {},
     "output_type": "execute_result"
    }
   ],
   "source": [
    "from aif360.sklearn.metrics import equal_opportunity_difference\n",
    "\n",
    "# TODO calculate the equal opportunity difference\n",
    "eod = equal_opportunity_difference(y_train, y_pred=adaboost_pred, prot_attr=is_male_train)\n",
    "\n",
    "\n",
    "eod"
   ]
  },
  {
   "cell_type": "code",
   "execution_count": 85,
   "metadata": {
    "deletable": false,
    "editable": false,
    "nbgrader": {
     "cell_type": "code",
     "checksum": "5c52c56c5f2f3b1bbf3ff496faf5bb02",
     "grade": true,
     "grade_id": "cell-72ad625ed86856eb",
     "locked": true,
     "points": 1,
     "schema_version": 3,
     "solution": false,
     "task": false
    }
   },
   "outputs": [],
   "source": [
    "from sklearn.metrics import recall_score\n",
    "\n",
    "recall_f = recall_score(y_train[~is_male_train], adaboost_pred[~is_male_train])\n",
    "recall_m = recall_score(y_train[is_male_train], adaboost_pred[is_male_train])\n",
    "assert eod == recall_f - recall_m"
   ]
  },
  {
   "cell_type": "markdown",
   "metadata": {
    "deletable": false,
    "editable": false,
    "nbgrader": {
     "cell_type": "markdown",
     "checksum": "4865a8f3b8e8e5ba7459a766674d5f16",
     "grade": false,
     "grade_id": "cell-59c840547b3d977c",
     "locked": true,
     "schema_version": 3,
     "solution": false,
     "task": false
    }
   },
   "source": [
    "One final metric we will look at is [**Average Odds Difference**](https://aif360.readthedocs.io/en/stable/modules/generated/aif360.sklearn.metrics.average_odds_difference.html#aif360-sklearn-metrics-average-odds-difference). This is probably the most informative metric. It measures the average difference between the true postiive rates and false positive rates of the two groups in the protected attribute."
   ]
  },
  {
   "cell_type": "code",
   "execution_count": 86,
   "metadata": {
    "deletable": false,
    "editable": false,
    "nbgrader": {
     "cell_type": "code",
     "checksum": "a6759b2fe947509f1ec0665adbe02e4f",
     "grade": false,
     "grade_id": "cell-8156012aca04b9a8",
     "locked": true,
     "schema_version": 3,
     "solution": false,
     "task": false
    }
   },
   "outputs": [
    {
     "data": {
      "text/plain": [
       "0.04243911280857646"
      ]
     },
     "execution_count": 86,
     "metadata": {},
     "output_type": "execute_result"
    }
   ],
   "source": [
    "from aif360.sklearn.metrics import average_odds_difference\n",
    "\n",
    "average_odds_difference(y_train, adaboost_pred, prot_attr=is_male_train)\n"
   ]
  },
  {
   "cell_type": "markdown",
   "metadata": {
    "deletable": false,
    "editable": false,
    "nbgrader": {
     "cell_type": "markdown",
     "checksum": "0c438bb2e60de2270de3e21613ae817b",
     "grade": false,
     "grade_id": "cell-9e9eed45227f62d6",
     "locked": true,
     "schema_version": 3,
     "solution": false,
     "task": false
    }
   },
   "source": [
    "Probably the most informative way to look at the difference between classifier results for men and women is to simply calculate the classification_report and confusion_matrix for each group:"
   ]
  },
  {
   "cell_type": "code",
   "execution_count": 87,
   "metadata": {
    "deletable": false,
    "editable": false,
    "nbgrader": {
     "cell_type": "code",
     "checksum": "c68667373a47abd774893de9b4573f87",
     "grade": false,
     "grade_id": "cell-4707b929f71bd07a",
     "locked": true,
     "schema_version": 3,
     "solution": false,
     "task": false
    }
   },
   "outputs": [
    {
     "name": "stdout",
     "output_type": "stream",
     "text": [
      "Male\n",
      "              precision    recall  f1-score   support\n",
      "\n",
      "           0       0.87      0.96      0.91       515\n",
      "           1       0.59      0.29      0.39       104\n",
      "\n",
      "    accuracy                           0.85       619\n",
      "   macro avg       0.73      0.62      0.65       619\n",
      "weighted avg       0.82      0.85      0.82       619\n",
      "\n",
      "Female\n",
      "              precision    recall  f1-score   support\n",
      "\n",
      "           0       0.90      0.98      0.94       347\n",
      "           1       0.81      0.40      0.53        63\n",
      "\n",
      "    accuracy                           0.89       410\n",
      "   macro avg       0.85      0.69      0.74       410\n",
      "weighted avg       0.89      0.89      0.88       410\n",
      "\n"
     ]
    }
   ],
   "source": [
    "print('Male')\n",
    "print(classification_report(y_train[is_male_train], adaboost_pred[is_male_train]))\n",
    "\n",
    "print('Female')\n",
    "print(classification_report(y_train[~is_male_train], adaboost_pred[~is_male_train]))\n"
   ]
  },
  {
   "cell_type": "code",
   "execution_count": 88,
   "metadata": {
    "deletable": false,
    "editable": false,
    "nbgrader": {
     "cell_type": "code",
     "checksum": "86539bf974c25348abd3f7417f74f5f6",
     "grade": false,
     "grade_id": "cell-b182b1fdd19c262c",
     "locked": true,
     "schema_version": 3,
     "solution": false,
     "task": false
    }
   },
   "outputs": [
    {
     "name": "stdout",
     "output_type": "stream",
     "text": [
      "Male\n",
      "[[0.9592233  0.0407767 ]\n",
      " [0.71153846 0.28846154]]\n",
      "Female\n",
      "[[0.98270893 0.01729107]\n",
      " [0.6031746  0.3968254 ]]\n"
     ]
    }
   ],
   "source": [
    "print('Male')\n",
    "# Note: we use normalize=True to show fractions in each row\n",
    "print(confusion_matrix(y_train[is_male_train], adaboost_pred[is_male_train], normalize=\"true\"))\n",
    "\n",
    "print('Female')\n",
    "print(confusion_matrix(y_train[~is_male_train], adaboost_pred[~is_male_train], normalize=\"true\"))\n"
   ]
  },
  {
   "cell_type": "markdown",
   "metadata": {
    "deletable": false,
    "editable": false,
    "nbgrader": {
     "cell_type": "markdown",
     "checksum": "d67075ddadbc8cd4c73c9a7d7181af6f",
     "grade": false,
     "grade_id": "cell-9727953f3b1d8350",
     "locked": true,
     "schema_version": 3,
     "solution": false,
     "task": false
    }
   },
   "source": [
    "## Addressing Bias"
   ]
  },
  {
   "cell_type": "markdown",
   "metadata": {
    "deletable": false,
    "editable": false,
    "nbgrader": {
     "cell_type": "markdown",
     "checksum": "d19cf0c64359bdc672740ba369d0ea9e",
     "grade": false,
     "grade_id": "cell-9c0c6e4fe8ed59e1",
     "locked": true,
     "schema_version": 3,
     "solution": false,
     "task": false
    }
   },
   "source": [
    "Now we will explore ways to address our model's bias. The simplest apporach is simply to *remove* the Gender attribute. It's very possible that the only reason we see different outcomes for men and women in our dataset is that the classifier is using that attribute actively to make the decision.\n",
    "\n",
    "To do this, we can add a preprocessing step to remove the attribute, but that would involve reworking our whole preprocessing pipeline. A simpler approach is to simply remove the variance in the `Gender` attribute by setting all instances to one gender, e.g. \"Female\" - that way the model can't make decisions based on Gender. That's what the function `remove_gender_variance` does."
   ]
  },
  {
   "cell_type": "code",
   "execution_count": 89,
   "metadata": {
    "deletable": false,
    "editable": false,
    "nbgrader": {
     "cell_type": "code",
     "checksum": "8afcd253e239bff4f8e33d85c9908c4e",
     "grade": false,
     "grade_id": "cell-8f7c88744cc5fa59",
     "locked": true,
     "schema_version": 3,
     "solution": false,
     "task": false
    }
   },
   "outputs": [
    {
     "data": {
      "text/plain": [
       "Female    1029\n",
       "Name: Gender, dtype: int64"
      ]
     },
     "execution_count": 89,
     "metadata": {},
     "output_type": "execute_result"
    }
   ],
   "source": [
    "# Create a preprocessing step that simply sets all Gender values to \"Female\"\n",
    "def remove_gender_variance(X):\n",
    "    X = X.copy()\n",
    "    X['Gender'] = 'Female'\n",
    "    return X\n",
    "\n",
    "# A function transformer applies a specific function as a preprocessing step in a Pipeline\n",
    "from sklearn.preprocessing import FunctionTransformer\n",
    "remove_gender_transformer = FunctionTransformer(remove_gender_variance)\n",
    "\n",
    "# If we apply this transformer, we see now all instances are artificially set to Female\n",
    "remove_gender_transformer.fit_transform(X_train)['Gender'].value_counts()"
   ]
  },
  {
   "cell_type": "markdown",
   "metadata": {
    "deletable": false,
    "editable": false,
    "nbgrader": {
     "cell_type": "markdown",
     "checksum": "cc6a57bea56a6ffa68f9fe3369ffd9f5",
     "grade": false,
     "grade_id": "cell-16fb884940444031",
     "locked": true,
     "schema_version": 3,
     "solution": false,
     "task": false
    }
   },
   "source": [
    "**Instructions**:\n",
    "* Create a `adaboost_no_gender_pipeline` that first applies the `remove_gender_transformer`, then the `adaboost_pipeline`."
   ]
  },
  {
   "cell_type": "code",
   "execution_count": 90,
   "metadata": {
    "deletable": false,
    "nbgrader": {
     "cell_type": "code",
     "checksum": "aaa4f7371a6bf824567b1a4fb0fc5ac5",
     "grade": false,
     "grade_id": "cell-94d6126a3b022fb1",
     "locked": false,
     "schema_version": 3,
     "solution": true,
     "task": false
    }
   },
   "outputs": [],
   "source": [
    "# TODO: Create the adaboost_no_gender_pipeline\n",
    "adaboost_no_gender_pipeline =  make_pipeline(remove_gender_transformer, adaboost_pipeline)\n"
   ]
  },
  {
   "cell_type": "code",
   "execution_count": 91,
   "metadata": {
    "deletable": false,
    "editable": false,
    "nbgrader": {
     "cell_type": "code",
     "checksum": "9574f6580b46289aaa1222af1d541612",
     "grade": true,
     "grade_id": "cell-220cfb7990c62c91",
     "locked": true,
     "points": 1,
     "schema_version": 3,
     "solution": false,
     "task": false
    }
   },
   "outputs": [],
   "source": [
    "assert adaboost_no_gender_pipeline.steps[0][1] == remove_gender_transformer, \"The gender remover comes first\"\n",
    "assert adaboost_no_gender_pipeline.steps[1][1] == adaboost_pipeline, \"adaboost_pipeline comes second\""
   ]
  },
  {
   "cell_type": "markdown",
   "metadata": {
    "deletable": false,
    "editable": false,
    "nbgrader": {
     "cell_type": "markdown",
     "checksum": "88686e79f8736e3e4aa66e6de7571ba3",
     "grade": false,
     "grade_id": "cell-c84dcd0fceb63358",
     "locked": true,
     "schema_version": 3,
     "solution": false,
     "task": false
    }
   },
   "source": [
    "**Instructions**:\n",
    "* Now use the `cross_validate_and_predict` function to calculate the performance and predictions for the new `adaboost_no_gender_pipeline`.\n",
    "* Print the `classification_report` and the `confusion_matrix` for the predictions.\n",
    "* Record and analyze these results in your Reflection section."
   ]
  },
  {
   "cell_type": "code",
   "execution_count": 92,
   "metadata": {
    "deletable": false,
    "nbgrader": {
     "cell_type": "code",
     "checksum": "18698facd33bac20e89be4005aaaa142",
     "grade": false,
     "grade_id": "cell-59cb3adb24ca1729",
     "locked": false,
     "schema_version": 3,
     "solution": true,
     "task": false
    }
   },
   "outputs": [
    {
     "name": "stdout",
     "output_type": "stream",
     "text": [
      "              precision    recall  f1-score   support\n",
      "\n",
      "           0       0.88      0.97      0.92       862\n",
      "           1       0.69      0.34      0.46       167\n",
      "\n",
      "    accuracy                           0.87      1029\n",
      "   macro avg       0.79      0.66      0.69      1029\n",
      "weighted avg       0.85      0.87      0.85      1029\n",
      "\n",
      "[[836  26]\n",
      " [110  57]]\n"
     ]
    },
    {
     "data": {
      "text/html": [
       "<div>\n",
       "<style scoped>\n",
       "    .dataframe tbody tr th:only-of-type {\n",
       "        vertical-align: middle;\n",
       "    }\n",
       "\n",
       "    .dataframe tbody tr th {\n",
       "        vertical-align: top;\n",
       "    }\n",
       "\n",
       "    .dataframe thead th {\n",
       "        text-align: right;\n",
       "    }\n",
       "</style>\n",
       "<table border=\"1\" class=\"dataframe\">\n",
       "  <thead>\n",
       "    <tr style=\"text-align: right;\">\n",
       "      <th></th>\n",
       "      <th>fold</th>\n",
       "      <th>accuracy</th>\n",
       "      <th>precision</th>\n",
       "      <th>recall</th>\n",
       "      <th>f1</th>\n",
       "      <th>roc_auc</th>\n",
       "      <th>average_precision</th>\n",
       "    </tr>\n",
       "  </thead>\n",
       "  <tbody>\n",
       "    <tr>\n",
       "      <th>0</th>\n",
       "      <td>1</td>\n",
       "      <td>0.791262</td>\n",
       "      <td>0.250000</td>\n",
       "      <td>0.151515</td>\n",
       "      <td>0.188679</td>\n",
       "      <td>0.532405</td>\n",
       "      <td>0.173801</td>\n",
       "    </tr>\n",
       "    <tr>\n",
       "      <th>1</th>\n",
       "      <td>2</td>\n",
       "      <td>0.815534</td>\n",
       "      <td>0.363636</td>\n",
       "      <td>0.250000</td>\n",
       "      <td>0.296296</td>\n",
       "      <td>0.584770</td>\n",
       "      <td>0.207414</td>\n",
       "    </tr>\n",
       "    <tr>\n",
       "      <th>2</th>\n",
       "      <td>3</td>\n",
       "      <td>0.800971</td>\n",
       "      <td>0.405405</td>\n",
       "      <td>0.441176</td>\n",
       "      <td>0.422535</td>\n",
       "      <td>0.656635</td>\n",
       "      <td>0.271088</td>\n",
       "    </tr>\n",
       "    <tr>\n",
       "      <th>3</th>\n",
       "      <td>4</td>\n",
       "      <td>0.820388</td>\n",
       "      <td>0.333333</td>\n",
       "      <td>0.233333</td>\n",
       "      <td>0.274510</td>\n",
       "      <td>0.576894</td>\n",
       "      <td>0.189428</td>\n",
       "    </tr>\n",
       "    <tr>\n",
       "      <th>4</th>\n",
       "      <td>5</td>\n",
       "      <td>0.809756</td>\n",
       "      <td>0.483871</td>\n",
       "      <td>0.394737</td>\n",
       "      <td>0.434783</td>\n",
       "      <td>0.649464</td>\n",
       "      <td>0.303197</td>\n",
       "    </tr>\n",
       "  </tbody>\n",
       "</table>\n",
       "</div>"
      ],
      "text/plain": [
       "   fold  accuracy  precision    recall        f1   roc_auc  average_precision\n",
       "0     1  0.791262   0.250000  0.151515  0.188679  0.532405           0.173801\n",
       "1     2  0.815534   0.363636  0.250000  0.296296  0.584770           0.207414\n",
       "2     3  0.800971   0.405405  0.441176  0.422535  0.656635           0.271088\n",
       "3     4  0.820388   0.333333  0.233333  0.274510  0.576894           0.189428\n",
       "4     5  0.809756   0.483871  0.394737  0.434783  0.649464           0.303197"
      ]
     },
     "execution_count": 92,
     "metadata": {},
     "output_type": "execute_result"
    }
   ],
   "source": [
    "no_gender_performance , no_gender_pred =  cross_validate_and_predict(\n",
    "    adaboost_no_gender_pipeline, X_train, y_train, scoring_metrics\n",
    ")\n",
    "\n",
    "print(classification_report(y_train, no_gender_pred))\n",
    "print(confusion_matrix(y_train, no_gender_pred))\n",
    "\n",
    "dt_performance"
   ]
  },
  {
   "cell_type": "code",
   "execution_count": 93,
   "metadata": {
    "deletable": false,
    "editable": false,
    "nbgrader": {
     "cell_type": "code",
     "checksum": "c133312a1060eeea9547a59c93bacf86",
     "grade": true,
     "grade_id": "cell-afa7a6e0f1480de4",
     "locked": true,
     "points": 1,
     "schema_version": 3,
     "solution": false,
     "task": false
    }
   },
   "outputs": [],
   "source": [
    "assert no_gender_performance.shape == (5, 7), \"The first returned value is the performance\"\n",
    "assert no_gender_pred.shape == y_train.shape, \"The second returned value is the predictions\""
   ]
  },
  {
   "cell_type": "markdown",
   "metadata": {
    "deletable": false,
    "editable": false,
    "nbgrader": {
     "cell_type": "markdown",
     "checksum": "db5a5a58efbef6c71693e51f7935b788",
     "grade": false,
     "grade_id": "cell-1984f1ca3d9cc870",
     "locked": true,
     "schema_version": 3,
     "solution": false,
     "task": false
    }
   },
   "source": [
    "Now we can plot the comparative performance of our original `adaboost_pipeline` compared with the new pipeline trained on data without the Gender attribute. Did it hurt performance to remove that attribute?"
   ]
  },
  {
   "cell_type": "code",
   "execution_count": 94,
   "metadata": {
    "deletable": false,
    "editable": false,
    "nbgrader": {
     "cell_type": "code",
     "checksum": "19e2e7b513612d62a9fa80b7b3224b04",
     "grade": false,
     "grade_id": "cell-60dbdd907bbb5911",
     "locked": true,
     "schema_version": 3,
     "solution": false,
     "task": false
    }
   },
   "outputs": [
    {
     "data": {
      "image/png": "[encoded data removed]",
      "text/plain": [
       "<Figure size 864x432 with 1 Axes>"
      ]
     },
     "metadata": {
      "needs_background": "light"
     },
     "output_type": "display_data"
    }
   ],
   "source": [
    "plot_performances([\n",
    "    ('AdaBoost', adaboost_performance),\n",
    "    ('AdaBoost No Gender', no_gender_performance)\n",
    "])"
   ]
  },
  {
   "cell_type": "markdown",
   "metadata": {
    "deletable": false,
    "editable": false,
    "nbgrader": {
     "cell_type": "markdown",
     "checksum": "e433894eebc7ae82512d9a71c85e30eb",
     "grade": false,
     "grade_id": "cell-710b359c61d01f49",
     "locked": true,
     "schema_version": 3,
     "solution": false,
     "task": false
    }
   },
   "source": [
    "Now let's evaluate whether removing gender also removed bias in the outcomes of the classifier.\n",
    "\n",
    "**Instructions**:\n",
    "* Evaluate the `equal_opportunity_difference` of the `no_gender_pred` predictions without the Gender attribute.\n",
    "* You can check your earlier code if you've forgotten how to calculate EOD."
   ]
  },
  {
   "cell_type": "code",
   "execution_count": 95,
   "metadata": {
    "deletable": false,
    "nbgrader": {
     "cell_type": "code",
     "checksum": "e61caa2a2fa4f29cd200bc342d51943d",
     "grade": false,
     "grade_id": "cell-5fac16861eb393b3",
     "locked": false,
     "schema_version": 3,
     "solution": true,
     "task": false
    }
   },
   "outputs": [
    {
     "data": {
      "text/plain": [
       "0.19108669108669107"
      ]
     },
     "execution_count": 95,
     "metadata": {},
     "output_type": "execute_result"
    }
   ],
   "source": [
    "eod_no_gender = equal_opportunity_difference(y_train, y_pred=no_gender_pred, prot_attr=is_male_train)\n",
    "\n",
    "eod_no_gender"
   ]
  },
  {
   "cell_type": "code",
   "execution_count": 96,
   "metadata": {
    "deletable": false,
    "editable": false,
    "nbgrader": {
     "cell_type": "code",
     "checksum": "0fa0ad2ef95c3a816b2c6d44ca8e26a8",
     "grade": true,
     "grade_id": "cell-35881de9eb3001b0",
     "locked": true,
     "points": 1,
     "schema_version": 3,
     "solution": false,
     "task": false
    }
   },
   "outputs": [],
   "source": [
    "assert eod_no_gender == equal_opportunity_difference(y_train, no_gender_pred, prot_attr=is_male_train)"
   ]
  },
  {
   "cell_type": "markdown",
   "metadata": {
    "deletable": false,
    "editable": false,
    "nbgrader": {
     "cell_type": "markdown",
     "checksum": "9454ac8163ae9a94a51dc900645b573d",
     "grade": false,
     "grade_id": "cell-c0c300cf85694578",
     "locked": true,
     "schema_version": 3,
     "solution": false,
     "task": false
    }
   },
   "source": [
    "It is much easier to evaluate the impact of this preprocessing step visually. The following function takes as input a list of `(\"Name\", predictions)` tuples (one for each classifier), the `y_train` true labels, and a binary vector of whether or not each instance is in the privileged class"
   ]
  },
  {
   "cell_type": "code",
   "execution_count": 97,
   "metadata": {
    "deletable": false,
    "editable": false,
    "nbgrader": {
     "cell_type": "code",
     "checksum": "93df91d97e97be9cbddcf3ddcb12879b",
     "grade": false,
     "grade_id": "cell-de097dc3b4cfc9c8",
     "locked": true,
     "schema_version": 3,
     "solution": false,
     "task": false
    }
   },
   "outputs": [],
   "source": [
    "from aif360.sklearn.metrics import average_odds_difference\n",
    "\n",
    "def visualize_bias(named_predictions, y_train, prot_attr_true):\n",
    "    results = []\n",
    "    for model_name, predictions in named_predictions:\n",
    "        spd = statistical_parity_difference(y_train, predictions, prot_attr=prot_attr_true)\n",
    "        results.append({'model': model_name, 'bias': spd, 'metric': 'SPD'})\n",
    "        dir = disparate_impact_ratio(y_train, predictions, prot_attr=prot_attr_true)\n",
    "        results.append({'model': model_name, 'bias': dir, 'metric': 'DIR'})\n",
    "        eod = equal_opportunity_difference(y_train, predictions, prot_attr=prot_attr_true)\n",
    "        results.append({'model': model_name, 'bias': eod, 'metric': 'EOD'})\n",
    "        aod = average_odds_difference(y_train, predictions, prot_attr=prot_attr_true)\n",
    "        results.append({'model': model_name, 'bias': aod, 'metric': 'AOD'})\n",
    "    results_df = pd.DataFrame(results)\n",
    "    plt.figure(figsize=(8, 6))\n",
    "    sns.barplot(data=results_df, x='metric', y='bias', hue='model')\n",
    "    plt.title('Bias Metrics')\n",
    "    plt.ylabel('Value')\n",
    "    plt.show()"
   ]
  },
  {
   "cell_type": "markdown",
   "metadata": {
    "deletable": false,
    "editable": false,
    "nbgrader": {
     "cell_type": "markdown",
     "checksum": "ab3d2fe52265eda9e033503a58f43c64",
     "grade": false,
     "grade_id": "cell-488555479fda5cf9",
     "locked": true,
     "schema_version": 3,
     "solution": false,
     "task": false
    }
   },
   "source": [
    "**Instructions**:\n",
    "* Run the following cell to compare the `adaboost_pipeline` to a version trained on data where the Gender attribute was removed.\n",
    "* Analyze the results in your Reflection section."
   ]
  },
  {
   "cell_type": "code",
   "execution_count": 98,
   "metadata": {
    "deletable": false,
    "editable": false,
    "nbgrader": {
     "cell_type": "code",
     "checksum": "fdc5151e26b790f2381e00e7ddfc37f2",
     "grade": false,
     "grade_id": "cell-ea74a699422a0bf6",
     "locked": true,
     "schema_version": 3,
     "solution": false,
     "task": false
    }
   },
   "outputs": [
    {
     "data": {
      "image/png": "[encoded data removed]",
      "text/plain": [
       "<Figure size 576x432 with 1 Axes>"
      ]
     },
     "metadata": {
      "needs_background": "light"
     },
     "output_type": "display_data"
    }
   ],
   "source": [
    "visualize_bias([\n",
    "    ('AdaBoost', adaboost_pred),\n",
    "    ('AdaBoost No Gender', no_gender_pred)\n",
    "], y_train, is_male_train)"
   ]
  },
  {
   "cell_type": "markdown",
   "metadata": {
    "deletable": false,
    "editable": false,
    "nbgrader": {
     "cell_type": "markdown",
     "checksum": "4f84b0c313f34adcdb69e3941f5c9787",
     "grade": false,
     "grade_id": "cell-236ab095aff9c367",
     "locked": true,
     "schema_version": 3,
     "solution": false,
     "task": false
    }
   },
   "source": [
    "The next technique we will try is a preprocessing step called Reweighing. It adjusts the sample weights to try to create a less biased classifier.\n",
    "\n",
    "**Sample weights** tell a learning algorithm like a decision tree how much weight to give each instance when learning a model. Samples with more weight affect decisions, like which attribute to split on, or which label to give a decision tree, more. This is very similar to how AdaBoost uses weights and weighted error when building its ensemble.\n",
    "\n",
    "Let's start by testing out the Reweighing preprocessing step. The following code calculated the adjusted weights for `X_train`, and then reports those weights, summarized by Gender and Attrition.\n",
    "\n",
    "**Instructions**:\n",
    "* Run the following code and analyze the results in your Reflection section.\n",
    "\n",
    "Relevant documentation:\n",
    "* [Reweighing](https://aif360.readthedocs.io/en/stable/modules/generated/aif360.sklearn.preprocessing.Reweighing.html)"
   ]
  },
  {
   "cell_type": "code",
   "execution_count": 99,
   "metadata": {},
   "outputs": [
    {
     "data": {
      "text/html": [
       "<div>\n",
       "<style scoped>\n",
       "    .dataframe tbody tr th:only-of-type {\n",
       "        vertical-align: middle;\n",
       "    }\n",
       "\n",
       "    .dataframe tbody tr th {\n",
       "        vertical-align: top;\n",
       "    }\n",
       "\n",
       "    .dataframe thead th {\n",
       "        text-align: right;\n",
       "    }\n",
       "</style>\n",
       "<table border=\"1\" class=\"dataframe\">\n",
       "  <thead>\n",
       "    <tr style=\"text-align: right;\">\n",
       "      <th></th>\n",
       "      <th></th>\n",
       "      <th>count</th>\n",
       "      <th>mean</th>\n",
       "      <th>std</th>\n",
       "      <th>min</th>\n",
       "      <th>25%</th>\n",
       "      <th>50%</th>\n",
       "      <th>75%</th>\n",
       "      <th>max</th>\n",
       "    </tr>\n",
       "    <tr>\n",
       "      <th>Gender</th>\n",
       "      <th>Attrition</th>\n",
       "      <th></th>\n",
       "      <th></th>\n",
       "      <th></th>\n",
       "      <th></th>\n",
       "      <th></th>\n",
       "      <th></th>\n",
       "      <th></th>\n",
       "      <th></th>\n",
       "    </tr>\n",
       "  </thead>\n",
       "  <tbody>\n",
       "    <tr>\n",
       "      <th rowspan=\"2\" valign=\"top\">Female</th>\n",
       "      <th>0</th>\n",
       "      <td>347.0</td>\n",
       "      <td>0.989797</td>\n",
       "      <td>2.223652e-16</td>\n",
       "      <td>0.989797</td>\n",
       "      <td>0.989797</td>\n",
       "      <td>0.989797</td>\n",
       "      <td>0.989797</td>\n",
       "      <td>0.989797</td>\n",
       "    </tr>\n",
       "    <tr>\n",
       "      <th>1</th>\n",
       "      <td>63.0</td>\n",
       "      <td>1.056196</td>\n",
       "      <td>2.238281e-16</td>\n",
       "      <td>1.056196</td>\n",
       "      <td>1.056196</td>\n",
       "      <td>1.056196</td>\n",
       "      <td>1.056196</td>\n",
       "      <td>1.056196</td>\n",
       "    </tr>\n",
       "    <tr>\n",
       "      <th rowspan=\"2\" valign=\"top\">Male</th>\n",
       "      <th>0</th>\n",
       "      <td>515.0</td>\n",
       "      <td>1.006874</td>\n",
       "      <td>2.222605e-16</td>\n",
       "      <td>1.006874</td>\n",
       "      <td>1.006874</td>\n",
       "      <td>1.006874</td>\n",
       "      <td>1.006874</td>\n",
       "      <td>1.006874</td>\n",
       "    </tr>\n",
       "    <tr>\n",
       "      <th>1</th>\n",
       "      <td>104.0</td>\n",
       "      <td>0.965958</td>\n",
       "      <td>0.000000e+00</td>\n",
       "      <td>0.965958</td>\n",
       "      <td>0.965958</td>\n",
       "      <td>0.965958</td>\n",
       "      <td>0.965958</td>\n",
       "      <td>0.965958</td>\n",
       "    </tr>\n",
       "  </tbody>\n",
       "</table>\n",
       "</div>"
      ],
      "text/plain": [
       "                  count      mean           std       min       25%       50%  \\\n",
       "Gender Attrition                                                                \n",
       "Female 0          347.0  0.989797  2.223652e-16  0.989797  0.989797  0.989797   \n",
       "       1           63.0  1.056196  2.238281e-16  1.056196  1.056196  1.056196   \n",
       "Male   0          515.0  1.006874  2.222605e-16  1.006874  1.006874  1.006874   \n",
       "       1          104.0  0.965958  0.000000e+00  0.965958  0.965958  0.965958   \n",
       "\n",
       "                       75%       max  \n",
       "Gender Attrition                      \n",
       "Female 0          0.989797  0.989797  \n",
       "       1          1.056196  1.056196  \n",
       "Male   0          1.006874  1.006874  \n",
       "       1          0.965958  0.965958  "
      ]
     },
     "execution_count": 99,
     "metadata": {},
     "output_type": "execute_result"
    }
   ],
   "source": [
    "from aif360.sklearn.preprocessing import Reweighing\n",
    "\n",
    "reweighing = Reweighing('Gender')\n",
    "_, sample_weights = reweighing.fit_transform(X_train, y_train)\n",
    "\n",
    "X_train_weighted = X_train.copy()\n",
    "X_train_weighted['Weight'] = sample_weights\n",
    "X_train_weighted['Attrition'] = y_train\n",
    "X_train_weighted.reset_index(inplace=True, drop=True)\n",
    "\n",
    "X_train_weighted.groupby(['Gender', 'Attrition']).Weight.describe()\n"
   ]
  },
  {
   "cell_type": "markdown",
   "metadata": {
    "deletable": false,
    "editable": false,
    "nbgrader": {
     "cell_type": "markdown",
     "checksum": "18da2ef6c26da531c77a0be130d71aed",
     "grade": false,
     "grade_id": "cell-8a5834a7734c963c",
     "locked": true,
     "schema_version": 3,
     "solution": false,
     "task": false
    }
   },
   "source": [
    "Because `Reweighing` returns sample weights, it does not work well with sklearn `Pipeline`s. Instead, the aif360 library provides a classifier called `ReweighinMeta` that wraps an existing classifier, like AdaBoost, and performs Reweighing right before training. We can then use this meta-classifier in an exisitng pipeline.\n",
    "\n",
    "**Instructions**:\n",
    "* Create a `ReweighingMeta` wrapper classifier called `reweighing_meta`.\n",
    "  * Use the AdaBoost `base_estimator` as the estimator.\n",
    "  * You do not need to provide a reweigher argument, since by default it will use the only protected attribute in our dataset: Gender.\n",
    "* Create a `reweighing_pipeline` that first runs the `preprocessing_pipeline` and then the `reweighing_meta` classifier.\n",
    "  * **Note**: Normally we cannot use `ReweighingMeta` with other sklearn preprocessing steps because they remove information about our protected attribute (Gender). That's why we  made a custom `preprocessing_pipeline` that keeps the data as a DataFrame with an index.\n",
    "\n",
    "Relevant documentation:\n",
    "* [ReweighingMeta](https://aif360.readthedocs.io/en/latest/modules/generated/aif360.sklearn.preprocessing.ReweighingMeta.html)"
   ]
  },
  {
   "cell_type": "code",
   "execution_count": 101,
   "metadata": {
    "deletable": false,
    "nbgrader": {
     "cell_type": "code",
     "checksum": "742b656daf0eab43a4203a752ad95528",
     "grade": false,
     "grade_id": "cell-e603165bcdd53a3e",
     "locked": false,
     "schema_version": 3,
     "solution": true,
     "task": false
    }
   },
   "outputs": [
    {
     "data": {
      "text/plain": [
       "Pipeline(steps=[('preprocessingtransformer', PreprocessingTransformer()),\n",
       "                ('reweighingmeta',\n",
       "                 ReweighingMeta(estimator=AdaBoostClassifier(learning_rate=0.75,\n",
       "                                                             n_estimators=60,\n",
       "                                                             random_state=1234)))])"
      ]
     },
     "execution_count": 101,
     "metadata": {},
     "output_type": "execute_result"
    }
   ],
   "source": [
    "from aif360.sklearn.preprocessing import ReweighingMeta, Reweighing\n",
    "\n",
    "base_estimator = AdaBoostClassifier(n_estimators=60, learning_rate=0.75, random_state=1234)\n",
    "\n",
    "# TODO: Create the ReweighingMeta classifier\n",
    "reweighing_meta = ReweighingMeta(base_estimator)\n",
    "# Create a pipeline with preprocessing_pipeline, then reweighing_meta\n",
    "reweighing_pipeline = make_pipeline(preprocessing_pipeline, reweighing_meta)\n",
    "\n",
    "\n",
    "\n",
    "reweighing_pipeline.fit(X_train, y_train)"
   ]
  },
  {
   "cell_type": "code",
   "execution_count": 102,
   "metadata": {
    "deletable": false,
    "editable": false,
    "nbgrader": {
     "cell_type": "code",
     "checksum": "ae5265cb29ed835fcc1b148aaedd5c7f",
     "grade": true,
     "grade_id": "cell-78362e08a8ab62ad",
     "locked": true,
     "points": 2,
     "schema_version": 3,
     "solution": false,
     "task": false
    }
   },
   "outputs": [],
   "source": [
    "assert reweighing_meta.estimator == base_estimator, \"Make sure you use the base_estimator as your estimator\"\n",
    "assert reweighing_pipeline.steps[0][1] == preprocessing_pipeline, \"Preprocessing comes first in the pipeline\"\n",
    "assert reweighing_pipeline.steps[1][1] == reweighing_meta, \"Your reweighing_meta comes second in the pipeline\""
   ]
  },
  {
   "cell_type": "markdown",
   "metadata": {
    "deletable": false,
    "editable": false,
    "nbgrader": {
     "cell_type": "markdown",
     "checksum": "36767727281a5c1926507e88dcb28eec",
     "grade": false,
     "grade_id": "cell-cfdd376372a54102",
     "locked": true,
     "schema_version": 3,
     "solution": false,
     "task": false
    }
   },
   "source": [
    "**Instructions**\n",
    "* Now calculate the performance and predictions of your `reweighing_pipeline` using `cross_validate_and_predict`.\n",
    "  * Remember you can look at your earlier code for how to calculate this.\n",
    "* Print the `classification_report` and `confusion_matrix`.\n",
    "* Analyze the results in your Reflection section."
   ]
  },
  {
   "cell_type": "code",
   "execution_count": 105,
   "metadata": {
    "deletable": false,
    "nbgrader": {
     "cell_type": "code",
     "checksum": "9a8c8e6a63995e85d58ed7b53691b88b",
     "grade": false,
     "grade_id": "cell-2e3a557ee57f511f",
     "locked": false,
     "schema_version": 3,
     "solution": true,
     "task": false
    }
   },
   "outputs": [
    {
     "name": "stdout",
     "output_type": "stream",
     "text": [
      "              precision    recall  f1-score   support\n",
      "\n",
      "           0       0.89      0.97      0.93       862\n",
      "           1       0.71      0.36      0.48       167\n",
      "\n",
      "    accuracy                           0.87      1029\n",
      "   macro avg       0.80      0.67      0.70      1029\n",
      "weighted avg       0.86      0.87      0.85      1029\n",
      "\n",
      "[[838  24]\n",
      " [107  60]]\n"
     ]
    }
   ],
   "source": [
    "# TODO: Calculate performance nad predictions\n",
    "reweighing_performance , reweighing_pred =  cross_validate_and_predict(\n",
    "    reweighing_pipeline, X_train, y_train, scoring_metrics\n",
    ")\n",
    "\n",
    "print(classification_report(y_train, reweighing_pred))\n",
    "print(confusion_matrix(y_train, reweighing_pred))"
   ]
  },
  {
   "cell_type": "code",
   "execution_count": 106,
   "metadata": {
    "deletable": false,
    "editable": false,
    "nbgrader": {
     "cell_type": "code",
     "checksum": "c1334b6df1996a370195a10fe60458bf",
     "grade": true,
     "grade_id": "cell-4cb6d89211cd4ba8",
     "locked": true,
     "points": 1,
     "schema_version": 3,
     "solution": false,
     "task": false
    }
   },
   "outputs": [],
   "source": [
    "assert reweighing_performance.shape == (5, 7), \"The first return result is the performance\"\n",
    "assert reweighing_pred.shape == y_train.shape, \"The second return result is the predictions\""
   ]
  },
  {
   "cell_type": "markdown",
   "metadata": {
    "deletable": false,
    "editable": false,
    "nbgrader": {
     "cell_type": "markdown",
     "checksum": "85413daf3676b27f2230a30066d2049e",
     "grade": false,
     "grade_id": "cell-855e86480770cc73",
     "locked": true,
     "schema_version": 3,
     "solution": false,
     "task": false
    }
   },
   "source": [
    "Now, let's plot the comparative performance of the 3 versions of AdaBoost, first in terms of raw performance, and then in terms of bias metrics."
   ]
  },
  {
   "cell_type": "code",
   "execution_count": 107,
   "metadata": {
    "deletable": false,
    "editable": false,
    "nbgrader": {
     "cell_type": "code",
     "checksum": "0b32ec79fd2441e3a7c5c846d40edf16",
     "grade": false,
     "grade_id": "cell-dd62df59d2d1c064",
     "locked": true,
     "schema_version": 3,
     "solution": false,
     "task": false
    }
   },
   "outputs": [
    {
     "data": {
      "image/png": "[encoded data removed]",
      "text/plain": [
       "<Figure size 864x432 with 1 Axes>"
      ]
     },
     "metadata": {
      "needs_background": "light"
     },
     "output_type": "display_data"
    }
   ],
   "source": [
    "plot_performances([\n",
    "    ('AdaBoost', adaboost_performance),\n",
    "    ('AdaBoost No Gender', no_gender_performance),\n",
    "    ('AdaBoost Reweighted', reweighing_performance)\n",
    "])"
   ]
  },
  {
   "cell_type": "code",
   "execution_count": 108,
   "metadata": {
    "deletable": false,
    "editable": false,
    "nbgrader": {
     "cell_type": "code",
     "checksum": "e52a8246604272f00f11a8c550f630ab",
     "grade": false,
     "grade_id": "cell-b26b022ba5eb9774",
     "locked": true,
     "schema_version": 3,
     "solution": false,
     "task": false
    }
   },
   "outputs": [
    {
     "data": {
      "image/png": "[encoded data removed]",
      "text/plain": [
       "<Figure size 576x432 with 1 Axes>"
      ]
     },
     "metadata": {
      "needs_background": "light"
     },
     "output_type": "display_data"
    }
   ],
   "source": [
    "visualize_bias([\n",
    "    ('AdaBoost', adaboost_pred),\n",
    "    ('AdaBoost No Gender', no_gender_pred),\n",
    "    ('AdaBoost Reweighted', reweighing_pred),\n",
    "], y_train, is_male_train)"
   ]
  },
  {
   "cell_type": "markdown",
   "metadata": {
    "deletable": false,
    "editable": false,
    "nbgrader": {
     "cell_type": "markdown",
     "checksum": "535f0c40b0c8893d59b63ebac3e94faf",
     "grade": false,
     "grade_id": "cell-df345b88a50aeb12",
     "locked": true,
     "schema_version": 3,
     "solution": false,
     "task": false
    }
   },
   "source": [
    "The final technique we will explore is a post-processing technique. Similarly to Reweighing, this technique requires a wrapper to work properly in a pipeline.\n",
    "\n",
    "We will explore the `CalibratedEqualizedOdds` post-processing technique. This technique alters the final predictions of a classifier (specifically *probabilities*) to enforce equal odds (similar TPR and FPR across groups) by randomly replacing some of those predictions with a base rate probability, which is calculated for each combination of class and protected group. The base rates are designed to create equal rates of false positives and false negatives in each group.\n",
    "\n",
    "**Instructions**:\n",
    "* Create a `CalibratedEqualizedOdds` post processor `ceo_post`, using a `random_state` of 1234. It can automatically infer the protected attribute (Gender) from the dataset.\n",
    "* Create a `PostProcessingMeta` using the AdaBoost `base_estimator` we created earlier as the estimator and the `ceo_post` as the post-processor.\n",
    "* Create a `ceo_pipeline` that first runs the `preprocessing_pipeline` and then the `ceo_meta` classifier.\n",
    "\n",
    "Relevant documentation:\n",
    "* [CalibratedEqualizedOdds](https://aif360.readthedocs.io/en/stable/modules/generated/aif360.sklearn.postprocessing.CalibratedEqualizedOdds.html)\n",
    "* [PostProcessingMeta](https://aif360.readthedocs.io/en/stable/modules/generated/aif360.sklearn.postprocessing.PostProcessingMeta.html#aif360.sklearn.postprocessing.PostProcessingMeta)"
   ]
  },
  {
   "cell_type": "code",
   "execution_count": 109,
   "metadata": {
    "deletable": false,
    "nbgrader": {
     "cell_type": "code",
     "checksum": "e688dca378669227b4f29c1380e19bf5",
     "grade": false,
     "grade_id": "cell-24609407d137f0de",
     "locked": false,
     "schema_version": 3,
     "solution": true,
     "task": false
    }
   },
   "outputs": [
    {
     "data": {
      "text/plain": [
       "Pipeline(steps=[('preprocessingtransformer', PreprocessingTransformer()),\n",
       "                ('postprocessingmeta',\n",
       "                 PostProcessingMeta(estimator=AdaBoostClassifier(learning_rate=0.75,\n",
       "                                                                 n_estimators=60,\n",
       "                                                                 random_state=1234),\n",
       "                                    postprocessor=CalibratedEqualizedOdds(random_state=1234)))])"
      ]
     },
     "execution_count": 109,
     "metadata": {},
     "output_type": "execute_result"
    }
   ],
   "source": [
    "from aif360.sklearn.postprocessing import CalibratedEqualizedOdds, PostProcessingMeta\n",
    "\n",
    "# TODO: Create the CalibratedEqualizedOdds post processor and PostProcessingMeta classifier\n",
    "ceo_post =  CalibratedEqualizedOdds(random_state=1234)\n",
    "ceo_meta = PostProcessingMeta(base_estimator, ceo_post)\n",
    "\n",
    "# Create a pipeline with preprocessing_pipeline, then ceo_meta\n",
    "ceo_pipeline =  make_pipeline(preprocessing_pipeline, ceo_meta)\n",
    "\n",
    "ceo_pipeline.fit(X_train, y_train)"
   ]
  },
  {
   "cell_type": "code",
   "execution_count": 110,
   "metadata": {
    "deletable": false,
    "editable": false,
    "nbgrader": {
     "cell_type": "code",
     "checksum": "bd62be152b3a20b3edc496d124a5bf27",
     "grade": true,
     "grade_id": "cell-6e68705afc66f82b",
     "locked": true,
     "points": 2,
     "schema_version": 3,
     "solution": false,
     "task": false
    }
   },
   "outputs": [],
   "source": [
    "assert ceo_post.random_state == 1234, \"Don't forget the random state\"\n",
    "assert ceo_meta.estimator == base_estimator, \"Make sure you use the base_estimator as your estimator\"\n",
    "assert ceo_pipeline.steps[0][1] == preprocessing_pipeline, \"Preprocessing comes first in the pipeline\"\n",
    "assert ceo_pipeline.steps[1][1] == ceo_meta, \"Your ceo_meta comes second in the pipeline\""
   ]
  },
  {
   "cell_type": "markdown",
   "metadata": {
    "deletable": false,
    "editable": false,
    "nbgrader": {
     "cell_type": "markdown",
     "checksum": "6a5d2ae99706991557826cd0025a2eb0",
     "grade": false,
     "grade_id": "cell-7a1db5be3a985ef7",
     "locked": true,
     "schema_version": 3,
     "solution": false,
     "task": false
    }
   },
   "source": [
    "**Instructions**\n",
    "* Now calculate the performance and predictions of your `ceo_pipeline` using `cross_validate_and_predict`.\n",
    "  * Remember you can look at your earlier code for how to calculate this.\n",
    "* Print the `classification_report` and `confusion_matrix`.\n",
    "* Analyze the results in your Reflection section."
   ]
  },
  {
   "cell_type": "code",
   "execution_count": 111,
   "metadata": {
    "deletable": false,
    "nbgrader": {
     "cell_type": "code",
     "checksum": "3d138f33bb665fdc8c23be71896f639d",
     "grade": false,
     "grade_id": "cell-6e288248b36b9ffe",
     "locked": false,
     "schema_version": 3,
     "solution": true,
     "task": false
    }
   },
   "outputs": [
    {
     "name": "stdout",
     "output_type": "stream",
     "text": [
      "              precision    recall  f1-score   support\n",
      "\n",
      "           0       0.88      0.97      0.92       862\n",
      "           1       0.66      0.34      0.44       167\n",
      "\n",
      "    accuracy                           0.86      1029\n",
      "   macro avg       0.77      0.65      0.68      1029\n",
      "weighted avg       0.85      0.86      0.84      1029\n",
      "\n",
      "[[833  29]\n",
      " [111  56]]\n"
     ]
    }
   ],
   "source": [
    "# TODO: Calculate performance nad predictions\n",
    "ceo_performance , ceo_pred = cross_validate_and_predict(\n",
    "    ceo_pipeline, X_train, y_train, scoring_metrics\n",
    ")\n",
    "\n",
    "print(classification_report(y_train, ceo_pred))\n",
    "print(confusion_matrix(y_train, ceo_pred))"
   ]
  },
  {
   "cell_type": "code",
   "execution_count": 112,
   "metadata": {
    "deletable": false,
    "editable": false,
    "nbgrader": {
     "cell_type": "code",
     "checksum": "ef625c17b9d86abd9507a883870cb64b",
     "grade": true,
     "grade_id": "cell-2cf5d3f54a43f455",
     "locked": true,
     "points": 1,
     "schema_version": 3,
     "solution": false,
     "task": false
    }
   },
   "outputs": [],
   "source": [
    "assert ceo_performance.shape == (5, 7), \"The first return result is the performance\"\n",
    "assert ceo_pred.shape == y_train.shape, \"The second return result is the predictions\""
   ]
  },
  {
   "cell_type": "markdown",
   "metadata": {
    "deletable": false,
    "editable": false,
    "nbgrader": {
     "cell_type": "markdown",
     "checksum": "cc6ff75b820ef0f660b38b30f86b5317",
     "grade": false,
     "grade_id": "cell-95ec6924ef8bfe65",
     "locked": true,
     "schema_version": 3,
     "solution": false,
     "task": false
    }
   },
   "source": [
    "Finally, let's plot the comparative performance of the all 4 versions of AdaBoost, first in terms of raw performance, and then in terms of bias metrics."
   ]
  },
  {
   "cell_type": "code",
   "execution_count": 113,
   "metadata": {
    "deletable": false,
    "editable": false,
    "nbgrader": {
     "cell_type": "code",
     "checksum": "f994c5530ecb049adbc65eea3b0b838c",
     "grade": false,
     "grade_id": "cell-c82e04031d1eb55c",
     "locked": true,
     "schema_version": 3,
     "solution": false,
     "task": false
    }
   },
   "outputs": [
    {
     "data": {
      "image/png": "[encoded data removed]",
      "text/plain": [
       "<Figure size 864x432 with 1 Axes>"
      ]
     },
     "metadata": {
      "needs_background": "light"
     },
     "output_type": "display_data"
    }
   ],
   "source": [
    "plot_performances([\n",
    "    ('AdaBoost', adaboost_performance),\n",
    "    ('AdaBoost No Gender', no_gender_performance),\n",
    "    ('AdaBoost Reweighted', reweighing_performance),\n",
    "    ('AdaBoost CEO', ceo_performance)\n",
    "])"
   ]
  },
  {
   "cell_type": "code",
   "execution_count": 114,
   "metadata": {
    "deletable": false,
    "editable": false,
    "nbgrader": {
     "cell_type": "code",
     "checksum": "58c6778e062cd6fcba2626d5078c49b3",
     "grade": false,
     "grade_id": "cell-aeb253f3d08f41c1",
     "locked": true,
     "schema_version": 3,
     "solution": false,
     "task": false
    }
   },
   "outputs": [
    {
     "data": {
      "image/png": "[encoded data removed]",
      "text/plain": [
       "<Figure size 576x432 with 1 Axes>"
      ]
     },
     "metadata": {
      "needs_background": "light"
     },
     "output_type": "display_data"
    }
   ],
   "source": [
    "visualize_bias([\n",
    "    ('AdaBoost', adaboost_pred),\n",
    "    ('AdaBoost No Gender', no_gender_pred),\n",
    "    ('AdaBoost Reweighted', reweighing_pred),\n",
    "    ('AdaBoost CEO', ceo_pred)\n",
    "], y_train, is_male_train)"
   ]
  },
  {
   "cell_type": "code",
   "execution_count": null,
   "metadata": {},
   "outputs": [],
   "source": [
    "ytrain"
   ]
  },
  {
   "cell_type": "code",
   "execution_count": null,
   "metadata": {},
   "outputs": [],
   "source": []
  },
  {
   "cell_type": "code",
   "execution_count": 116,
   "metadata": {},
   "outputs": [
    {
     "name": "stdout",
     "output_type": "stream",
     "text": [
      "The percentage of female workers with Attrition = True is 15.37%\n"
     ]
    }
   ],
   "source": [
    "# Step 1: Filter y_train for female workers\n",
    "female_attrition = y_train.loc['Female']\n",
    "\n",
    "# Step 2: Count the number of female workers with Attrition = 1\n",
    "female_attrition_true_count = (female_attrition == 1).sum()\n",
    "\n",
    "# Step 3: Calculate the total number of female workers\n",
    "total_female_count = len(female_attrition)\n",
    "\n",
    "# Step 4: Calculate the percentage\n",
    "percentage_female_attrition = (female_attrition_true_count / total_female_count) * 100\n",
    "\n",
    "# Step 5: Print the result\n",
    "print(f\"The percentage of female workers with Attrition = True is {percentage_female_attrition:.2f}%\")\n"
   ]
  },
  {
   "cell_type": "code",
   "execution_count": null,
   "metadata": {},
   "outputs": [],
   "source": []
  },
  {
   "cell_type": "markdown",
   "metadata": {},
   "source": [
    "**Remember**: Make sure to complete all problems (.ipynb files) in this assignment. When you finish, double-check the submission instructions at the top of this file, and submit on JupyterHub."
   ]
  }
 ],
 "metadata": {
  "kernelspec": {
   "display_name": "Python 3",
   "language": "python",
   "name": "python3"
  },
  "language_info": {
   "codemirror_mode": {
    "name": "ipython",
    "version": 3
   },
   "file_extension": ".py",
   "mimetype": "text/x-python",
   "name": "python",
   "nbconvert_exporter": "python",
   "pygments_lexer": "ipython3",
   "version": "3.7.3"
  }
 },
 "nbformat": 4,
 "nbformat_minor": 2
}
